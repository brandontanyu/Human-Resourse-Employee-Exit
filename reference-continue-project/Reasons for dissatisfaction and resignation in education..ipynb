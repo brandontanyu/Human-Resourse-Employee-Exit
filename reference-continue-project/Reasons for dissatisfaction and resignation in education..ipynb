{
 "cells": [
  {
   "cell_type": "markdown",
   "metadata": {},
   "source": [
    "# Queensland Department of Education, Training, and Employment Exit Survey"
   ]
  },
  {
   "cell_type": "markdown",
   "metadata": {},
   "source": [
    "## By Steven Dorsher"
   ]
  },
  {
   "cell_type": "markdown",
   "metadata": {},
   "source": [
    "This is a **DataQuest Guided Project** for the unit on data cleaning."
   ]
  },
  {
   "cell_type": "markdown",
   "metadata": {},
   "source": [
    "Question 1: Are employees who only worked for the institutes for a short period of time resigning due to some kind of dissatisfaction? What about employees who have been there longer?"
   ]
  },
  {
   "cell_type": "markdown",
   "metadata": {},
   "source": [
    "Question 2: Are younger employees resigning due to some kind of dissatisfaction? What about older employees?"
   ]
  },
  {
   "cell_type": "markdown",
   "metadata": {},
   "source": [
    "The (Queensland Department of Education, Training, and Employment)[https://en.wikipedia.org/wiki/Department_of_Education_(Queensland)] is responsible for primary and secondary education in Queensland. The (DETE exit survey)[https://data.gov.au/dataset/ds-qld-fe96ff30-d157-4a81-851d-215f2a0fe26d/details?q=exit%20survey] was given to teachers and other employees who left the department. This was based upon an original TAFE survey of a similar form, also given in similar circumstances. I will be examining data from both."
   ]
  },
  {
   "cell_type": "code",
   "execution_count": 1,
   "metadata": {},
   "outputs": [],
   "source": [
    "import pandas as pd"
   ]
  },
  {
   "cell_type": "code",
   "execution_count": 2,
   "metadata": {},
   "outputs": [],
   "source": [
    "dete_survey=pd.read_csv('dete_survey.csv')\n",
    "tafe_survey=pd.read_csv('tafe_survey.csv')"
   ]
  },
  {
   "cell_type": "code",
   "execution_count": 3,
   "metadata": {},
   "outputs": [
    {
     "name": "stdout",
     "output_type": "stream",
     "text": [
      "<class 'pandas.core.frame.DataFrame'>\n",
      "RangeIndex: 822 entries, 0 to 821\n",
      "Data columns (total 56 columns):\n",
      " #   Column                               Non-Null Count  Dtype \n",
      "---  ------                               --------------  ----- \n",
      " 0   ID                                   822 non-null    int64 \n",
      " 1   SeparationType                       822 non-null    object\n",
      " 2   Cease Date                           822 non-null    object\n",
      " 3   DETE Start Date                      822 non-null    object\n",
      " 4   Role Start Date                      822 non-null    object\n",
      " 5   Position                             817 non-null    object\n",
      " 6   Classification                       455 non-null    object\n",
      " 7   Region                               822 non-null    object\n",
      " 8   Business Unit                        126 non-null    object\n",
      " 9   Employment Status                    817 non-null    object\n",
      " 10  Career move to public sector         822 non-null    bool  \n",
      " 11  Career move to private sector        822 non-null    bool  \n",
      " 12  Interpersonal conflicts              822 non-null    bool  \n",
      " 13  Job dissatisfaction                  822 non-null    bool  \n",
      " 14  Dissatisfaction with the department  822 non-null    bool  \n",
      " 15  Physical work environment            822 non-null    bool  \n",
      " 16  Lack of recognition                  822 non-null    bool  \n",
      " 17  Lack of job security                 822 non-null    bool  \n",
      " 18  Work location                        822 non-null    bool  \n",
      " 19  Employment conditions                822 non-null    bool  \n",
      " 20  Maternity/family                     822 non-null    bool  \n",
      " 21  Relocation                           822 non-null    bool  \n",
      " 22  Study/Travel                         822 non-null    bool  \n",
      " 23  Ill Health                           822 non-null    bool  \n",
      " 24  Traumatic incident                   822 non-null    bool  \n",
      " 25  Work life balance                    822 non-null    bool  \n",
      " 26  Workload                             822 non-null    bool  \n",
      " 27  None of the above                    822 non-null    bool  \n",
      " 28  Professional Development             808 non-null    object\n",
      " 29  Opportunities for promotion          735 non-null    object\n",
      " 30  Staff morale                         816 non-null    object\n",
      " 31  Workplace issue                      788 non-null    object\n",
      " 32  Physical environment                 817 non-null    object\n",
      " 33  Worklife balance                     815 non-null    object\n",
      " 34  Stress and pressure support          810 non-null    object\n",
      " 35  Performance of supervisor            813 non-null    object\n",
      " 36  Peer support                         812 non-null    object\n",
      " 37  Initiative                           813 non-null    object\n",
      " 38  Skills                               811 non-null    object\n",
      " 39  Coach                                767 non-null    object\n",
      " 40  Career Aspirations                   746 non-null    object\n",
      " 41  Feedback                             792 non-null    object\n",
      " 42  Further PD                           768 non-null    object\n",
      " 43  Communication                        814 non-null    object\n",
      " 44  My say                               812 non-null    object\n",
      " 45  Information                          816 non-null    object\n",
      " 46  Kept informed                        813 non-null    object\n",
      " 47  Wellness programs                    766 non-null    object\n",
      " 48  Health & Safety                      793 non-null    object\n",
      " 49  Gender                               798 non-null    object\n",
      " 50  Age                                  811 non-null    object\n",
      " 51  Aboriginal                           16 non-null     object\n",
      " 52  Torres Strait                        3 non-null      object\n",
      " 53  South Sea                            7 non-null      object\n",
      " 54  Disability                           23 non-null     object\n",
      " 55  NESB                                 32 non-null     object\n",
      "dtypes: bool(18), int64(1), object(37)\n",
      "memory usage: 258.6+ KB\n"
     ]
    }
   ],
   "source": [
    "dete_survey.info()"
   ]
  },
  {
   "cell_type": "markdown",
   "metadata": {},
   "source": [
    "One integrer ID, 18 bool columns, 37 columns that are objects (probably strings). It looks like there are 822 rows. Business Unit, and the last four questions on diversity, have a lot of NaN's. Some other columns have as much as 75ish NaNs, and may need to be addressed."
   ]
  },
  {
   "cell_type": "code",
   "execution_count": 4,
   "metadata": {
    "scrolled": false
   },
   "outputs": [
    {
     "name": "stdout",
     "output_type": "stream",
     "text": [
      "<class 'pandas.core.frame.DataFrame'>\n",
      "RangeIndex: 702 entries, 0 to 701\n",
      "Data columns (total 72 columns):\n",
      " #   Column                                                                                                                                                         Non-Null Count  Dtype  \n",
      "---  ------                                                                                                                                                         --------------  -----  \n",
      " 0   Record ID                                                                                                                                                      702 non-null    float64\n",
      " 1   Institute                                                                                                                                                      702 non-null    object \n",
      " 2   WorkArea                                                                                                                                                       702 non-null    object \n",
      " 3   CESSATION YEAR                                                                                                                                                 695 non-null    float64\n",
      " 4   Reason for ceasing employment                                                                                                                                  701 non-null    object \n",
      " 5   Contributing Factors. Career Move - Public Sector                                                                                                              437 non-null    object \n",
      " 6   Contributing Factors. Career Move - Private Sector                                                                                                             437 non-null    object \n",
      " 7   Contributing Factors. Career Move - Self-employment                                                                                                            437 non-null    object \n",
      " 8   Contributing Factors. Ill Health                                                                                                                               437 non-null    object \n",
      " 9   Contributing Factors. Maternity/Family                                                                                                                         437 non-null    object \n",
      " 10  Contributing Factors. Dissatisfaction                                                                                                                          437 non-null    object \n",
      " 11  Contributing Factors. Job Dissatisfaction                                                                                                                      437 non-null    object \n",
      " 12  Contributing Factors. Interpersonal Conflict                                                                                                                   437 non-null    object \n",
      " 13  Contributing Factors. Study                                                                                                                                    437 non-null    object \n",
      " 14  Contributing Factors. Travel                                                                                                                                   437 non-null    object \n",
      " 15  Contributing Factors. Other                                                                                                                                    437 non-null    object \n",
      " 16  Contributing Factors. NONE                                                                                                                                     437 non-null    object \n",
      " 17  Main Factor. Which of these was the main factor for leaving?                                                                                                   113 non-null    object \n",
      " 18  InstituteViews. Topic:1. I feel the senior leadership had a clear vision and direction                                                                         608 non-null    object \n",
      " 19  InstituteViews. Topic:2. I was given access to skills training to help me do my job better                                                                     613 non-null    object \n",
      " 20  InstituteViews. Topic:3. I was given adequate opportunities for personal development                                                                           610 non-null    object \n",
      " 21  InstituteViews. Topic:4. I was given adequate opportunities for promotion within %Institute]Q25LBL%                                                            608 non-null    object \n",
      " 22  InstituteViews. Topic:5. I felt the salary for the job was right for the responsibilities I had                                                                615 non-null    object \n",
      " 23  InstituteViews. Topic:6. The organisation recognised when staff did good work                                                                                  607 non-null    object \n",
      " 24  InstituteViews. Topic:7. Management was generally supportive of me                                                                                             614 non-null    object \n",
      " 25  InstituteViews. Topic:8. Management was generally supportive of my team                                                                                        608 non-null    object \n",
      " 26  InstituteViews. Topic:9. I was kept informed of the changes in the organisation which would affect me                                                          610 non-null    object \n",
      " 27  InstituteViews. Topic:10. Staff morale was positive within the Institute                                                                                       602 non-null    object \n",
      " 28  InstituteViews. Topic:11. If I had a workplace issue it was dealt with quickly                                                                                 601 non-null    object \n",
      " 29  InstituteViews. Topic:12. If I had a workplace issue it was dealt with efficiently                                                                             597 non-null    object \n",
      " 30  InstituteViews. Topic:13. If I had a workplace issue it was dealt with discreetly                                                                              601 non-null    object \n",
      " 31  WorkUnitViews. Topic:14. I was satisfied with the quality of the management and supervision within my work unit                                                609 non-null    object \n",
      " 32  WorkUnitViews. Topic:15. I worked well with my colleagues                                                                                                      605 non-null    object \n",
      " 33  WorkUnitViews. Topic:16. My job was challenging and interesting                                                                                                607 non-null    object \n",
      " 34  WorkUnitViews. Topic:17. I was encouraged to use my initiative in the course of my work                                                                        610 non-null    object \n",
      " 35  WorkUnitViews. Topic:18. I had sufficient contact with other people in my job                                                                                  613 non-null    object \n",
      " 36  WorkUnitViews. Topic:19. I was given adequate support and co-operation by my peers to enable me to do my job                                                   609 non-null    object \n",
      " 37  WorkUnitViews. Topic:20. I was able to use the full range of my skills in my job                                                                               609 non-null    object \n",
      " 38  WorkUnitViews. Topic:21. I was able to use the full range of my abilities in my job. ; Category:Level of Agreement; Question:YOUR VIEWS ABOUT YOUR WORK UNIT]  608 non-null    object \n",
      " 39  WorkUnitViews. Topic:22. I was able to use the full range of my knowledge in my job                                                                            608 non-null    object \n",
      " 40  WorkUnitViews. Topic:23. My job provided sufficient variety                                                                                                    611 non-null    object \n",
      " 41  WorkUnitViews. Topic:24. I was able to cope with the level of stress and pressure in my job                                                                    610 non-null    object \n",
      " 42  WorkUnitViews. Topic:25. My job allowed me to balance the demands of work and family to my satisfaction                                                        611 non-null    object \n",
      " 43  WorkUnitViews. Topic:26. My supervisor gave me adequate personal recognition and feedback on my performance                                                    606 non-null    object \n",
      " 44  WorkUnitViews. Topic:27. My working environment was satisfactory e.g. sufficient space, good lighting, suitable seating and working area                       610 non-null    object \n",
      " 45  WorkUnitViews. Topic:28. I was given the opportunity to mentor and coach others in order for me to pass on my skills and knowledge prior to my cessation date  609 non-null    object \n",
      " 46  WorkUnitViews. Topic:29. There was adequate communication between staff in my unit                                                                             603 non-null    object \n",
      " 47  WorkUnitViews. Topic:30. Staff morale was positive within my work unit                                                                                         606 non-null    object \n",
      " 48  Induction. Did you undertake Workplace Induction?                                                                                                              619 non-null    object \n",
      " 49  InductionInfo. Topic:Did you undertake a Corporate Induction?                                                                                                  432 non-null    object \n",
      " 50  InductionInfo. Topic:Did you undertake a Institute Induction?                                                                                                  483 non-null    object \n",
      " 51  InductionInfo. Topic: Did you undertake Team Induction?                                                                                                        440 non-null    object \n",
      " 52  InductionInfo. Face to Face Topic:Did you undertake a Corporate Induction; Category:How it was conducted?                                                      555 non-null    object \n",
      " 53  InductionInfo. On-line Topic:Did you undertake a Corporate Induction; Category:How it was conducted?                                                           555 non-null    object \n",
      " 54  InductionInfo. Induction Manual Topic:Did you undertake a Corporate Induction?                                                                                 555 non-null    object \n",
      " 55  InductionInfo. Face to Face Topic:Did you undertake a Institute Induction?                                                                                     530 non-null    object \n",
      " 56  InductionInfo. On-line Topic:Did you undertake a Institute Induction?                                                                                          555 non-null    object \n",
      " 57  InductionInfo. Induction Manual Topic:Did you undertake a Institute Induction?                                                                                 553 non-null    object \n",
      " 58  InductionInfo. Face to Face Topic: Did you undertake Team Induction; Category?                                                                                 555 non-null    object \n",
      " 59  InductionInfo. On-line Topic: Did you undertake Team Induction?process you undertook and how it was conducted.]                                                555 non-null    object \n",
      " 60  InductionInfo. Induction Manual Topic: Did you undertake Team Induction?                                                                                       555 non-null    object \n",
      " 61  Workplace. Topic:Did you and your Manager develop a Performance and Professional Development Plan (PPDP)?                                                      608 non-null    object \n",
      " 62  Workplace. Topic:Does your workplace promote a work culture free from all forms of unlawful discrimination?                                                    594 non-null    object \n",
      " 63  Workplace. Topic:Does your workplace promote and practice the principles of employment equity?                                                                 587 non-null    object \n",
      " 64  Workplace. Topic:Does your workplace value the diversity of its employees?                                                                                     586 non-null    object \n",
      " 65  Workplace. Topic:Would you recommend the Institute as an employer to others?                                                                                   581 non-null    object \n",
      " 66  Gender. What is your Gender?                                                                                                                                   596 non-null    object \n",
      " 67  CurrentAge. Current Age                                                                                                                                        596 non-null    object \n",
      " 68  Employment Type. Employment Type                                                                                                                               596 non-null    object \n",
      " 69  Classification. Classification                                                                                                                                 596 non-null    object \n",
      " 70  LengthofServiceOverall. Overall Length of Service at Institute (in years)                                                                                      596 non-null    object \n",
      " 71  LengthofServiceCurrent. Length of Service at current workplace (in years)                                                                                      596 non-null    object \n",
      "dtypes: float64(2), object(70)\n",
      "memory usage: 395.0+ KB\n"
     ]
    }
   ],
   "source": [
    "tafe_survey.info()"
   ]
  },
  {
   "cell_type": "markdown",
   "metadata": {},
   "source": [
    "702 rows, 72 columns. Record ID is a float rather than an integer in this table. There are no boolean columns. Several columns have as much as 1/3 NaN's. ContributingFactors all have exactly 437 non-null values. MainFactor has 113. Other columns have fewer NaN's but still as much as 150ish NaN values."
   ]
  },
  {
   "cell_type": "code",
   "execution_count": 5,
   "metadata": {},
   "outputs": [
    {
     "data": {
      "text/html": [
       "<div>\n",
       "<style scoped>\n",
       "    .dataframe tbody tr th:only-of-type {\n",
       "        vertical-align: middle;\n",
       "    }\n",
       "\n",
       "    .dataframe tbody tr th {\n",
       "        vertical-align: top;\n",
       "    }\n",
       "\n",
       "    .dataframe thead th {\n",
       "        text-align: right;\n",
       "    }\n",
       "</style>\n",
       "<table border=\"1\" class=\"dataframe\">\n",
       "  <thead>\n",
       "    <tr style=\"text-align: right;\">\n",
       "      <th></th>\n",
       "      <th>ID</th>\n",
       "      <th>SeparationType</th>\n",
       "      <th>Cease Date</th>\n",
       "      <th>DETE Start Date</th>\n",
       "      <th>Role Start Date</th>\n",
       "      <th>Position</th>\n",
       "      <th>Classification</th>\n",
       "      <th>Region</th>\n",
       "      <th>Business Unit</th>\n",
       "      <th>Employment Status</th>\n",
       "      <th>...</th>\n",
       "      <th>Kept informed</th>\n",
       "      <th>Wellness programs</th>\n",
       "      <th>Health &amp; Safety</th>\n",
       "      <th>Gender</th>\n",
       "      <th>Age</th>\n",
       "      <th>Aboriginal</th>\n",
       "      <th>Torres Strait</th>\n",
       "      <th>South Sea</th>\n",
       "      <th>Disability</th>\n",
       "      <th>NESB</th>\n",
       "    </tr>\n",
       "  </thead>\n",
       "  <tbody>\n",
       "    <tr>\n",
       "      <th>0</th>\n",
       "      <td>1</td>\n",
       "      <td>Ill Health Retirement</td>\n",
       "      <td>08/2012</td>\n",
       "      <td>1984</td>\n",
       "      <td>2004</td>\n",
       "      <td>Public Servant</td>\n",
       "      <td>A01-A04</td>\n",
       "      <td>Central Office</td>\n",
       "      <td>Corporate Strategy and Peformance</td>\n",
       "      <td>Permanent Full-time</td>\n",
       "      <td>...</td>\n",
       "      <td>N</td>\n",
       "      <td>N</td>\n",
       "      <td>N</td>\n",
       "      <td>Male</td>\n",
       "      <td>56-60</td>\n",
       "      <td>NaN</td>\n",
       "      <td>NaN</td>\n",
       "      <td>NaN</td>\n",
       "      <td>NaN</td>\n",
       "      <td>Yes</td>\n",
       "    </tr>\n",
       "    <tr>\n",
       "      <th>1</th>\n",
       "      <td>2</td>\n",
       "      <td>Voluntary Early Retirement (VER)</td>\n",
       "      <td>08/2012</td>\n",
       "      <td>Not Stated</td>\n",
       "      <td>Not Stated</td>\n",
       "      <td>Public Servant</td>\n",
       "      <td>AO5-AO7</td>\n",
       "      <td>Central Office</td>\n",
       "      <td>Corporate Strategy and Peformance</td>\n",
       "      <td>Permanent Full-time</td>\n",
       "      <td>...</td>\n",
       "      <td>N</td>\n",
       "      <td>N</td>\n",
       "      <td>N</td>\n",
       "      <td>Male</td>\n",
       "      <td>56-60</td>\n",
       "      <td>NaN</td>\n",
       "      <td>NaN</td>\n",
       "      <td>NaN</td>\n",
       "      <td>NaN</td>\n",
       "      <td>NaN</td>\n",
       "    </tr>\n",
       "    <tr>\n",
       "      <th>2</th>\n",
       "      <td>3</td>\n",
       "      <td>Voluntary Early Retirement (VER)</td>\n",
       "      <td>05/2012</td>\n",
       "      <td>2011</td>\n",
       "      <td>2011</td>\n",
       "      <td>Schools Officer</td>\n",
       "      <td>NaN</td>\n",
       "      <td>Central Office</td>\n",
       "      <td>Education Queensland</td>\n",
       "      <td>Permanent Full-time</td>\n",
       "      <td>...</td>\n",
       "      <td>N</td>\n",
       "      <td>N</td>\n",
       "      <td>N</td>\n",
       "      <td>Male</td>\n",
       "      <td>61 or older</td>\n",
       "      <td>NaN</td>\n",
       "      <td>NaN</td>\n",
       "      <td>NaN</td>\n",
       "      <td>NaN</td>\n",
       "      <td>NaN</td>\n",
       "    </tr>\n",
       "    <tr>\n",
       "      <th>3</th>\n",
       "      <td>4</td>\n",
       "      <td>Resignation-Other reasons</td>\n",
       "      <td>05/2012</td>\n",
       "      <td>2005</td>\n",
       "      <td>2006</td>\n",
       "      <td>Teacher</td>\n",
       "      <td>Primary</td>\n",
       "      <td>Central Queensland</td>\n",
       "      <td>NaN</td>\n",
       "      <td>Permanent Full-time</td>\n",
       "      <td>...</td>\n",
       "      <td>A</td>\n",
       "      <td>N</td>\n",
       "      <td>A</td>\n",
       "      <td>Female</td>\n",
       "      <td>36-40</td>\n",
       "      <td>NaN</td>\n",
       "      <td>NaN</td>\n",
       "      <td>NaN</td>\n",
       "      <td>NaN</td>\n",
       "      <td>NaN</td>\n",
       "    </tr>\n",
       "    <tr>\n",
       "      <th>4</th>\n",
       "      <td>5</td>\n",
       "      <td>Age Retirement</td>\n",
       "      <td>05/2012</td>\n",
       "      <td>1970</td>\n",
       "      <td>1989</td>\n",
       "      <td>Head of Curriculum/Head of Special Education</td>\n",
       "      <td>NaN</td>\n",
       "      <td>South East</td>\n",
       "      <td>NaN</td>\n",
       "      <td>Permanent Full-time</td>\n",
       "      <td>...</td>\n",
       "      <td>N</td>\n",
       "      <td>A</td>\n",
       "      <td>M</td>\n",
       "      <td>Female</td>\n",
       "      <td>61 or older</td>\n",
       "      <td>NaN</td>\n",
       "      <td>NaN</td>\n",
       "      <td>NaN</td>\n",
       "      <td>NaN</td>\n",
       "      <td>NaN</td>\n",
       "    </tr>\n",
       "  </tbody>\n",
       "</table>\n",
       "<p>5 rows × 56 columns</p>\n",
       "</div>"
      ],
      "text/plain": [
       "   ID                    SeparationType Cease Date DETE Start Date  \\\n",
       "0   1             Ill Health Retirement    08/2012            1984   \n",
       "1   2  Voluntary Early Retirement (VER)    08/2012      Not Stated   \n",
       "2   3  Voluntary Early Retirement (VER)    05/2012            2011   \n",
       "3   4         Resignation-Other reasons    05/2012            2005   \n",
       "4   5                    Age Retirement    05/2012            1970   \n",
       "\n",
       "  Role Start Date                                      Position  \\\n",
       "0            2004                                Public Servant   \n",
       "1      Not Stated                                Public Servant   \n",
       "2            2011                               Schools Officer   \n",
       "3            2006                                       Teacher   \n",
       "4            1989  Head of Curriculum/Head of Special Education   \n",
       "\n",
       "  Classification              Region                      Business Unit  \\\n",
       "0        A01-A04      Central Office  Corporate Strategy and Peformance   \n",
       "1        AO5-AO7      Central Office  Corporate Strategy and Peformance   \n",
       "2            NaN      Central Office               Education Queensland   \n",
       "3        Primary  Central Queensland                                NaN   \n",
       "4            NaN          South East                                NaN   \n",
       "\n",
       "     Employment Status  ...  Kept informed  Wellness programs  \\\n",
       "0  Permanent Full-time  ...              N                  N   \n",
       "1  Permanent Full-time  ...              N                  N   \n",
       "2  Permanent Full-time  ...              N                  N   \n",
       "3  Permanent Full-time  ...              A                  N   \n",
       "4  Permanent Full-time  ...              N                  A   \n",
       "\n",
       "   Health & Safety  Gender          Age  Aboriginal  Torres Strait  South Sea  \\\n",
       "0                N    Male        56-60         NaN            NaN        NaN   \n",
       "1                N    Male        56-60         NaN            NaN        NaN   \n",
       "2                N    Male  61 or older         NaN            NaN        NaN   \n",
       "3                A  Female        36-40         NaN            NaN        NaN   \n",
       "4                M  Female  61 or older         NaN            NaN        NaN   \n",
       "\n",
       "   Disability  NESB  \n",
       "0         NaN   Yes  \n",
       "1         NaN   NaN  \n",
       "2         NaN   NaN  \n",
       "3         NaN   NaN  \n",
       "4         NaN   NaN  \n",
       "\n",
       "[5 rows x 56 columns]"
      ]
     },
     "execution_count": 5,
     "metadata": {},
     "output_type": "execute_result"
    }
   ],
   "source": [
    "dete_survey.head(5)"
   ]
  },
  {
   "cell_type": "code",
   "execution_count": 6,
   "metadata": {},
   "outputs": [
    {
     "data": {
      "text/html": [
       "<div>\n",
       "<style scoped>\n",
       "    .dataframe tbody tr th:only-of-type {\n",
       "        vertical-align: middle;\n",
       "    }\n",
       "\n",
       "    .dataframe tbody tr th {\n",
       "        vertical-align: top;\n",
       "    }\n",
       "\n",
       "    .dataframe thead th {\n",
       "        text-align: right;\n",
       "    }\n",
       "</style>\n",
       "<table border=\"1\" class=\"dataframe\">\n",
       "  <thead>\n",
       "    <tr style=\"text-align: right;\">\n",
       "      <th></th>\n",
       "      <th>Record ID</th>\n",
       "      <th>Institute</th>\n",
       "      <th>WorkArea</th>\n",
       "      <th>CESSATION YEAR</th>\n",
       "      <th>Reason for ceasing employment</th>\n",
       "      <th>Contributing Factors. Career Move - Public Sector</th>\n",
       "      <th>Contributing Factors. Career Move - Private Sector</th>\n",
       "      <th>Contributing Factors. Career Move - Self-employment</th>\n",
       "      <th>Contributing Factors. Ill Health</th>\n",
       "      <th>Contributing Factors. Maternity/Family</th>\n",
       "      <th>...</th>\n",
       "      <th>Workplace. Topic:Does your workplace promote a work culture free from all forms of unlawful discrimination?</th>\n",
       "      <th>Workplace. Topic:Does your workplace promote and practice the principles of employment equity?</th>\n",
       "      <th>Workplace. Topic:Does your workplace value the diversity of its employees?</th>\n",
       "      <th>Workplace. Topic:Would you recommend the Institute as an employer to others?</th>\n",
       "      <th>Gender. What is your Gender?</th>\n",
       "      <th>CurrentAge. Current Age</th>\n",
       "      <th>Employment Type. Employment Type</th>\n",
       "      <th>Classification. Classification</th>\n",
       "      <th>LengthofServiceOverall. Overall Length of Service at Institute (in years)</th>\n",
       "      <th>LengthofServiceCurrent. Length of Service at current workplace (in years)</th>\n",
       "    </tr>\n",
       "  </thead>\n",
       "  <tbody>\n",
       "    <tr>\n",
       "      <th>0</th>\n",
       "      <td>6.341330e+17</td>\n",
       "      <td>Southern Queensland Institute of TAFE</td>\n",
       "      <td>Non-Delivery (corporate)</td>\n",
       "      <td>2010.0</td>\n",
       "      <td>Contract Expired</td>\n",
       "      <td>NaN</td>\n",
       "      <td>NaN</td>\n",
       "      <td>NaN</td>\n",
       "      <td>NaN</td>\n",
       "      <td>NaN</td>\n",
       "      <td>...</td>\n",
       "      <td>Yes</td>\n",
       "      <td>Yes</td>\n",
       "      <td>Yes</td>\n",
       "      <td>Yes</td>\n",
       "      <td>Female</td>\n",
       "      <td>26  30</td>\n",
       "      <td>Temporary Full-time</td>\n",
       "      <td>Administration (AO)</td>\n",
       "      <td>1-2</td>\n",
       "      <td>1-2</td>\n",
       "    </tr>\n",
       "    <tr>\n",
       "      <th>1</th>\n",
       "      <td>6.341337e+17</td>\n",
       "      <td>Mount Isa Institute of TAFE</td>\n",
       "      <td>Non-Delivery (corporate)</td>\n",
       "      <td>2010.0</td>\n",
       "      <td>Retirement</td>\n",
       "      <td>-</td>\n",
       "      <td>-</td>\n",
       "      <td>-</td>\n",
       "      <td>-</td>\n",
       "      <td>-</td>\n",
       "      <td>...</td>\n",
       "      <td>Yes</td>\n",
       "      <td>Yes</td>\n",
       "      <td>Yes</td>\n",
       "      <td>Yes</td>\n",
       "      <td>NaN</td>\n",
       "      <td>NaN</td>\n",
       "      <td>NaN</td>\n",
       "      <td>NaN</td>\n",
       "      <td>NaN</td>\n",
       "      <td>NaN</td>\n",
       "    </tr>\n",
       "    <tr>\n",
       "      <th>2</th>\n",
       "      <td>6.341388e+17</td>\n",
       "      <td>Mount Isa Institute of TAFE</td>\n",
       "      <td>Delivery (teaching)</td>\n",
       "      <td>2010.0</td>\n",
       "      <td>Retirement</td>\n",
       "      <td>-</td>\n",
       "      <td>-</td>\n",
       "      <td>-</td>\n",
       "      <td>-</td>\n",
       "      <td>-</td>\n",
       "      <td>...</td>\n",
       "      <td>Yes</td>\n",
       "      <td>Yes</td>\n",
       "      <td>Yes</td>\n",
       "      <td>Yes</td>\n",
       "      <td>NaN</td>\n",
       "      <td>NaN</td>\n",
       "      <td>NaN</td>\n",
       "      <td>NaN</td>\n",
       "      <td>NaN</td>\n",
       "      <td>NaN</td>\n",
       "    </tr>\n",
       "    <tr>\n",
       "      <th>3</th>\n",
       "      <td>6.341399e+17</td>\n",
       "      <td>Mount Isa Institute of TAFE</td>\n",
       "      <td>Non-Delivery (corporate)</td>\n",
       "      <td>2010.0</td>\n",
       "      <td>Resignation</td>\n",
       "      <td>-</td>\n",
       "      <td>-</td>\n",
       "      <td>-</td>\n",
       "      <td>-</td>\n",
       "      <td>-</td>\n",
       "      <td>...</td>\n",
       "      <td>Yes</td>\n",
       "      <td>Yes</td>\n",
       "      <td>Yes</td>\n",
       "      <td>Yes</td>\n",
       "      <td>NaN</td>\n",
       "      <td>NaN</td>\n",
       "      <td>NaN</td>\n",
       "      <td>NaN</td>\n",
       "      <td>NaN</td>\n",
       "      <td>NaN</td>\n",
       "    </tr>\n",
       "    <tr>\n",
       "      <th>4</th>\n",
       "      <td>6.341466e+17</td>\n",
       "      <td>Southern Queensland Institute of TAFE</td>\n",
       "      <td>Delivery (teaching)</td>\n",
       "      <td>2010.0</td>\n",
       "      <td>Resignation</td>\n",
       "      <td>-</td>\n",
       "      <td>Career Move - Private Sector</td>\n",
       "      <td>-</td>\n",
       "      <td>-</td>\n",
       "      <td>-</td>\n",
       "      <td>...</td>\n",
       "      <td>Yes</td>\n",
       "      <td>Yes</td>\n",
       "      <td>Yes</td>\n",
       "      <td>Yes</td>\n",
       "      <td>Male</td>\n",
       "      <td>41  45</td>\n",
       "      <td>Permanent Full-time</td>\n",
       "      <td>Teacher (including LVT)</td>\n",
       "      <td>3-4</td>\n",
       "      <td>3-4</td>\n",
       "    </tr>\n",
       "  </tbody>\n",
       "</table>\n",
       "<p>5 rows × 72 columns</p>\n",
       "</div>"
      ],
      "text/plain": [
       "      Record ID                              Institute  \\\n",
       "0  6.341330e+17  Southern Queensland Institute of TAFE   \n",
       "1  6.341337e+17            Mount Isa Institute of TAFE   \n",
       "2  6.341388e+17            Mount Isa Institute of TAFE   \n",
       "3  6.341399e+17            Mount Isa Institute of TAFE   \n",
       "4  6.341466e+17  Southern Queensland Institute of TAFE   \n",
       "\n",
       "                   WorkArea  CESSATION YEAR Reason for ceasing employment  \\\n",
       "0  Non-Delivery (corporate)          2010.0              Contract Expired   \n",
       "1  Non-Delivery (corporate)          2010.0                    Retirement   \n",
       "2       Delivery (teaching)          2010.0                    Retirement   \n",
       "3  Non-Delivery (corporate)          2010.0                   Resignation   \n",
       "4       Delivery (teaching)          2010.0                   Resignation   \n",
       "\n",
       "  Contributing Factors. Career Move - Public Sector   \\\n",
       "0                                                NaN   \n",
       "1                                                  -   \n",
       "2                                                  -   \n",
       "3                                                  -   \n",
       "4                                                  -   \n",
       "\n",
       "  Contributing Factors. Career Move - Private Sector   \\\n",
       "0                                                NaN    \n",
       "1                                                  -    \n",
       "2                                                  -    \n",
       "3                                                  -    \n",
       "4                       Career Move - Private Sector    \n",
       "\n",
       "  Contributing Factors. Career Move - Self-employment  \\\n",
       "0                                                NaN    \n",
       "1                                                  -    \n",
       "2                                                  -    \n",
       "3                                                  -    \n",
       "4                                                  -    \n",
       "\n",
       "  Contributing Factors. Ill Health Contributing Factors. Maternity/Family  \\\n",
       "0                              NaN                                    NaN   \n",
       "1                                -                                      -   \n",
       "2                                -                                      -   \n",
       "3                                -                                      -   \n",
       "4                                -                                      -   \n",
       "\n",
       "   ...  \\\n",
       "0  ...   \n",
       "1  ...   \n",
       "2  ...   \n",
       "3  ...   \n",
       "4  ...   \n",
       "\n",
       "  Workplace. Topic:Does your workplace promote a work culture free from all forms of unlawful discrimination?  \\\n",
       "0                                                Yes                                                            \n",
       "1                                                Yes                                                            \n",
       "2                                                Yes                                                            \n",
       "3                                                Yes                                                            \n",
       "4                                                Yes                                                            \n",
       "\n",
       "  Workplace. Topic:Does your workplace promote and practice the principles of employment equity?  \\\n",
       "0                                                Yes                                               \n",
       "1                                                Yes                                               \n",
       "2                                                Yes                                               \n",
       "3                                                Yes                                               \n",
       "4                                                Yes                                               \n",
       "\n",
       "  Workplace. Topic:Does your workplace value the diversity of its employees?  \\\n",
       "0                                                Yes                           \n",
       "1                                                Yes                           \n",
       "2                                                Yes                           \n",
       "3                                                Yes                           \n",
       "4                                                Yes                           \n",
       "\n",
       "  Workplace. Topic:Would you recommend the Institute as an employer to others?  \\\n",
       "0                                                Yes                             \n",
       "1                                                Yes                             \n",
       "2                                                Yes                             \n",
       "3                                                Yes                             \n",
       "4                                                Yes                             \n",
       "\n",
       "  Gender. What is your Gender? CurrentAge. Current Age  \\\n",
       "0                       Female                  26  30   \n",
       "1                          NaN                     NaN   \n",
       "2                          NaN                     NaN   \n",
       "3                          NaN                     NaN   \n",
       "4                         Male                  41  45   \n",
       "\n",
       "  Employment Type. Employment Type Classification. Classification  \\\n",
       "0              Temporary Full-time            Administration (AO)   \n",
       "1                              NaN                            NaN   \n",
       "2                              NaN                            NaN   \n",
       "3                              NaN                            NaN   \n",
       "4              Permanent Full-time        Teacher (including LVT)   \n",
       "\n",
       "  LengthofServiceOverall. Overall Length of Service at Institute (in years)  \\\n",
       "0                                                1-2                          \n",
       "1                                                NaN                          \n",
       "2                                                NaN                          \n",
       "3                                                NaN                          \n",
       "4                                                3-4                          \n",
       "\n",
       "  LengthofServiceCurrent. Length of Service at current workplace (in years)  \n",
       "0                                                1-2                         \n",
       "1                                                NaN                         \n",
       "2                                                NaN                         \n",
       "3                                                NaN                         \n",
       "4                                                3-4                         \n",
       "\n",
       "[5 rows x 72 columns]"
      ]
     },
     "execution_count": 6,
     "metadata": {},
     "output_type": "execute_result"
    }
   ],
   "source": [
    "tafe_survey.head(5)"
   ]
  },
  {
   "cell_type": "code",
   "execution_count": 7,
   "metadata": {},
   "outputs": [
    {
     "data": {
      "text/plain": [
       "Education Queensland                          54\n",
       "Information and Technologies                  26\n",
       "Training and Tertiary Education Queensland    12\n",
       "Other                                         11\n",
       "Human Resources                                6\n",
       "Corporate Strategy and Peformance              5\n",
       "Early Childhood Education and Care             3\n",
       "Infrastructure                                 2\n",
       "Policy, Research, Legislation                  2\n",
       "Indigenous Education and Training Futures      1\n",
       "Corporate Procurement                          1\n",
       "Pacific Pines SHS                              1\n",
       "Finance                                        1\n",
       "Calliope State School                          1\n",
       "Name: Business Unit, dtype: int64"
      ]
     },
     "execution_count": 7,
     "metadata": {},
     "output_type": "execute_result"
    }
   ],
   "source": [
    "dete_survey['Business Unit'].value_counts()"
   ]
  },
  {
   "cell_type": "code",
   "execution_count": 8,
   "metadata": {},
   "outputs": [
    {
     "data": {
      "text/plain": [
       "Brisbane North Institute of TAFE         161\n",
       "Southern Queensland Institute of TAFE    142\n",
       "Central Queensland Institute of TAFE     108\n",
       "Sunshine Coast Institute of TAFE          91\n",
       "Tropical North Institute of TAFE          70\n",
       "SkillsTech Australia                      57\n",
       "Southbank Institute of Technology         43\n",
       "Barrier Reef Institute of TAFE            14\n",
       "Mount Isa Institute of TAFE               12\n",
       "Wide Bay Institute of TAFE                 2\n",
       "The Bremer Institute of TAFE               1\n",
       "Metropolitan South Institute of TAFE       1\n",
       "Name: Institute, dtype: int64"
      ]
     },
     "execution_count": 8,
     "metadata": {},
     "output_type": "execute_result"
    }
   ],
   "source": [
    "tafe_survey['Institute'].value_counts()"
   ]
  },
  {
   "cell_type": "code",
   "execution_count": 9,
   "metadata": {},
   "outputs": [
    {
     "data": {
      "text/plain": [
       "Non-Delivery (corporate)    432\n",
       "Delivery (teaching)         270\n",
       "Name: WorkArea, dtype: int64"
      ]
     },
     "execution_count": 9,
     "metadata": {},
     "output_type": "execute_result"
    }
   ],
   "source": [
    "tafe_survey['WorkArea'].value_counts()"
   ]
  },
  {
   "cell_type": "code",
   "execution_count": 10,
   "metadata": {},
   "outputs": [
    {
     "data": {
      "text/plain": [
       "Teacher                                                    324\n",
       "Teacher Aide                                               137\n",
       "Public Servant                                             126\n",
       "Cleaner                                                     97\n",
       "Head of Curriculum/Head of Special Education                38\n",
       "Schools Officer                                             24\n",
       "School Administrative Staff                                 16\n",
       "Guidance Officer                                            12\n",
       "Technical Officer                                           11\n",
       "Professional Officer                                         7\n",
       "Other                                                        7\n",
       "School Principal                                             5\n",
       "School Based Professional Staff (Therapist, nurse, etc)      5\n",
       "Business Service Manager                                     4\n",
       "Deputy Principal                                             4\n",
       "Name: Position, dtype: int64"
      ]
     },
     "execution_count": 10,
     "metadata": {},
     "output_type": "execute_result"
    }
   ],
   "source": [
    "dete_survey['Position'].value_counts()"
   ]
  },
  {
   "cell_type": "code",
   "execution_count": 11,
   "metadata": {},
   "outputs": [
    {
     "data": {
      "text/plain": [
       "Administration (AO)           293\n",
       "Teacher (including LVT)       201\n",
       "Professional Officer (PO)      33\n",
       "Operational (OO)               24\n",
       "Tutor                          16\n",
       "Workplace Training Officer     11\n",
       "Technical Officer (TO)         10\n",
       "Executive (SES/SO)              6\n",
       "Apprentice                      2\n",
       "Name: Classification. Classification, dtype: int64"
      ]
     },
     "execution_count": 11,
     "metadata": {},
     "output_type": "execute_result"
    }
   ],
   "source": [
    "tafe_survey['Classification. Classification'].value_counts()"
   ]
  },
  {
   "cell_type": "code",
   "execution_count": 12,
   "metadata": {},
   "outputs": [
    {
     "data": {
      "text/plain": [
       "Metropolitan                135\n",
       "Central Office              130\n",
       "South East                  108\n",
       "Not Stated                  105\n",
       "Darling Downs South West     95\n",
       "Central Queensland           84\n",
       "North Coast                  75\n",
       "North Queensland             53\n",
       "Far North Queensland         37\n",
       "Name: Region, dtype: int64"
      ]
     },
     "execution_count": 12,
     "metadata": {},
     "output_type": "execute_result"
    }
   ],
   "source": [
    "dete_survey['Region'].value_counts()"
   ]
  },
  {
   "cell_type": "markdown",
   "metadata": {},
   "source": [
    "dete index | tafe index | dete column name | tafe column name\n",
    "--- | --- | --- | ---\n",
    "0 | 0 | ID | Record ID\n",
    "1 | 4 | Separation Type | Reason for ceasing employment\n",
    "2 | 3 | Cease Date | CEASSATION YEAR\n",
    "3 | none A | DETE Start Date | none A\n",
    "4 | none B | Role Start Date | none B\n",
    "none A | 70 | none A | LengthofServiceOverall. Overall Length of Service at Institute (in years)\n",
    "none B | 71 | none B | LengthofServiceCurrent. Length of Service at current workplace (in years)             \n",
    "5 | 69 | Position | Classification. Classification \n",
    "7 | 1 | Region | Institute \n",
    "9 | 68 | Employment Status | Employment Type. Employment Type\n",
    "10 | 5 | Career move to public sector | Contributing Factors. Career Move - Public Sector\n",
    "11 | 6 | Career move to private sector | Contributing Factors. Career Move - Private Sector\n",
    "12 | 12 | Interpersonal Conflicts | Contributing Factors. Interpersonal Conflict\n",
    "13 | 11 | Job Disatisfaction | Contributing Factors. Job Dissatisfaction\n",
    "20 | 9 | Maternity/Family | Contributing Factors. Maternity/Family\n",
    "23 | 8 | Ill Health | Contributing Factors. Ill Health\n",
    "22 | 13,14 | Study/Travel | Contributing Factors. Study, Contributing Factors. Travel\n",
    "49 | 66 | Gender | Gender. What is your Gender?\n",
    "50 | 67 | Age | CurrentAge. Current Age\n",
    "\n",
    "\n",
    "I didn't include any information about opinion question columns"
   ]
  },
  {
   "cell_type": "markdown",
   "metadata": {},
   "source": [
    "Opinion Question Columns\n",
    "\n",
    "dete index | tafe index | dete column name | abbreviated tate name | inverted?\n",
    "--- | --- | --- | --- | ---\n",
    "none | 17 | none |  Main Factor | none\n",
    "none | 18 | none | Topic:1, Senior Leadership Vision | none\n",
    "38 | 19 | Skills | Topic:2, skills training | none\n",
    "28 | 20 | Professional Development | Topic:3, personal development | no?\n",
    "29 | 21 | Opportunities for Promotion | Topic:4, promotion | no\n",
    "none | 22 | none | Topic:5, salary | none\n",
    "16 | 23,43 | Lack of Recognition | Topic:6, recognition | yes\n",
    "35 | 24,25 | Performance of Supervisor | Topic:7,8, managment supportive | ???\n",
    "46 | 26 | Kept Informed | Topic:9, kept informed | no\n",
    "30 | 27,47 | Staff morale | Topic:10, staff morale | no\n",
    "31 | 28-30 | Workplace issue | Topic:11-13, | workplace issue dealt with well | ???\n",
    "35 | 31 | Performance of Supervisor | Topic:14, satisfied with management | ???\n",
    "37 | 34 | Initiative | Topic:17, use initiative | no\n",
    "36 | 36 | Peer Support | Topic:19, peer support | no\n",
    "33 | 42 | Worklife Balance | Topic:25, worklife balance | no\n",
    "15 | 44 | Physical work environment | Topic:27 | ???\n",
    "39 | 45 | Coach | Topic:28, opportunity to mentor or coach | no\n",
    "\n",
    "\n",
    "\n",
    "Career Aspirations, Traumatic Incident, and Relocation in DETE don't have direct parallels among the questions in TAFE, but rather are complex combinations of questions perhaps, or not even present. Salary is not present in DETE, nor can we (clearly) know the main factor."
   ]
  },
  {
   "cell_type": "markdown",
   "metadata": {},
   "source": [
    "## Setting the scope of the analysis"
   ]
  },
  {
   "cell_type": "code",
   "execution_count": 13,
   "metadata": {},
   "outputs": [],
   "source": [
    "dete_survey=pd.read_csv('dete_survey.csv',na_values='Not Stated')"
   ]
  },
  {
   "cell_type": "code",
   "execution_count": 14,
   "metadata": {},
   "outputs": [],
   "source": [
    "dete_survey_updated=dete_survey.drop(dete_survey.columns[28:49],axis=1)"
   ]
  },
  {
   "cell_type": "code",
   "execution_count": 15,
   "metadata": {},
   "outputs": [],
   "source": [
    "tafe_survey_updated=tafe_survey.drop(tafe_survey.columns[17:66],axis=1)"
   ]
  },
  {
   "cell_type": "code",
   "execution_count": 16,
   "metadata": {},
   "outputs": [
    {
     "name": "stdout",
     "output_type": "stream",
     "text": [
      "<class 'pandas.core.frame.DataFrame'>\n",
      "RangeIndex: 822 entries, 0 to 821\n",
      "Data columns (total 35 columns):\n",
      " #   Column                               Non-Null Count  Dtype  \n",
      "---  ------                               --------------  -----  \n",
      " 0   ID                                   822 non-null    int64  \n",
      " 1   SeparationType                       822 non-null    object \n",
      " 2   Cease Date                           788 non-null    object \n",
      " 3   DETE Start Date                      749 non-null    float64\n",
      " 4   Role Start Date                      724 non-null    float64\n",
      " 5   Position                             817 non-null    object \n",
      " 6   Classification                       455 non-null    object \n",
      " 7   Region                               717 non-null    object \n",
      " 8   Business Unit                        126 non-null    object \n",
      " 9   Employment Status                    817 non-null    object \n",
      " 10  Career move to public sector         822 non-null    bool   \n",
      " 11  Career move to private sector        822 non-null    bool   \n",
      " 12  Interpersonal conflicts              822 non-null    bool   \n",
      " 13  Job dissatisfaction                  822 non-null    bool   \n",
      " 14  Dissatisfaction with the department  822 non-null    bool   \n",
      " 15  Physical work environment            822 non-null    bool   \n",
      " 16  Lack of recognition                  822 non-null    bool   \n",
      " 17  Lack of job security                 822 non-null    bool   \n",
      " 18  Work location                        822 non-null    bool   \n",
      " 19  Employment conditions                822 non-null    bool   \n",
      " 20  Maternity/family                     822 non-null    bool   \n",
      " 21  Relocation                           822 non-null    bool   \n",
      " 22  Study/Travel                         822 non-null    bool   \n",
      " 23  Ill Health                           822 non-null    bool   \n",
      " 24  Traumatic incident                   822 non-null    bool   \n",
      " 25  Work life balance                    822 non-null    bool   \n",
      " 26  Workload                             822 non-null    bool   \n",
      " 27  None of the above                    822 non-null    bool   \n",
      " 28  Gender                               798 non-null    object \n",
      " 29  Age                                  811 non-null    object \n",
      " 30  Aboriginal                           16 non-null     object \n",
      " 31  Torres Strait                        3 non-null      object \n",
      " 32  South Sea                            7 non-null      object \n",
      " 33  Disability                           23 non-null     object \n",
      " 34  NESB                                 32 non-null     object \n",
      "dtypes: bool(18), float64(2), int64(1), object(14)\n",
      "memory usage: 123.7+ KB\n"
     ]
    }
   ],
   "source": [
    "dete_survey_updated.info()"
   ]
  },
  {
   "cell_type": "code",
   "execution_count": 17,
   "metadata": {},
   "outputs": [
    {
     "name": "stdout",
     "output_type": "stream",
     "text": [
      "<class 'pandas.core.frame.DataFrame'>\n",
      "RangeIndex: 702 entries, 0 to 701\n",
      "Data columns (total 23 columns):\n",
      " #   Column                                                                     Non-Null Count  Dtype  \n",
      "---  ------                                                                     --------------  -----  \n",
      " 0   Record ID                                                                  702 non-null    float64\n",
      " 1   Institute                                                                  702 non-null    object \n",
      " 2   WorkArea                                                                   702 non-null    object \n",
      " 3   CESSATION YEAR                                                             695 non-null    float64\n",
      " 4   Reason for ceasing employment                                              701 non-null    object \n",
      " 5   Contributing Factors. Career Move - Public Sector                          437 non-null    object \n",
      " 6   Contributing Factors. Career Move - Private Sector                         437 non-null    object \n",
      " 7   Contributing Factors. Career Move - Self-employment                        437 non-null    object \n",
      " 8   Contributing Factors. Ill Health                                           437 non-null    object \n",
      " 9   Contributing Factors. Maternity/Family                                     437 non-null    object \n",
      " 10  Contributing Factors. Dissatisfaction                                      437 non-null    object \n",
      " 11  Contributing Factors. Job Dissatisfaction                                  437 non-null    object \n",
      " 12  Contributing Factors. Interpersonal Conflict                               437 non-null    object \n",
      " 13  Contributing Factors. Study                                                437 non-null    object \n",
      " 14  Contributing Factors. Travel                                               437 non-null    object \n",
      " 15  Contributing Factors. Other                                                437 non-null    object \n",
      " 16  Contributing Factors. NONE                                                 437 non-null    object \n",
      " 17  Gender. What is your Gender?                                               596 non-null    object \n",
      " 18  CurrentAge. Current Age                                                    596 non-null    object \n",
      " 19  Employment Type. Employment Type                                           596 non-null    object \n",
      " 20  Classification. Classification                                             596 non-null    object \n",
      " 21  LengthofServiceOverall. Overall Length of Service at Institute (in years)  596 non-null    object \n",
      " 22  LengthofServiceCurrent. Length of Service at current workplace (in years)  596 non-null    object \n",
      "dtypes: float64(2), object(21)\n",
      "memory usage: 126.3+ KB\n"
     ]
    }
   ],
   "source": [
    "tafe_survey_updated.info()"
   ]
  },
  {
   "cell_type": "markdown",
   "metadata": {},
   "source": [
    "As directed by the guided project, I have opted not to perform a more thorough analysis of the opinion based survey questions. Honestly, given that this is only an end of unit project, this seems reasonable to the scope of the analysis."
   ]
  },
  {
   "cell_type": "markdown",
   "metadata": {},
   "source": [
    "## Cleaning column names"
   ]
  },
  {
   "cell_type": "code",
   "execution_count": 18,
   "metadata": {},
   "outputs": [],
   "source": [
    "dete_survey_updated.columns=dete_survey_updated.columns.str.strip().str.replace('\\s+','_').str.lower()"
   ]
  },
  {
   "cell_type": "code",
   "execution_count": 19,
   "metadata": {},
   "outputs": [
    {
     "data": {
      "text/plain": [
       "Index(['id', 'separationtype', 'cease_date', 'dete_start_date',\n",
       "       'role_start_date', 'position', 'classification', 'region',\n",
       "       'business_unit', 'employment_status', 'career_move_to_public_sector',\n",
       "       'career_move_to_private_sector', 'interpersonal_conflicts',\n",
       "       'job_dissatisfaction', 'dissatisfaction_with_the_department',\n",
       "       'physical_work_environment', 'lack_of_recognition',\n",
       "       'lack_of_job_security', 'work_location', 'employment_conditions',\n",
       "       'maternity/family', 'relocation', 'study/travel', 'ill_health',\n",
       "       'traumatic_incident', 'work_life_balance', 'workload',\n",
       "       'none_of_the_above', 'gender', 'age', 'aboriginal', 'torres_strait',\n",
       "       'south_sea', 'disability', 'nesb'],\n",
       "      dtype='object')"
      ]
     },
     "execution_count": 19,
     "metadata": {},
     "output_type": "execute_result"
    }
   ],
   "source": [
    "dete_survey_updated.columns"
   ]
  },
  {
   "cell_type": "code",
   "execution_count": 20,
   "metadata": {},
   "outputs": [],
   "source": [
    "col_dict={'Record ID':'id','CESSATION YEAR':'cease_date','Reason for ceasing employment':'separationtype',\\\n",
    "          'Gender. What is your Gender?':'gender','CurrentAge. Current Age':'age',\\\n",
    "         'Employment Type. Employment Type':'employment_status',\\\n",
    "         'Classification. Classification':'position',\\\n",
    "         'LengthofServiceOverall. Overall Length of Service at Institute (in years)':\\\n",
    "         'institute_service',\\\n",
    "         'LengthofServiceCurrent. Length of Service at current workplace (in years)':\\\n",
    "         'role_service'}"
   ]
  },
  {
   "cell_type": "code",
   "execution_count": 21,
   "metadata": {},
   "outputs": [],
   "source": [
    "tafe_survey_updated=tafe_survey_updated.rename(columns=col_dict)"
   ]
  },
  {
   "cell_type": "code",
   "execution_count": 22,
   "metadata": {},
   "outputs": [
    {
     "data": {
      "text/plain": [
       "Index(['id', 'Institute', 'WorkArea', 'cease_date', 'separationtype',\n",
       "       'Contributing Factors. Career Move - Public Sector ',\n",
       "       'Contributing Factors. Career Move - Private Sector ',\n",
       "       'Contributing Factors. Career Move - Self-employment',\n",
       "       'Contributing Factors. Ill Health',\n",
       "       'Contributing Factors. Maternity/Family',\n",
       "       'Contributing Factors. Dissatisfaction',\n",
       "       'Contributing Factors. Job Dissatisfaction',\n",
       "       'Contributing Factors. Interpersonal Conflict',\n",
       "       'Contributing Factors. Study', 'Contributing Factors. Travel',\n",
       "       'Contributing Factors. Other', 'Contributing Factors. NONE', 'gender',\n",
       "       'age', 'employment_status', 'position', 'institute_service',\n",
       "       'role_service'],\n",
       "      dtype='object')"
      ]
     },
     "execution_count": 22,
     "metadata": {},
     "output_type": "execute_result"
    }
   ],
   "source": [
    "tafe_survey_updated.columns"
   ]
  },
  {
   "cell_type": "code",
   "execution_count": 23,
   "metadata": {},
   "outputs": [
    {
     "data": {
      "text/plain": [
       "Female    389\n",
       "Male      207\n",
       "Name: gender, dtype: int64"
      ]
     },
     "execution_count": 23,
     "metadata": {},
     "output_type": "execute_result"
    }
   ],
   "source": [
    "tafe_survey_updated['gender'].value_counts()"
   ]
  },
  {
   "cell_type": "code",
   "execution_count": 24,
   "metadata": {},
   "outputs": [
    {
     "data": {
      "text/plain": [
       "Index(['id', 'separationtype', 'cease_date', 'dete_start_date',\n",
       "       'role_start_date', 'position', 'classification', 'region',\n",
       "       'business_unit', 'employment_status', 'career_move_to_public_sector',\n",
       "       'career_move_to_private_sector', 'interpersonal_conflicts',\n",
       "       'job_dissatisfaction', 'dissatisfaction_with_the_department',\n",
       "       'physical_work_environment', 'lack_of_recognition',\n",
       "       'lack_of_job_security', 'work_location', 'employment_conditions',\n",
       "       'maternity/family', 'relocation', 'study/travel', 'ill_health',\n",
       "       'traumatic_incident', 'work_life_balance', 'workload',\n",
       "       'none_of_the_above', 'gender', 'age', 'aboriginal', 'torres_strait',\n",
       "       'south_sea', 'disability', 'nesb'],\n",
       "      dtype='object')"
      ]
     },
     "execution_count": 24,
     "metadata": {},
     "output_type": "execute_result"
    }
   ],
   "source": [
    "dete_survey_updated.columns"
   ]
  },
  {
   "cell_type": "code",
   "execution_count": 25,
   "metadata": {},
   "outputs": [],
   "source": [
    "col_dict2={'Contributing Factors. Career Move - Public Sector ':'career_move_to_public_sector',\n",
    "       'Contributing Factors. Career Move - Private Sector ':'career_move_to_private_sector',\n",
    "       'Contributing Factors. Career Move - Self-employment':'self_employment',\n",
    "       'Contributing Factors. Ill Health':'ill_health',\n",
    "       'Contributing Factors. Maternity/Family':'maternity/family',\n",
    "       'Contributing Factors. Dissatisfaction':'dissatisfaction',\n",
    "       'Contributing Factors. Job Dissatisfaction':'job_dissatisfaction',\n",
    "       'Contributing Factors. Interpersonal Conflict':'interpersonal_conflicts',\n",
    "       'Contributing Factors. Study':'study', 'Contributing Factors. Travel':'travel',\n",
    "       'Contributing Factors. Other':'other_contributing_factors', 'Contributing Factors. NONE':'no_contributing_factors'}"
   ]
  },
  {
   "cell_type": "code",
   "execution_count": 26,
   "metadata": {},
   "outputs": [],
   "source": [
    "tafe_survey_updated=tafe_survey_updated.rename(columns=col_dict2)"
   ]
  },
  {
   "cell_type": "code",
   "execution_count": 27,
   "metadata": {},
   "outputs": [
    {
     "data": {
      "text/plain": [
       "Index(['id', 'Institute', 'WorkArea', 'cease_date', 'separationtype',\n",
       "       'career_move_to_public_sector', 'career_move_to_private_sector',\n",
       "       'self_employment', 'ill_health', 'maternity/family', 'dissatisfaction',\n",
       "       'job_dissatisfaction', 'interpersonal_conflicts', 'study', 'travel',\n",
       "       'other_contributing_factors', 'no_contributing_factors', 'gender',\n",
       "       'age', 'employment_status', 'position', 'institute_service',\n",
       "       'role_service'],\n",
       "      dtype='object')"
      ]
     },
     "execution_count": 27,
     "metadata": {},
     "output_type": "execute_result"
    }
   ],
   "source": [
    "tafe_survey_updated.columns"
   ]
  },
  {
   "cell_type": "code",
   "execution_count": 28,
   "metadata": {},
   "outputs": [],
   "source": [
    "tafe_survey_updated=tafe_survey_updated.rename(columns={'Institute':'institute','WorkArea':'work_area'})"
   ]
  },
  {
   "cell_type": "code",
   "execution_count": 29,
   "metadata": {},
   "outputs": [
    {
     "data": {
      "text/plain": [
       "Index(['id', 'institute', 'work_area', 'cease_date', 'separationtype',\n",
       "       'career_move_to_public_sector', 'career_move_to_private_sector',\n",
       "       'self_employment', 'ill_health', 'maternity/family', 'dissatisfaction',\n",
       "       'job_dissatisfaction', 'interpersonal_conflicts', 'study', 'travel',\n",
       "       'other_contributing_factors', 'no_contributing_factors', 'gender',\n",
       "       'age', 'employment_status', 'position', 'institute_service',\n",
       "       'role_service'],\n",
       "      dtype='object')"
      ]
     },
     "execution_count": 29,
     "metadata": {},
     "output_type": "execute_result"
    }
   ],
   "source": [
    "tafe_survey_updated.columns"
   ]
  },
  {
   "cell_type": "markdown",
   "metadata": {},
   "source": [
    "I renamed the DETE survey columns to lowercase with underscores between. I renamed the columns in the updated TAFE survey to correspond to the lowercase columns in the updated DETE survey except those columns that had no clear correspondence, where I simply renamed them to lowercase column names with underscores between, truncating category information. The exceptions were \"other\" and \"none\", where I changed them to \"other contributing factors\" and \"no contributing factors\" (with underscores) for clairity. "
   ]
  },
  {
   "cell_type": "markdown",
   "metadata": {},
   "source": [
    "# Selecting those who resigned"
   ]
  },
  {
   "cell_type": "code",
   "execution_count": 30,
   "metadata": {},
   "outputs": [
    {
     "data": {
      "text/plain": [
       "Age Retirement                          285\n",
       "Resignation-Other reasons               150\n",
       "Resignation-Other employer               91\n",
       "Resignation-Move overseas/interstate     70\n",
       "Voluntary Early Retirement (VER)         67\n",
       "Ill Health Retirement                    61\n",
       "Other                                    49\n",
       "Contract Expired                         34\n",
       "Termination                              15\n",
       "Name: separationtype, dtype: int64"
      ]
     },
     "execution_count": 30,
     "metadata": {},
     "output_type": "execute_result"
    }
   ],
   "source": [
    "dete_survey_updated['separationtype'].value_counts()"
   ]
  },
  {
   "cell_type": "code",
   "execution_count": 31,
   "metadata": {},
   "outputs": [
    {
     "data": {
      "text/plain": [
       "Resignation                 340\n",
       "Contract Expired            127\n",
       "Retrenchment/ Redundancy    104\n",
       "Retirement                   82\n",
       "Transfer                     25\n",
       "Termination                  23\n",
       "Name: separationtype, dtype: int64"
      ]
     },
     "execution_count": 31,
     "metadata": {},
     "output_type": "execute_result"
    }
   ],
   "source": [
    "tafe_survey_updated['separationtype'].value_counts()"
   ]
  },
  {
   "cell_type": "code",
   "execution_count": 32,
   "metadata": {},
   "outputs": [],
   "source": [
    "dete_resignation_reasons=['Resignation-Other reasons','Resignation-Other employer','Resignation-Move overseas/interstate']"
   ]
  },
  {
   "cell_type": "code",
   "execution_count": 33,
   "metadata": {},
   "outputs": [],
   "source": [
    "dete_is_resignation=dete_survey_updated['separationtype'].apply(lambda x: x in dete_resignation_reasons)"
   ]
  },
  {
   "cell_type": "code",
   "execution_count": 34,
   "metadata": {},
   "outputs": [],
   "source": [
    "dete_resignations=dete_survey_updated[dete_is_resignation].copy()"
   ]
  },
  {
   "cell_type": "code",
   "execution_count": 35,
   "metadata": {},
   "outputs": [
    {
     "data": {
      "text/html": [
       "<div>\n",
       "<style scoped>\n",
       "    .dataframe tbody tr th:only-of-type {\n",
       "        vertical-align: middle;\n",
       "    }\n",
       "\n",
       "    .dataframe tbody tr th {\n",
       "        vertical-align: top;\n",
       "    }\n",
       "\n",
       "    .dataframe thead th {\n",
       "        text-align: right;\n",
       "    }\n",
       "</style>\n",
       "<table border=\"1\" class=\"dataframe\">\n",
       "  <thead>\n",
       "    <tr style=\"text-align: right;\">\n",
       "      <th></th>\n",
       "      <th>id</th>\n",
       "      <th>separationtype</th>\n",
       "      <th>cease_date</th>\n",
       "      <th>dete_start_date</th>\n",
       "      <th>role_start_date</th>\n",
       "      <th>position</th>\n",
       "      <th>classification</th>\n",
       "      <th>region</th>\n",
       "      <th>business_unit</th>\n",
       "      <th>employment_status</th>\n",
       "      <th>...</th>\n",
       "      <th>work_life_balance</th>\n",
       "      <th>workload</th>\n",
       "      <th>none_of_the_above</th>\n",
       "      <th>gender</th>\n",
       "      <th>age</th>\n",
       "      <th>aboriginal</th>\n",
       "      <th>torres_strait</th>\n",
       "      <th>south_sea</th>\n",
       "      <th>disability</th>\n",
       "      <th>nesb</th>\n",
       "    </tr>\n",
       "  </thead>\n",
       "  <tbody>\n",
       "    <tr>\n",
       "      <th>3</th>\n",
       "      <td>4</td>\n",
       "      <td>Resignation-Other reasons</td>\n",
       "      <td>05/2012</td>\n",
       "      <td>2005.0</td>\n",
       "      <td>2006.0</td>\n",
       "      <td>Teacher</td>\n",
       "      <td>Primary</td>\n",
       "      <td>Central Queensland</td>\n",
       "      <td>NaN</td>\n",
       "      <td>Permanent Full-time</td>\n",
       "      <td>...</td>\n",
       "      <td>False</td>\n",
       "      <td>False</td>\n",
       "      <td>False</td>\n",
       "      <td>Female</td>\n",
       "      <td>36-40</td>\n",
       "      <td>NaN</td>\n",
       "      <td>NaN</td>\n",
       "      <td>NaN</td>\n",
       "      <td>NaN</td>\n",
       "      <td>NaN</td>\n",
       "    </tr>\n",
       "    <tr>\n",
       "      <th>5</th>\n",
       "      <td>6</td>\n",
       "      <td>Resignation-Other reasons</td>\n",
       "      <td>05/2012</td>\n",
       "      <td>1994.0</td>\n",
       "      <td>1997.0</td>\n",
       "      <td>Guidance Officer</td>\n",
       "      <td>NaN</td>\n",
       "      <td>Central Office</td>\n",
       "      <td>Education Queensland</td>\n",
       "      <td>Permanent Full-time</td>\n",
       "      <td>...</td>\n",
       "      <td>False</td>\n",
       "      <td>False</td>\n",
       "      <td>False</td>\n",
       "      <td>Female</td>\n",
       "      <td>41-45</td>\n",
       "      <td>NaN</td>\n",
       "      <td>NaN</td>\n",
       "      <td>NaN</td>\n",
       "      <td>NaN</td>\n",
       "      <td>NaN</td>\n",
       "    </tr>\n",
       "    <tr>\n",
       "      <th>8</th>\n",
       "      <td>9</td>\n",
       "      <td>Resignation-Other reasons</td>\n",
       "      <td>07/2012</td>\n",
       "      <td>2009.0</td>\n",
       "      <td>2009.0</td>\n",
       "      <td>Teacher</td>\n",
       "      <td>Secondary</td>\n",
       "      <td>North Queensland</td>\n",
       "      <td>NaN</td>\n",
       "      <td>Permanent Full-time</td>\n",
       "      <td>...</td>\n",
       "      <td>False</td>\n",
       "      <td>False</td>\n",
       "      <td>False</td>\n",
       "      <td>Female</td>\n",
       "      <td>31-35</td>\n",
       "      <td>NaN</td>\n",
       "      <td>NaN</td>\n",
       "      <td>NaN</td>\n",
       "      <td>NaN</td>\n",
       "      <td>NaN</td>\n",
       "    </tr>\n",
       "    <tr>\n",
       "      <th>9</th>\n",
       "      <td>10</td>\n",
       "      <td>Resignation-Other employer</td>\n",
       "      <td>2012</td>\n",
       "      <td>1997.0</td>\n",
       "      <td>2008.0</td>\n",
       "      <td>Teacher Aide</td>\n",
       "      <td>NaN</td>\n",
       "      <td>NaN</td>\n",
       "      <td>NaN</td>\n",
       "      <td>Permanent Part-time</td>\n",
       "      <td>...</td>\n",
       "      <td>False</td>\n",
       "      <td>False</td>\n",
       "      <td>False</td>\n",
       "      <td>Female</td>\n",
       "      <td>46-50</td>\n",
       "      <td>NaN</td>\n",
       "      <td>NaN</td>\n",
       "      <td>NaN</td>\n",
       "      <td>NaN</td>\n",
       "      <td>NaN</td>\n",
       "    </tr>\n",
       "    <tr>\n",
       "      <th>11</th>\n",
       "      <td>12</td>\n",
       "      <td>Resignation-Move overseas/interstate</td>\n",
       "      <td>2012</td>\n",
       "      <td>2009.0</td>\n",
       "      <td>2009.0</td>\n",
       "      <td>Teacher</td>\n",
       "      <td>Secondary</td>\n",
       "      <td>Far North Queensland</td>\n",
       "      <td>NaN</td>\n",
       "      <td>Permanent Full-time</td>\n",
       "      <td>...</td>\n",
       "      <td>False</td>\n",
       "      <td>False</td>\n",
       "      <td>False</td>\n",
       "      <td>Male</td>\n",
       "      <td>31-35</td>\n",
       "      <td>NaN</td>\n",
       "      <td>NaN</td>\n",
       "      <td>NaN</td>\n",
       "      <td>NaN</td>\n",
       "      <td>NaN</td>\n",
       "    </tr>\n",
       "  </tbody>\n",
       "</table>\n",
       "<p>5 rows × 35 columns</p>\n",
       "</div>"
      ],
      "text/plain": [
       "    id                        separationtype cease_date  dete_start_date  \\\n",
       "3    4             Resignation-Other reasons    05/2012           2005.0   \n",
       "5    6             Resignation-Other reasons    05/2012           1994.0   \n",
       "8    9             Resignation-Other reasons    07/2012           2009.0   \n",
       "9   10            Resignation-Other employer       2012           1997.0   \n",
       "11  12  Resignation-Move overseas/interstate       2012           2009.0   \n",
       "\n",
       "    role_start_date          position classification                region  \\\n",
       "3            2006.0           Teacher        Primary    Central Queensland   \n",
       "5            1997.0  Guidance Officer            NaN        Central Office   \n",
       "8            2009.0           Teacher      Secondary      North Queensland   \n",
       "9            2008.0      Teacher Aide            NaN                   NaN   \n",
       "11           2009.0           Teacher      Secondary  Far North Queensland   \n",
       "\n",
       "           business_unit    employment_status  ...  work_life_balance  \\\n",
       "3                    NaN  Permanent Full-time  ...              False   \n",
       "5   Education Queensland  Permanent Full-time  ...              False   \n",
       "8                    NaN  Permanent Full-time  ...              False   \n",
       "9                    NaN  Permanent Part-time  ...              False   \n",
       "11                   NaN  Permanent Full-time  ...              False   \n",
       "\n",
       "    workload  none_of_the_above  gender    age  aboriginal  torres_strait  \\\n",
       "3      False              False  Female  36-40         NaN            NaN   \n",
       "5      False              False  Female  41-45         NaN            NaN   \n",
       "8      False              False  Female  31-35         NaN            NaN   \n",
       "9      False              False  Female  46-50         NaN            NaN   \n",
       "11     False              False    Male  31-35         NaN            NaN   \n",
       "\n",
       "    south_sea  disability  nesb  \n",
       "3         NaN         NaN   NaN  \n",
       "5         NaN         NaN   NaN  \n",
       "8         NaN         NaN   NaN  \n",
       "9         NaN         NaN   NaN  \n",
       "11        NaN         NaN   NaN  \n",
       "\n",
       "[5 rows x 35 columns]"
      ]
     },
     "execution_count": 35,
     "metadata": {},
     "output_type": "execute_result"
    }
   ],
   "source": [
    "dete_resignations.head(5)"
   ]
  },
  {
   "cell_type": "code",
   "execution_count": 36,
   "metadata": {},
   "outputs": [],
   "source": [
    "tafe_resignations=tafe_survey_updated[tafe_survey_updated['separationtype']=='Resignation']"
   ]
  },
  {
   "cell_type": "code",
   "execution_count": 37,
   "metadata": {},
   "outputs": [
    {
     "data": {
      "text/html": [
       "<div>\n",
       "<style scoped>\n",
       "    .dataframe tbody tr th:only-of-type {\n",
       "        vertical-align: middle;\n",
       "    }\n",
       "\n",
       "    .dataframe tbody tr th {\n",
       "        vertical-align: top;\n",
       "    }\n",
       "\n",
       "    .dataframe thead th {\n",
       "        text-align: right;\n",
       "    }\n",
       "</style>\n",
       "<table border=\"1\" class=\"dataframe\">\n",
       "  <thead>\n",
       "    <tr style=\"text-align: right;\">\n",
       "      <th></th>\n",
       "      <th>id</th>\n",
       "      <th>institute</th>\n",
       "      <th>work_area</th>\n",
       "      <th>cease_date</th>\n",
       "      <th>separationtype</th>\n",
       "      <th>career_move_to_public_sector</th>\n",
       "      <th>career_move_to_private_sector</th>\n",
       "      <th>self_employment</th>\n",
       "      <th>ill_health</th>\n",
       "      <th>maternity/family</th>\n",
       "      <th>...</th>\n",
       "      <th>study</th>\n",
       "      <th>travel</th>\n",
       "      <th>other_contributing_factors</th>\n",
       "      <th>no_contributing_factors</th>\n",
       "      <th>gender</th>\n",
       "      <th>age</th>\n",
       "      <th>employment_status</th>\n",
       "      <th>position</th>\n",
       "      <th>institute_service</th>\n",
       "      <th>role_service</th>\n",
       "    </tr>\n",
       "  </thead>\n",
       "  <tbody>\n",
       "    <tr>\n",
       "      <th>3</th>\n",
       "      <td>6.341399e+17</td>\n",
       "      <td>Mount Isa Institute of TAFE</td>\n",
       "      <td>Non-Delivery (corporate)</td>\n",
       "      <td>2010.0</td>\n",
       "      <td>Resignation</td>\n",
       "      <td>-</td>\n",
       "      <td>-</td>\n",
       "      <td>-</td>\n",
       "      <td>-</td>\n",
       "      <td>-</td>\n",
       "      <td>...</td>\n",
       "      <td>-</td>\n",
       "      <td>Travel</td>\n",
       "      <td>-</td>\n",
       "      <td>-</td>\n",
       "      <td>NaN</td>\n",
       "      <td>NaN</td>\n",
       "      <td>NaN</td>\n",
       "      <td>NaN</td>\n",
       "      <td>NaN</td>\n",
       "      <td>NaN</td>\n",
       "    </tr>\n",
       "    <tr>\n",
       "      <th>4</th>\n",
       "      <td>6.341466e+17</td>\n",
       "      <td>Southern Queensland Institute of TAFE</td>\n",
       "      <td>Delivery (teaching)</td>\n",
       "      <td>2010.0</td>\n",
       "      <td>Resignation</td>\n",
       "      <td>-</td>\n",
       "      <td>Career Move - Private Sector</td>\n",
       "      <td>-</td>\n",
       "      <td>-</td>\n",
       "      <td>-</td>\n",
       "      <td>...</td>\n",
       "      <td>-</td>\n",
       "      <td>-</td>\n",
       "      <td>-</td>\n",
       "      <td>-</td>\n",
       "      <td>Male</td>\n",
       "      <td>41  45</td>\n",
       "      <td>Permanent Full-time</td>\n",
       "      <td>Teacher (including LVT)</td>\n",
       "      <td>3-4</td>\n",
       "      <td>3-4</td>\n",
       "    </tr>\n",
       "    <tr>\n",
       "      <th>5</th>\n",
       "      <td>6.341475e+17</td>\n",
       "      <td>Southern Queensland Institute of TAFE</td>\n",
       "      <td>Delivery (teaching)</td>\n",
       "      <td>2010.0</td>\n",
       "      <td>Resignation</td>\n",
       "      <td>-</td>\n",
       "      <td>-</td>\n",
       "      <td>-</td>\n",
       "      <td>-</td>\n",
       "      <td>-</td>\n",
       "      <td>...</td>\n",
       "      <td>-</td>\n",
       "      <td>-</td>\n",
       "      <td>Other</td>\n",
       "      <td>-</td>\n",
       "      <td>Female</td>\n",
       "      <td>56 or older</td>\n",
       "      <td>Contract/casual</td>\n",
       "      <td>Teacher (including LVT)</td>\n",
       "      <td>7-10</td>\n",
       "      <td>7-10</td>\n",
       "    </tr>\n",
       "    <tr>\n",
       "      <th>6</th>\n",
       "      <td>6.341520e+17</td>\n",
       "      <td>Barrier Reef Institute of TAFE</td>\n",
       "      <td>Non-Delivery (corporate)</td>\n",
       "      <td>2010.0</td>\n",
       "      <td>Resignation</td>\n",
       "      <td>-</td>\n",
       "      <td>Career Move - Private Sector</td>\n",
       "      <td>-</td>\n",
       "      <td>-</td>\n",
       "      <td>Maternity/Family</td>\n",
       "      <td>...</td>\n",
       "      <td>-</td>\n",
       "      <td>-</td>\n",
       "      <td>Other</td>\n",
       "      <td>-</td>\n",
       "      <td>Male</td>\n",
       "      <td>20 or younger</td>\n",
       "      <td>Temporary Full-time</td>\n",
       "      <td>Administration (AO)</td>\n",
       "      <td>3-4</td>\n",
       "      <td>3-4</td>\n",
       "    </tr>\n",
       "    <tr>\n",
       "      <th>7</th>\n",
       "      <td>6.341537e+17</td>\n",
       "      <td>Southern Queensland Institute of TAFE</td>\n",
       "      <td>Delivery (teaching)</td>\n",
       "      <td>2010.0</td>\n",
       "      <td>Resignation</td>\n",
       "      <td>-</td>\n",
       "      <td>-</td>\n",
       "      <td>-</td>\n",
       "      <td>-</td>\n",
       "      <td>-</td>\n",
       "      <td>...</td>\n",
       "      <td>-</td>\n",
       "      <td>-</td>\n",
       "      <td>Other</td>\n",
       "      <td>-</td>\n",
       "      <td>Male</td>\n",
       "      <td>46  50</td>\n",
       "      <td>Permanent Full-time</td>\n",
       "      <td>Teacher (including LVT)</td>\n",
       "      <td>3-4</td>\n",
       "      <td>3-4</td>\n",
       "    </tr>\n",
       "  </tbody>\n",
       "</table>\n",
       "<p>5 rows × 23 columns</p>\n",
       "</div>"
      ],
      "text/plain": [
       "             id                              institute  \\\n",
       "3  6.341399e+17            Mount Isa Institute of TAFE   \n",
       "4  6.341466e+17  Southern Queensland Institute of TAFE   \n",
       "5  6.341475e+17  Southern Queensland Institute of TAFE   \n",
       "6  6.341520e+17         Barrier Reef Institute of TAFE   \n",
       "7  6.341537e+17  Southern Queensland Institute of TAFE   \n",
       "\n",
       "                  work_area  cease_date separationtype  \\\n",
       "3  Non-Delivery (corporate)      2010.0    Resignation   \n",
       "4       Delivery (teaching)      2010.0    Resignation   \n",
       "5       Delivery (teaching)      2010.0    Resignation   \n",
       "6  Non-Delivery (corporate)      2010.0    Resignation   \n",
       "7       Delivery (teaching)      2010.0    Resignation   \n",
       "\n",
       "  career_move_to_public_sector career_move_to_private_sector self_employment  \\\n",
       "3                            -                             -               -   \n",
       "4                            -  Career Move - Private Sector               -   \n",
       "5                            -                             -               -   \n",
       "6                            -  Career Move - Private Sector               -   \n",
       "7                            -                             -               -   \n",
       "\n",
       "  ill_health  maternity/family  ... study  travel other_contributing_factors  \\\n",
       "3          -                 -  ...     -  Travel                          -   \n",
       "4          -                 -  ...     -       -                          -   \n",
       "5          -                 -  ...     -       -                      Other   \n",
       "6          -  Maternity/Family  ...     -       -                      Other   \n",
       "7          -                 -  ...     -       -                      Other   \n",
       "\n",
       "  no_contributing_factors  gender            age    employment_status  \\\n",
       "3                       -     NaN            NaN                  NaN   \n",
       "4                       -    Male         41  45  Permanent Full-time   \n",
       "5                       -  Female    56 or older      Contract/casual   \n",
       "6                       -    Male  20 or younger  Temporary Full-time   \n",
       "7                       -    Male         46  50  Permanent Full-time   \n",
       "\n",
       "                  position institute_service role_service  \n",
       "3                      NaN               NaN          NaN  \n",
       "4  Teacher (including LVT)               3-4          3-4  \n",
       "5  Teacher (including LVT)              7-10         7-10  \n",
       "6      Administration (AO)               3-4          3-4  \n",
       "7  Teacher (including LVT)               3-4          3-4  \n",
       "\n",
       "[5 rows x 23 columns]"
      ]
     },
     "execution_count": 37,
     "metadata": {},
     "output_type": "execute_result"
    }
   ],
   "source": [
    "tafe_resignations.head(5)"
   ]
  },
  {
   "cell_type": "markdown",
   "metadata": {},
   "source": [
    "I selected only the data that corresponded to resignations in both tables. In the DETE table there were three values, 'Resignation-Other reasons','Resignation-Other employer', and 'Resignation-Move overseas/interstate'. In the TAFE survey there was only 'Resignation'."
   ]
  },
  {
   "cell_type": "code",
   "execution_count": 38,
   "metadata": {},
   "outputs": [
    {
     "data": {
      "text/plain": [
       "2012       126\n",
       "2013        74\n",
       "01/2014     22\n",
       "12/2013     17\n",
       "06/2013     14\n",
       "09/2013     11\n",
       "07/2013      9\n",
       "11/2013      9\n",
       "10/2013      6\n",
       "08/2013      4\n",
       "05/2012      2\n",
       "05/2013      2\n",
       "07/2012      1\n",
       "2010         1\n",
       "07/2006      1\n",
       "09/2010      1\n",
       "Name: cease_date, dtype: int64"
      ]
     },
     "execution_count": 38,
     "metadata": {},
     "output_type": "execute_result"
    }
   ],
   "source": [
    "dete_resignations['cease_date'].value_counts()"
   ]
  },
  {
   "cell_type": "code",
   "execution_count": 39,
   "metadata": {},
   "outputs": [],
   "source": [
    "dete_resignations['cease_date']=dete_resignations['cease_date'].str.extract(r\"(20[012][0-9])\").astype(float)"
   ]
  },
  {
   "cell_type": "code",
   "execution_count": 40,
   "metadata": {},
   "outputs": [
    {
     "data": {
      "text/plain": [
       "2013.0    146\n",
       "2012.0    129\n",
       "2014.0     22\n",
       "2010.0      2\n",
       "2006.0      1\n",
       "Name: cease_date, dtype: int64"
      ]
     },
     "execution_count": 40,
     "metadata": {},
     "output_type": "execute_result"
    }
   ],
   "source": [
    "dete_resignations['cease_date'].value_counts()"
   ]
  },
  {
   "cell_type": "code",
   "execution_count": 41,
   "metadata": {},
   "outputs": [
    {
     "data": {
      "text/plain": [
       "1963.0     1\n",
       "1971.0     1\n",
       "1972.0     1\n",
       "1973.0     1\n",
       "1974.0     2\n",
       "1975.0     1\n",
       "1976.0     2\n",
       "1977.0     1\n",
       "1980.0     5\n",
       "1982.0     1\n",
       "1983.0     2\n",
       "1984.0     1\n",
       "1985.0     3\n",
       "1986.0     3\n",
       "1987.0     1\n",
       "1988.0     4\n",
       "1989.0     4\n",
       "1990.0     5\n",
       "1991.0     4\n",
       "1992.0     6\n",
       "1993.0     5\n",
       "1994.0     6\n",
       "1995.0     4\n",
       "1996.0     6\n",
       "1997.0     5\n",
       "1998.0     6\n",
       "1999.0     8\n",
       "2000.0     9\n",
       "2001.0     3\n",
       "2002.0     6\n",
       "2003.0     6\n",
       "2004.0    14\n",
       "2005.0    15\n",
       "2006.0    13\n",
       "2007.0    21\n",
       "2008.0    22\n",
       "2009.0    13\n",
       "2010.0    17\n",
       "2011.0    24\n",
       "2012.0    21\n",
       "2013.0    10\n",
       "Name: dete_start_date, dtype: int64"
      ]
     },
     "execution_count": 41,
     "metadata": {},
     "output_type": "execute_result"
    }
   ],
   "source": [
    "dete_resignations['dete_start_date'].value_counts().sort_index()"
   ]
  },
  {
   "cell_type": "code",
   "execution_count": 42,
   "metadata": {},
   "outputs": [],
   "source": [
    "dete_total_years=dete_resignations['cease_date']-dete_resignations['dete_start_date']"
   ]
  },
  {
   "cell_type": "code",
   "execution_count": 43,
   "metadata": {},
   "outputs": [
    {
     "data": {
      "image/png": "[encoded data removed]",
      "text/plain": [
       "<Figure size 600x400 with 1 Axes>"
      ]
     },
     "metadata": {},
     "output_type": "display_data"
    }
   ],
   "source": [
    "%matplotlib inline\n",
    "\n",
    "from matplotlib import pyplot as plt\n",
    "dete_resignations.boxplot(column=['cease_date','dete_start_date'])\n",
    "plt.show()"
   ]
  },
  {
   "cell_type": "code",
   "execution_count": 44,
   "metadata": {},
   "outputs": [
    {
     "data": {
      "text/plain": [
       "array([[<matplotlib.axes._subplots.AxesSubplot object at 0x7fb20877d760>]],\n",
       "      dtype=object)"
      ]
     },
     "execution_count": 44,
     "metadata": {},
     "output_type": "execute_result"
    },
    {
     "data": {
      "image/png": "[encoded data removed]",
      "text/plain": [
       "<Figure size 600x400 with 1 Axes>"
      ]
     },
     "metadata": {},
     "output_type": "display_data"
    }
   ],
   "source": [
    "dete_resignations.hist('cease_date',bins=8)"
   ]
  },
  {
   "cell_type": "code",
   "execution_count": 45,
   "metadata": {},
   "outputs": [
    {
     "data": {
      "text/plain": [
       "array([[<matplotlib.axes._subplots.AxesSubplot object at 0x7fb2071dc5e0>]],\n",
       "      dtype=object)"
      ]
     },
     "execution_count": 45,
     "metadata": {},
     "output_type": "execute_result"
    },
    {
     "data": {
      "image/png": "[encoded data removed]",
      "text/plain": [
       "<Figure size 600x400 with 1 Axes>"
      ]
     },
     "metadata": {},
     "output_type": "display_data"
    }
   ],
   "source": [
    "dete_resignations.hist('dete_start_date',bins=5)"
   ]
  },
  {
   "cell_type": "markdown",
   "metadata": {},
   "source": [
    "It is my opinion that all except the lowest outlier are legitimate data points for the start date and that it is a highly skew-right distribution. It is my opinion that the end dates before 2011 should be rejected because it is possible there was no actual data collection at that time based on the frequency of the data distribution. The reason I would reject the 1963 start date is that it is nearly a decade before the next one and I think it is unlikely a single employee worked alone for a decade in the 1960's then resigned in the 2010's-- though it is possible. Another possible interpretation of that datapoint is that only one employee from the 1960's was still employeed in the 2010's and then decided to resign."
   ]
  },
  {
   "cell_type": "code",
   "execution_count": 46,
   "metadata": {},
   "outputs": [
    {
     "data": {
      "image/png": "[encoded data removed]",
      "text/plain": [
       "<Figure size 600x400 with 1 Axes>"
      ]
     },
     "metadata": {},
     "output_type": "display_data"
    }
   ],
   "source": [
    "tafe_resignations.boxplot(column='cease_date')\n",
    "plt.show()"
   ]
  },
  {
   "cell_type": "code",
   "execution_count": 47,
   "metadata": {},
   "outputs": [
    {
     "data": {
      "image/png": "[encoded data removed]",
      "text/plain": [
       "<Figure size 600x400 with 1 Axes>"
      ]
     },
     "metadata": {},
     "output_type": "display_data"
    }
   ],
   "source": [
    "tafe_resignations.hist('cease_date',bins=4)\n",
    "plt.show()"
   ]
  },
  {
   "cell_type": "markdown",
   "metadata": {},
   "source": [
    "For TAFE resignations it looks like maybe data wasn't collected in 2009 so 2009 should be rejected. The number of resignations in later years is a factor of 50 higher. "
   ]
  },
  {
   "cell_type": "code",
   "execution_count": 48,
   "metadata": {},
   "outputs": [
    {
     "data": {
      "text/plain": [
       "2011.0    116\n",
       "2012.0     94\n",
       "2010.0     68\n",
       "2013.0     55\n",
       "2009.0      2\n",
       "Name: cease_date, dtype: int64"
      ]
     },
     "execution_count": 48,
     "metadata": {},
     "output_type": "execute_result"
    }
   ],
   "source": [
    "tafe_resignations['cease_date'].value_counts()"
   ]
  },
  {
   "cell_type": "markdown",
   "metadata": {},
   "source": [
    "I am going to select only cease dates of 2012 and 2013 since these are well represented in both data sets."
   ]
  },
  {
   "cell_type": "code",
   "execution_count": 49,
   "metadata": {},
   "outputs": [],
   "source": [
    "def date_cut(x):\n",
    "    return (x>=2012) & (x<2014)\n",
    "    "
   ]
  },
  {
   "cell_type": "code",
   "execution_count": 50,
   "metadata": {},
   "outputs": [],
   "source": [
    "dete_resignations_cut = dete_resignations['cease_date'].apply(date_cut)"
   ]
  },
  {
   "cell_type": "code",
   "execution_count": 51,
   "metadata": {},
   "outputs": [],
   "source": [
    "tafe_resignations_cut=tafe_resignations['cease_date'].apply(date_cut)"
   ]
  },
  {
   "cell_type": "code",
   "execution_count": 52,
   "metadata": {},
   "outputs": [],
   "source": [
    "dete_select_cease_years=dete_resignations[dete_resignations_cut].copy()"
   ]
  },
  {
   "cell_type": "code",
   "execution_count": 53,
   "metadata": {},
   "outputs": [],
   "source": [
    "tafe_select_cease_years = tafe_resignations[tafe_resignations_cut].copy()"
   ]
  },
  {
   "cell_type": "code",
   "execution_count": 54,
   "metadata": {},
   "outputs": [
    {
     "data": {
      "text/plain": [
       "1-2                   37\n",
       "3-4                   27\n",
       "Less than 1 year      26\n",
       "5-6                   18\n",
       "7-10                  13\n",
       "11-20                 10\n",
       "More than 20 years     1\n",
       "Name: institute_service, dtype: int64"
      ]
     },
     "execution_count": 54,
     "metadata": {},
     "output_type": "execute_result"
    }
   ],
   "source": [
    "tafe_select_cease_years['institute_service'].value_counts()"
   ]
  },
  {
   "cell_type": "code",
   "execution_count": 55,
   "metadata": {},
   "outputs": [],
   "source": [
    "dete_select_cease_years['institute_service']=dete_select_cease_years['cease_date']-dete_select_cease_years['dete_start_date']"
   ]
  },
  {
   "cell_type": "code",
   "execution_count": 56,
   "metadata": {},
   "outputs": [
    {
     "data": {
      "text/plain": [
       "0.0     19\n",
       "1.0     22\n",
       "2.0     11\n",
       "3.0     19\n",
       "4.0     14\n",
       "5.0     22\n",
       "6.0     14\n",
       "7.0     12\n",
       "8.0      8\n",
       "9.0     13\n",
       "10.0     4\n",
       "11.0     3\n",
       "12.0     5\n",
       "13.0     8\n",
       "14.0     6\n",
       "15.0     6\n",
       "16.0     4\n",
       "17.0     6\n",
       "18.0     5\n",
       "19.0     3\n",
       "20.0     6\n",
       "21.0     3\n",
       "22.0     5\n",
       "23.0     4\n",
       "24.0     4\n",
       "25.0     2\n",
       "26.0     2\n",
       "27.0     1\n",
       "28.0     2\n",
       "30.0     2\n",
       "32.0     3\n",
       "33.0     1\n",
       "35.0     1\n",
       "36.0     2\n",
       "38.0     1\n",
       "39.0     2\n",
       "41.0     1\n",
       "42.0     1\n",
       "49.0     1\n",
       "Name: institute_service, dtype: int64"
      ]
     },
     "execution_count": 56,
     "metadata": {},
     "output_type": "execute_result"
    }
   ],
   "source": [
    "dete_select_cease_years['institute_service'].value_counts().sort_index()"
   ]
  },
  {
   "cell_type": "code",
   "execution_count": 57,
   "metadata": {},
   "outputs": [
    {
     "data": {
      "image/png": "[encoded data removed]",
      "text/plain": [
       "<Figure size 600x400 with 1 Axes>"
      ]
     },
     "metadata": {},
     "output_type": "display_data"
    }
   ],
   "source": [
    "tafe_select_cease_years['institute_service'].value_counts().plot(kind='barh')\n",
    "plt.show()"
   ]
  },
  {
   "cell_type": "code",
   "execution_count": 58,
   "metadata": {},
   "outputs": [
    {
     "data": {
      "text/plain": [
       "array([[<matplotlib.axes._subplots.AxesSubplot object at 0x7fb20762d580>]],\n",
       "      dtype=object)"
      ]
     },
     "execution_count": 58,
     "metadata": {},
     "output_type": "execute_result"
    },
    {
     "data": {
      "image/png": "[encoded data removed]",
      "text/plain": [
       "<Figure size 600x400 with 1 Axes>"
      ]
     },
     "metadata": {},
     "output_type": "display_data"
    }
   ],
   "source": [
    "dete_select_cease_years.hist('institute_service',bins=10)"
   ]
  },
  {
   "cell_type": "code",
   "execution_count": 59,
   "metadata": {},
   "outputs": [
    {
     "data": {
      "text/plain": [
       "2012.0    94\n",
       "2013.0    55\n",
       "Name: cease_date, dtype: int64"
      ]
     },
     "execution_count": 59,
     "metadata": {},
     "output_type": "execute_result"
    }
   ],
   "source": [
    "tafe_select_cease_years['cease_date'].value_counts()"
   ]
  },
  {
   "cell_type": "code",
   "execution_count": 60,
   "metadata": {},
   "outputs": [
    {
     "data": {
      "text/plain": [
       "2013.0    146\n",
       "2012.0    129\n",
       "Name: cease_date, dtype: int64"
      ]
     },
     "execution_count": 60,
     "metadata": {},
     "output_type": "execute_result"
    }
   ],
   "source": [
    "dete_select_cease_years['cease_date'].value_counts()"
   ]
  },
  {
   "cell_type": "markdown",
   "metadata": {},
   "source": [
    "I selected only the data with the cease dates in the years 2012 and 2013 from the DETE and TAFE surveys to make the data consistent. These were the years with the greatest number of cease dates in the DETE survey, where the data was most reliable, and were among the years in the TAFE survey with large quantities of data. I then created a column in the DETE dataframe with the selected years that contained the difference between the end and start dates in the DETE system and called it institute service to match the dataframe with the selected cease years for TAFE. Note that the TAFE datframe has categories for cease years rather than specific times, so it will be necessary to categorize the DETE data. I preliminarily histogrammed this data and in a general sense, the distribution of the DETE data is consistent with the TAFE data."
   ]
  },
  {
   "cell_type": "code",
   "execution_count": 61,
   "metadata": {},
   "outputs": [],
   "source": [
    "def categorize_institute_service(years):\n",
    "    year_string=''\n",
    "    if years<1.0:\n",
    "        year_string='Less than 1 year'\n",
    "    elif years< 3.0:\n",
    "        year_string = '1-2'\n",
    "    elif years<5.0:\n",
    "        year_string='3-4'\n",
    "    elif years<6.0:\n",
    "        year_string='5-6'\n",
    "    elif years<11.0:\n",
    "        year_string='7-10'\n",
    "    elif years<21.0:\n",
    "        year_string='11-20'\n",
    "    else:\n",
    "        year_string='More than 20 years'\n",
    "    return year_string"
   ]
  },
  {
   "cell_type": "code",
   "execution_count": 62,
   "metadata": {},
   "outputs": [],
   "source": [
    "dete_year_categories=dete_select_cease_years['institute_service'].apply(categorize_institute_service)"
   ]
  },
  {
   "cell_type": "code",
   "execution_count": 63,
   "metadata": {},
   "outputs": [
    {
     "data": {
      "text/plain": [
       "More than 20 years    65\n",
       "11-20                 52\n",
       "7-10                  51\n",
       "1-2                   33\n",
       "3-4                   33\n",
       "5-6                   22\n",
       "Less than 1 year      19\n",
       "Name: institute_service, dtype: int64"
      ]
     },
     "execution_count": 63,
     "metadata": {},
     "output_type": "execute_result"
    }
   ],
   "source": [
    "dete_year_categories.value_counts()"
   ]
  },
  {
   "cell_type": "code",
   "execution_count": 64,
   "metadata": {},
   "outputs": [],
   "source": [
    "dete_select_cease_years['institute_service_category']=dete_year_categories"
   ]
  },
  {
   "cell_type": "code",
   "execution_count": 65,
   "metadata": {},
   "outputs": [
    {
     "data": {
      "text/plain": [
       "3      7-10\n",
       "5     11-20\n",
       "8       3-4\n",
       "9     11-20\n",
       "11      3-4\n",
       "Name: institute_service_category, dtype: object"
      ]
     },
     "execution_count": 65,
     "metadata": {},
     "output_type": "execute_result"
    }
   ],
   "source": [
    "dete_select_cease_years['institute_service_category'].head(5)"
   ]
  },
  {
   "cell_type": "code",
   "execution_count": 66,
   "metadata": {},
   "outputs": [],
   "source": [
    "dete_service=dete_select_cease_years['institute_service_category'].value_counts()"
   ]
  },
  {
   "cell_type": "code",
   "execution_count": 67,
   "metadata": {},
   "outputs": [
    {
     "data": {
      "text/plain": [
       "More than 20 years    65\n",
       "11-20                 52\n",
       "7-10                  51\n",
       "1-2                   33\n",
       "3-4                   33\n",
       "5-6                   22\n",
       "Less than 1 year      19\n",
       "Name: institute_service_category, dtype: int64"
      ]
     },
     "execution_count": 67,
     "metadata": {},
     "output_type": "execute_result"
    }
   ],
   "source": [
    "dete_service"
   ]
  },
  {
   "cell_type": "code",
   "execution_count": 68,
   "metadata": {},
   "outputs": [],
   "source": [
    "tafe_service=tafe_select_cease_years['institute_service'].value_counts()"
   ]
  },
  {
   "cell_type": "code",
   "execution_count": 69,
   "metadata": {},
   "outputs": [
    {
     "data": {
      "text/plain": [
       "1-2                   37\n",
       "3-4                   27\n",
       "Less than 1 year      26\n",
       "5-6                   18\n",
       "7-10                  13\n",
       "11-20                 10\n",
       "More than 20 years     1\n",
       "Name: institute_service, dtype: int64"
      ]
     },
     "execution_count": 69,
     "metadata": {},
     "output_type": "execute_result"
    }
   ],
   "source": [
    "tafe_service"
   ]
  },
  {
   "cell_type": "code",
   "execution_count": 70,
   "metadata": {},
   "outputs": [],
   "source": [
    "service_category_sort_map={'Less than 1 year':0, '1-2':1,'3-4':2,'5-6':3,'7-10':4,'11-20':5,'More than 20 years':6}"
   ]
  },
  {
   "cell_type": "code",
   "execution_count": 71,
   "metadata": {},
   "outputs": [],
   "source": [
    "dete_service.index.name='years_served'"
   ]
  },
  {
   "cell_type": "code",
   "execution_count": 72,
   "metadata": {},
   "outputs": [],
   "source": [
    "tafe_service.index.name='years_served'"
   ]
  },
  {
   "cell_type": "code",
   "execution_count": 73,
   "metadata": {},
   "outputs": [],
   "source": [
    "df_dete_service=pd.DataFrame()"
   ]
  },
  {
   "cell_type": "code",
   "execution_count": 74,
   "metadata": {},
   "outputs": [],
   "source": [
    "df_dete_service['count']=dete_service"
   ]
  },
  {
   "cell_type": "code",
   "execution_count": 75,
   "metadata": {},
   "outputs": [
    {
     "data": {
      "text/html": [
       "<div>\n",
       "<style scoped>\n",
       "    .dataframe tbody tr th:only-of-type {\n",
       "        vertical-align: middle;\n",
       "    }\n",
       "\n",
       "    .dataframe tbody tr th {\n",
       "        vertical-align: top;\n",
       "    }\n",
       "\n",
       "    .dataframe thead th {\n",
       "        text-align: right;\n",
       "    }\n",
       "</style>\n",
       "<table border=\"1\" class=\"dataframe\">\n",
       "  <thead>\n",
       "    <tr style=\"text-align: right;\">\n",
       "      <th></th>\n",
       "      <th>count</th>\n",
       "    </tr>\n",
       "    <tr>\n",
       "      <th>years_served</th>\n",
       "      <th></th>\n",
       "    </tr>\n",
       "  </thead>\n",
       "  <tbody>\n",
       "    <tr>\n",
       "      <th>More than 20 years</th>\n",
       "      <td>65</td>\n",
       "    </tr>\n",
       "    <tr>\n",
       "      <th>11-20</th>\n",
       "      <td>52</td>\n",
       "    </tr>\n",
       "    <tr>\n",
       "      <th>7-10</th>\n",
       "      <td>51</td>\n",
       "    </tr>\n",
       "    <tr>\n",
       "      <th>1-2</th>\n",
       "      <td>33</td>\n",
       "    </tr>\n",
       "    <tr>\n",
       "      <th>3-4</th>\n",
       "      <td>33</td>\n",
       "    </tr>\n",
       "    <tr>\n",
       "      <th>5-6</th>\n",
       "      <td>22</td>\n",
       "    </tr>\n",
       "    <tr>\n",
       "      <th>Less than 1 year</th>\n",
       "      <td>19</td>\n",
       "    </tr>\n",
       "  </tbody>\n",
       "</table>\n",
       "</div>"
      ],
      "text/plain": [
       "                    count\n",
       "years_served             \n",
       "More than 20 years     65\n",
       "11-20                  52\n",
       "7-10                   51\n",
       "1-2                    33\n",
       "3-4                    33\n",
       "5-6                    22\n",
       "Less than 1 year       19"
      ]
     },
     "execution_count": 75,
     "metadata": {},
     "output_type": "execute_result"
    }
   ],
   "source": [
    "df_dete_service"
   ]
  },
  {
   "cell_type": "code",
   "execution_count": 76,
   "metadata": {},
   "outputs": [],
   "source": [
    "df_tafe_service=pd.DataFrame()"
   ]
  },
  {
   "cell_type": "code",
   "execution_count": 77,
   "metadata": {},
   "outputs": [],
   "source": [
    "df_tafe_service['count']=tafe_service"
   ]
  },
  {
   "cell_type": "code",
   "execution_count": 78,
   "metadata": {},
   "outputs": [],
   "source": [
    "df_dete_service=df_dete_service.reset_index()"
   ]
  },
  {
   "cell_type": "code",
   "execution_count": 79,
   "metadata": {},
   "outputs": [],
   "source": [
    "df_tafe_service=df_tafe_service.reset_index()"
   ]
  },
  {
   "cell_type": "code",
   "execution_count": 80,
   "metadata": {},
   "outputs": [
    {
     "data": {
      "text/plain": [
       "0                   1-2\n",
       "1                   3-4\n",
       "2      Less than 1 year\n",
       "3                   5-6\n",
       "4                  7-10\n",
       "5                 11-20\n",
       "6    More than 20 years\n",
       "Name: years_served, dtype: object"
      ]
     },
     "execution_count": 80,
     "metadata": {},
     "output_type": "execute_result"
    }
   ],
   "source": [
    "df_tafe_service['years_served']"
   ]
  },
  {
   "cell_type": "code",
   "execution_count": 81,
   "metadata": {},
   "outputs": [],
   "source": [
    "df_tafe_service['order']=df_tafe_service['years_served'].map(service_category_sort_map)"
   ]
  },
  {
   "cell_type": "code",
   "execution_count": 82,
   "metadata": {},
   "outputs": [],
   "source": [
    "df_tafe_service=df_tafe_service.sort_values('order',ascending=False)"
   ]
  },
  {
   "cell_type": "code",
   "execution_count": 83,
   "metadata": {},
   "outputs": [
    {
     "data": {
      "text/html": [
       "<div>\n",
       "<style scoped>\n",
       "    .dataframe tbody tr th:only-of-type {\n",
       "        vertical-align: middle;\n",
       "    }\n",
       "\n",
       "    .dataframe tbody tr th {\n",
       "        vertical-align: top;\n",
       "    }\n",
       "\n",
       "    .dataframe thead th {\n",
       "        text-align: right;\n",
       "    }\n",
       "</style>\n",
       "<table border=\"1\" class=\"dataframe\">\n",
       "  <thead>\n",
       "    <tr style=\"text-align: right;\">\n",
       "      <th></th>\n",
       "      <th>years_served</th>\n",
       "      <th>count</th>\n",
       "      <th>order</th>\n",
       "    </tr>\n",
       "  </thead>\n",
       "  <tbody>\n",
       "    <tr>\n",
       "      <th>6</th>\n",
       "      <td>More than 20 years</td>\n",
       "      <td>1</td>\n",
       "      <td>6</td>\n",
       "    </tr>\n",
       "    <tr>\n",
       "      <th>5</th>\n",
       "      <td>11-20</td>\n",
       "      <td>10</td>\n",
       "      <td>5</td>\n",
       "    </tr>\n",
       "    <tr>\n",
       "      <th>4</th>\n",
       "      <td>7-10</td>\n",
       "      <td>13</td>\n",
       "      <td>4</td>\n",
       "    </tr>\n",
       "    <tr>\n",
       "      <th>3</th>\n",
       "      <td>5-6</td>\n",
       "      <td>18</td>\n",
       "      <td>3</td>\n",
       "    </tr>\n",
       "    <tr>\n",
       "      <th>1</th>\n",
       "      <td>3-4</td>\n",
       "      <td>27</td>\n",
       "      <td>2</td>\n",
       "    </tr>\n",
       "    <tr>\n",
       "      <th>0</th>\n",
       "      <td>1-2</td>\n",
       "      <td>37</td>\n",
       "      <td>1</td>\n",
       "    </tr>\n",
       "    <tr>\n",
       "      <th>2</th>\n",
       "      <td>Less than 1 year</td>\n",
       "      <td>26</td>\n",
       "      <td>0</td>\n",
       "    </tr>\n",
       "  </tbody>\n",
       "</table>\n",
       "</div>"
      ],
      "text/plain": [
       "         years_served  count  order\n",
       "6  More than 20 years      1      6\n",
       "5               11-20     10      5\n",
       "4                7-10     13      4\n",
       "3                 5-6     18      3\n",
       "1                 3-4     27      2\n",
       "0                 1-2     37      1\n",
       "2    Less than 1 year     26      0"
      ]
     },
     "execution_count": 83,
     "metadata": {},
     "output_type": "execute_result"
    }
   ],
   "source": [
    "df_tafe_service"
   ]
  },
  {
   "cell_type": "code",
   "execution_count": 84,
   "metadata": {},
   "outputs": [],
   "source": [
    "df_dete_service['order']=df_dete_service['years_served'].map(service_category_sort_map)"
   ]
  },
  {
   "cell_type": "code",
   "execution_count": 85,
   "metadata": {},
   "outputs": [],
   "source": [
    "df_dete_service=df_dete_service.sort_values('order',ascending=False)"
   ]
  },
  {
   "cell_type": "code",
   "execution_count": 86,
   "metadata": {},
   "outputs": [
    {
     "data": {
      "text/html": [
       "<div>\n",
       "<style scoped>\n",
       "    .dataframe tbody tr th:only-of-type {\n",
       "        vertical-align: middle;\n",
       "    }\n",
       "\n",
       "    .dataframe tbody tr th {\n",
       "        vertical-align: top;\n",
       "    }\n",
       "\n",
       "    .dataframe thead th {\n",
       "        text-align: right;\n",
       "    }\n",
       "</style>\n",
       "<table border=\"1\" class=\"dataframe\">\n",
       "  <thead>\n",
       "    <tr style=\"text-align: right;\">\n",
       "      <th></th>\n",
       "      <th>years_served</th>\n",
       "      <th>count</th>\n",
       "      <th>order</th>\n",
       "    </tr>\n",
       "  </thead>\n",
       "  <tbody>\n",
       "    <tr>\n",
       "      <th>0</th>\n",
       "      <td>More than 20 years</td>\n",
       "      <td>65</td>\n",
       "      <td>6</td>\n",
       "    </tr>\n",
       "    <tr>\n",
       "      <th>1</th>\n",
       "      <td>11-20</td>\n",
       "      <td>52</td>\n",
       "      <td>5</td>\n",
       "    </tr>\n",
       "    <tr>\n",
       "      <th>2</th>\n",
       "      <td>7-10</td>\n",
       "      <td>51</td>\n",
       "      <td>4</td>\n",
       "    </tr>\n",
       "    <tr>\n",
       "      <th>5</th>\n",
       "      <td>5-6</td>\n",
       "      <td>22</td>\n",
       "      <td>3</td>\n",
       "    </tr>\n",
       "    <tr>\n",
       "      <th>4</th>\n",
       "      <td>3-4</td>\n",
       "      <td>33</td>\n",
       "      <td>2</td>\n",
       "    </tr>\n",
       "    <tr>\n",
       "      <th>3</th>\n",
       "      <td>1-2</td>\n",
       "      <td>33</td>\n",
       "      <td>1</td>\n",
       "    </tr>\n",
       "    <tr>\n",
       "      <th>6</th>\n",
       "      <td>Less than 1 year</td>\n",
       "      <td>19</td>\n",
       "      <td>0</td>\n",
       "    </tr>\n",
       "  </tbody>\n",
       "</table>\n",
       "</div>"
      ],
      "text/plain": [
       "         years_served  count  order\n",
       "0  More than 20 years     65      6\n",
       "1               11-20     52      5\n",
       "2                7-10     51      4\n",
       "5                 5-6     22      3\n",
       "4                 3-4     33      2\n",
       "3                 1-2     33      1\n",
       "6    Less than 1 year     19      0"
      ]
     },
     "execution_count": 86,
     "metadata": {},
     "output_type": "execute_result"
    }
   ],
   "source": [
    "df_dete_service"
   ]
  },
  {
   "cell_type": "code",
   "execution_count": null,
   "metadata": {},
   "outputs": [],
   "source": []
  },
  {
   "cell_type": "code",
   "execution_count": 87,
   "metadata": {},
   "outputs": [],
   "source": [
    "both_service=pd.DataFrame()"
   ]
  },
  {
   "cell_type": "code",
   "execution_count": 88,
   "metadata": {},
   "outputs": [],
   "source": [
    "both_service['years_served']=df_dete_service['years_served']"
   ]
  },
  {
   "cell_type": "code",
   "execution_count": 89,
   "metadata": {},
   "outputs": [],
   "source": [
    "both_service['dete_count']=df_dete_service['count']"
   ]
  },
  {
   "cell_type": "code",
   "execution_count": 90,
   "metadata": {},
   "outputs": [],
   "source": [
    "both_service['tafe_count']=df_tafe_service['count']"
   ]
  },
  {
   "cell_type": "code",
   "execution_count": 91,
   "metadata": {},
   "outputs": [
    {
     "data": {
      "text/html": [
       "<div>\n",
       "<style scoped>\n",
       "    .dataframe tbody tr th:only-of-type {\n",
       "        vertical-align: middle;\n",
       "    }\n",
       "\n",
       "    .dataframe tbody tr th {\n",
       "        vertical-align: top;\n",
       "    }\n",
       "\n",
       "    .dataframe thead th {\n",
       "        text-align: right;\n",
       "    }\n",
       "</style>\n",
       "<table border=\"1\" class=\"dataframe\">\n",
       "  <thead>\n",
       "    <tr style=\"text-align: right;\">\n",
       "      <th></th>\n",
       "      <th>years_served</th>\n",
       "      <th>dete_count</th>\n",
       "      <th>tafe_count</th>\n",
       "    </tr>\n",
       "  </thead>\n",
       "  <tbody>\n",
       "    <tr>\n",
       "      <th>0</th>\n",
       "      <td>More than 20 years</td>\n",
       "      <td>65</td>\n",
       "      <td>37</td>\n",
       "    </tr>\n",
       "    <tr>\n",
       "      <th>1</th>\n",
       "      <td>11-20</td>\n",
       "      <td>52</td>\n",
       "      <td>27</td>\n",
       "    </tr>\n",
       "    <tr>\n",
       "      <th>2</th>\n",
       "      <td>7-10</td>\n",
       "      <td>51</td>\n",
       "      <td>26</td>\n",
       "    </tr>\n",
       "    <tr>\n",
       "      <th>5</th>\n",
       "      <td>5-6</td>\n",
       "      <td>22</td>\n",
       "      <td>10</td>\n",
       "    </tr>\n",
       "    <tr>\n",
       "      <th>4</th>\n",
       "      <td>3-4</td>\n",
       "      <td>33</td>\n",
       "      <td>13</td>\n",
       "    </tr>\n",
       "    <tr>\n",
       "      <th>3</th>\n",
       "      <td>1-2</td>\n",
       "      <td>33</td>\n",
       "      <td>18</td>\n",
       "    </tr>\n",
       "    <tr>\n",
       "      <th>6</th>\n",
       "      <td>Less than 1 year</td>\n",
       "      <td>19</td>\n",
       "      <td>1</td>\n",
       "    </tr>\n",
       "  </tbody>\n",
       "</table>\n",
       "</div>"
      ],
      "text/plain": [
       "         years_served  dete_count  tafe_count\n",
       "0  More than 20 years          65          37\n",
       "1               11-20          52          27\n",
       "2                7-10          51          26\n",
       "5                 5-6          22          10\n",
       "4                 3-4          33          13\n",
       "3                 1-2          33          18\n",
       "6    Less than 1 year          19           1"
      ]
     },
     "execution_count": 91,
     "metadata": {},
     "output_type": "execute_result"
    }
   ],
   "source": [
    "both_service"
   ]
  },
  {
   "cell_type": "markdown",
   "metadata": {},
   "source": [
    "# DETE vs TAFE: sensible data cuts, sensible data"
   ]
  },
  {
   "cell_type": "code",
   "execution_count": 92,
   "metadata": {},
   "outputs": [
    {
     "data": {
      "image/png": "[encoded data removed]",
      "text/plain": [
       "<Figure size 600x400 with 1 Axes>"
      ]
     },
     "metadata": {},
     "output_type": "display_data"
    }
   ],
   "source": [
    "both_service.plot.barh(x='years_served')\n",
    "plt.title('Survey Institute Service')\n",
    "plt.xlabel('Number of respondents')\n",
    "plt.ylabel('Number of years served')\n",
    "plt.legend(['DETE','TAFE'])\n",
    "plt.show()"
   ]
  },
  {
   "cell_type": "markdown",
   "metadata": {},
   "source": [
    "TAFE and DETE surveys have similar distributions suggesting that their populations were basically similar. The main distinction is in the less than one year of service population. Does this have to do with the cuts I made to the survey? Or does this have to do with some factor related to how the survey was given? Or to the inherrent population?"
   ]
  },
  {
   "cell_type": "markdown",
   "metadata": {},
   "source": [
    "**Less than 1 year**\n",
    "\n",
    "I am divided about what to do with the less than one year data\n",
    "\n",
    "- If this were an analysis about the difference between the two data sets, the less than one year data would be absolutely essential because of the difference it reveals.\n",
    "- However, this is an analysis that combines the two data sets to analyze other factors. The less than one year data may indicate some sampling bias, especially considering the low numbers in the TAFE data set, and it is possible I would get better results in an analysis of factors contributing to dissatisfaction if I reject these values. "
   ]
  },
  {
   "cell_type": "markdown",
   "metadata": {},
   "source": [
    "**I have decided to reject the values for the less than one year data**"
   ]
  },
  {
   "cell_type": "code",
   "execution_count": 93,
   "metadata": {},
   "outputs": [],
   "source": [
    "dete_gt_one_year=dete_select_cease_years[dete_select_cease_years['institute_service_category']!='Less than 1 year'].copy()"
   ]
  },
  {
   "cell_type": "code",
   "execution_count": 94,
   "metadata": {},
   "outputs": [
    {
     "data": {
      "text/plain": [
       "More than 20 years    65\n",
       "11-20                 52\n",
       "7-10                  51\n",
       "1-2                   33\n",
       "3-4                   33\n",
       "5-6                   22\n",
       "Name: institute_service_category, dtype: int64"
      ]
     },
     "execution_count": 94,
     "metadata": {},
     "output_type": "execute_result"
    }
   ],
   "source": [
    "dete_gt_one_year['institute_service_category'].value_counts()"
   ]
  },
  {
   "cell_type": "code",
   "execution_count": 95,
   "metadata": {},
   "outputs": [],
   "source": [
    "tafe_gt_one_year=tafe_select_cease_years[tafe_select_cease_years['institute_service']!='Less than 1 year'].copy()"
   ]
  },
  {
   "cell_type": "code",
   "execution_count": 96,
   "metadata": {},
   "outputs": [
    {
     "data": {
      "text/plain": [
       "1-2                   37\n",
       "3-4                   27\n",
       "5-6                   18\n",
       "7-10                  13\n",
       "11-20                 10\n",
       "More than 20 years     1\n",
       "Name: institute_service, dtype: int64"
      ]
     },
     "execution_count": 96,
     "metadata": {},
     "output_type": "execute_result"
    }
   ],
   "source": [
    "tafe_gt_one_year['institute_service'].value_counts()"
   ]
  },
  {
   "cell_type": "markdown",
   "metadata": {},
   "source": [
    "# Idenitify contributing factors: Was there dissatisfaction?"
   ]
  },
  {
   "cell_type": "code",
   "execution_count": 97,
   "metadata": {},
   "outputs": [
    {
     "data": {
      "text/plain": [
       "-                                         102\n",
       "Contributing Factors. Dissatisfaction      19\n",
       "Name: dissatisfaction, dtype: int64"
      ]
     },
     "execution_count": 97,
     "metadata": {},
     "output_type": "execute_result"
    }
   ],
   "source": [
    "tafe_gt_one_year['dissatisfaction'].value_counts()"
   ]
  },
  {
   "cell_type": "code",
   "execution_count": 98,
   "metadata": {},
   "outputs": [
    {
     "data": {
      "text/plain": [
       "-                      100\n",
       "Job Dissatisfaction     21\n",
       "Name: job_dissatisfaction, dtype: int64"
      ]
     },
     "execution_count": 98,
     "metadata": {},
     "output_type": "execute_result"
    }
   ],
   "source": [
    "tafe_gt_one_year['job_dissatisfaction'].value_counts()"
   ]
  },
  {
   "cell_type": "code",
   "execution_count": 99,
   "metadata": {},
   "outputs": [],
   "source": [
    "import numpy as np\n",
    "def update_vals(val):\n",
    "    mask = pd.array([True, False, pd.NA], dtype=\"boolean\")\n",
    "    new_val=True\n",
    "    if pd.isnull(val):\n",
    "        new_val=mask[2]\n",
    "    elif val=='-':\n",
    "        new_val=mask[0]\n",
    "    else:\n",
    "        new_val=mask[1]\n",
    "    return new_val"
   ]
  },
  {
   "cell_type": "code",
   "execution_count": 100,
   "metadata": {},
   "outputs": [],
   "source": [
    "d_col=['dissatisfaction','job_dissatisfaction']"
   ]
  },
  {
   "cell_type": "code",
   "execution_count": 101,
   "metadata": {},
   "outputs": [],
   "source": [
    "tafe_dissatisfaction_map=tafe_gt_one_year.copy()"
   ]
  },
  {
   "cell_type": "code",
   "execution_count": 102,
   "metadata": {},
   "outputs": [],
   "source": [
    "tafe_dissatisfaction_map[d_col]=tafe_gt_one_year[d_col].applymap(update_vals)"
   ]
  },
  {
   "cell_type": "code",
   "execution_count": 103,
   "metadata": {},
   "outputs": [
    {
     "name": "stdout",
     "output_type": "stream",
     "text": [
      "<class 'pandas.core.frame.DataFrame'>\n",
      "Int64Index: 123 entries, 274 to 701\n",
      "Data columns (total 23 columns):\n",
      " #   Column                         Non-Null Count  Dtype  \n",
      "---  ------                         --------------  -----  \n",
      " 0   id                             123 non-null    float64\n",
      " 1   institute                      123 non-null    object \n",
      " 2   work_area                      123 non-null    object \n",
      " 3   cease_date                     123 non-null    float64\n",
      " 4   separationtype                 123 non-null    object \n",
      " 5   career_move_to_public_sector   121 non-null    object \n",
      " 6   career_move_to_private_sector  121 non-null    object \n",
      " 7   self_employment                121 non-null    object \n",
      " 8   ill_health                     121 non-null    object \n",
      " 9   maternity/family               121 non-null    object \n",
      " 10  dissatisfaction                121 non-null    object \n",
      " 11  job_dissatisfaction            121 non-null    object \n",
      " 12  interpersonal_conflicts        121 non-null    object \n",
      " 13  study                          121 non-null    object \n",
      " 14  travel                         121 non-null    object \n",
      " 15  other_contributing_factors     121 non-null    object \n",
      " 16  no_contributing_factors        121 non-null    object \n",
      " 17  gender                         106 non-null    object \n",
      " 18  age                            106 non-null    object \n",
      " 19  employment_status              106 non-null    object \n",
      " 20  position                       106 non-null    object \n",
      " 21  institute_service              106 non-null    object \n",
      " 22  role_service                   106 non-null    object \n",
      "dtypes: float64(2), object(21)\n",
      "memory usage: 23.1+ KB\n"
     ]
    }
   ],
   "source": [
    "tafe_dissatisfaction_map.info()"
   ]
  },
  {
   "cell_type": "code",
   "execution_count": 104,
   "metadata": {},
   "outputs": [
    {
     "data": {
      "text/plain": [
       "True     102\n",
       "False     19\n",
       "Name: dissatisfaction, dtype: int64"
      ]
     },
     "execution_count": 104,
     "metadata": {},
     "output_type": "execute_result"
    }
   ],
   "source": [
    "tafe_dissatisfaction_map['dissatisfaction'].value_counts()"
   ]
  },
  {
   "cell_type": "code",
   "execution_count": 105,
   "metadata": {},
   "outputs": [
    {
     "data": {
      "text/plain": [
       "True     100\n",
       "False     21\n",
       "Name: job_dissatisfaction, dtype: int64"
      ]
     },
     "execution_count": 105,
     "metadata": {},
     "output_type": "execute_result"
    }
   ],
   "source": [
    "tafe_dissatisfaction_map['job_dissatisfaction'].value_counts()"
   ]
  },
  {
   "cell_type": "code",
   "execution_count": 106,
   "metadata": {},
   "outputs": [
    {
     "data": {
      "text/plain": [
       "Index(['id', 'institute', 'work_area', 'cease_date', 'separationtype',\n",
       "       'career_move_to_public_sector', 'career_move_to_private_sector',\n",
       "       'self_employment', 'ill_health', 'maternity/family', 'dissatisfaction',\n",
       "       'job_dissatisfaction', 'interpersonal_conflicts', 'study', 'travel',\n",
       "       'other_contributing_factors', 'no_contributing_factors', 'gender',\n",
       "       'age', 'employment_status', 'position', 'institute_service',\n",
       "       'role_service'],\n",
       "      dtype='object')"
      ]
     },
     "execution_count": 106,
     "metadata": {},
     "output_type": "execute_result"
    }
   ],
   "source": [
    "tafe_gt_one_year.columns"
   ]
  },
  {
   "cell_type": "code",
   "execution_count": 107,
   "metadata": {},
   "outputs": [],
   "source": [
    "tafe_gt_one_year=tafe_dissatisfaction_map"
   ]
  },
  {
   "cell_type": "code",
   "execution_count": 108,
   "metadata": {},
   "outputs": [],
   "source": [
    "tafe_gt_one_year['dissatisfied']=tafe_gt_one_year[d_col].any(axis=1)"
   ]
  },
  {
   "cell_type": "code",
   "execution_count": 109,
   "metadata": {},
   "outputs": [
    {
     "data": {
      "text/plain": [
       "True     114\n",
       "False      9\n",
       "Name: dissatisfied, dtype: int64"
      ]
     },
     "execution_count": 109,
     "metadata": {},
     "output_type": "execute_result"
    }
   ],
   "source": [
    "tafe_gt_one_year['dissatisfied'].value_counts()"
   ]
  },
  {
   "cell_type": "code",
   "execution_count": 110,
   "metadata": {},
   "outputs": [
    {
     "data": {
      "text/plain": [
       "Index(['id', 'separationtype', 'cease_date', 'dete_start_date',\n",
       "       'role_start_date', 'position', 'classification', 'region',\n",
       "       'business_unit', 'employment_status', 'career_move_to_public_sector',\n",
       "       'career_move_to_private_sector', 'interpersonal_conflicts',\n",
       "       'job_dissatisfaction', 'dissatisfaction_with_the_department',\n",
       "       'physical_work_environment', 'lack_of_recognition',\n",
       "       'lack_of_job_security', 'work_location', 'employment_conditions',\n",
       "       'maternity/family', 'relocation', 'study/travel', 'ill_health',\n",
       "       'traumatic_incident', 'work_life_balance', 'workload',\n",
       "       'none_of_the_above', 'gender', 'age', 'aboriginal', 'torres_strait',\n",
       "       'south_sea', 'disability', 'nesb', 'institute_service',\n",
       "       'institute_service_category'],\n",
       "      dtype='object')"
      ]
     },
     "execution_count": 110,
     "metadata": {},
     "output_type": "execute_result"
    }
   ],
   "source": [
    "dete_gt_one_year.columns"
   ]
  },
  {
   "cell_type": "code",
   "execution_count": 111,
   "metadata": {},
   "outputs": [],
   "source": [
    "d_col_dete=['job_dissatisfaction','dissatisfaction_with_the_department']"
   ]
  },
  {
   "cell_type": "code",
   "execution_count": 112,
   "metadata": {},
   "outputs": [],
   "source": [
    "dete_gt_one_year['dissatisfied']=dete_gt_one_year[d_col_dete].any(axis=1)"
   ]
  },
  {
   "cell_type": "code",
   "execution_count": 113,
   "metadata": {},
   "outputs": [],
   "source": [
    "dete_resignations_up=dete_gt_one_year.copy()"
   ]
  },
  {
   "cell_type": "code",
   "execution_count": 114,
   "metadata": {},
   "outputs": [],
   "source": [
    "tafe_resignations_up=tafe_gt_one_year.copy()"
   ]
  },
  {
   "cell_type": "code",
   "execution_count": 115,
   "metadata": {},
   "outputs": [
    {
     "data": {
      "text/plain": [
       "Index(['id', 'separationtype', 'cease_date', 'dete_start_date',\n",
       "       'role_start_date', 'position', 'classification', 'region',\n",
       "       'business_unit', 'employment_status', 'career_move_to_public_sector',\n",
       "       'career_move_to_private_sector', 'interpersonal_conflicts',\n",
       "       'job_dissatisfaction', 'dissatisfaction_with_the_department',\n",
       "       'physical_work_environment', 'lack_of_recognition',\n",
       "       'lack_of_job_security', 'work_location', 'employment_conditions',\n",
       "       'maternity/family', 'relocation', 'study/travel', 'ill_health',\n",
       "       'traumatic_incident', 'work_life_balance', 'workload',\n",
       "       'none_of_the_above', 'gender', 'age', 'aboriginal', 'torres_strait',\n",
       "       'south_sea', 'disability', 'nesb', 'institute_service',\n",
       "       'institute_service_category', 'dissatisfied'],\n",
       "      dtype='object')"
      ]
     },
     "execution_count": 115,
     "metadata": {},
     "output_type": "execute_result"
    }
   ],
   "source": [
    "dete_resignations_up.columns"
   ]
  },
  {
   "cell_type": "code",
   "execution_count": 116,
   "metadata": {},
   "outputs": [],
   "source": [
    "dete_resignations_up=dete_resignations_up.rename(columns={'dissatisfaction_with_the_department':'dissatisfaction'})"
   ]
  },
  {
   "cell_type": "code",
   "execution_count": 117,
   "metadata": {},
   "outputs": [
    {
     "data": {
      "text/plain": [
       "Index(['id', 'separationtype', 'cease_date', 'dete_start_date',\n",
       "       'role_start_date', 'position', 'classification', 'region',\n",
       "       'business_unit', 'employment_status', 'career_move_to_public_sector',\n",
       "       'career_move_to_private_sector', 'interpersonal_conflicts',\n",
       "       'job_dissatisfaction', 'dissatisfaction', 'physical_work_environment',\n",
       "       'lack_of_recognition', 'lack_of_job_security', 'work_location',\n",
       "       'employment_conditions', 'maternity/family', 'relocation',\n",
       "       'study/travel', 'ill_health', 'traumatic_incident', 'work_life_balance',\n",
       "       'workload', 'none_of_the_above', 'gender', 'age', 'aboriginal',\n",
       "       'torres_strait', 'south_sea', 'disability', 'nesb', 'institute_service',\n",
       "       'institute_service_category', 'dissatisfied'],\n",
       "      dtype='object')"
      ]
     },
     "execution_count": 117,
     "metadata": {},
     "output_type": "execute_result"
    }
   ],
   "source": [
    "dete_resignations_up.columns"
   ]
  },
  {
   "cell_type": "code",
   "execution_count": 118,
   "metadata": {},
   "outputs": [
    {
     "data": {
      "text/plain": [
       "Index(['id', 'institute', 'work_area', 'cease_date', 'separationtype',\n",
       "       'career_move_to_public_sector', 'career_move_to_private_sector',\n",
       "       'self_employment', 'ill_health', 'maternity/family', 'dissatisfaction',\n",
       "       'job_dissatisfaction', 'interpersonal_conflicts', 'study', 'travel',\n",
       "       'other_contributing_factors', 'no_contributing_factors', 'gender',\n",
       "       'age', 'employment_status', 'position', 'institute_service',\n",
       "       'role_service', 'dissatisfied'],\n",
       "      dtype='object')"
      ]
     },
     "execution_count": 118,
     "metadata": {},
     "output_type": "execute_result"
    }
   ],
   "source": [
    "tafe_resignations_up.columns"
   ]
  },
  {
   "cell_type": "markdown",
   "metadata": {},
   "source": [
    "I converted the dissatisfaction and job dissatisfaction columns in the TAFE survey and the job dissatisfaction and the dissatisfaction with the department columns in the DETE survey to TRUE/FALSE values, then I assigned a new column, dissatisfied, that was TRUE if either column was true, so that the employee was dissatisfied if they were dissatsified for either reason. "
   ]
  },
  {
   "cell_type": "code",
   "execution_count": 119,
   "metadata": {},
   "outputs": [
    {
     "data": {
      "text/html": [
       "<div>\n",
       "<style scoped>\n",
       "    .dataframe tbody tr th:only-of-type {\n",
       "        vertical-align: middle;\n",
       "    }\n",
       "\n",
       "    .dataframe tbody tr th {\n",
       "        vertical-align: top;\n",
       "    }\n",
       "\n",
       "    .dataframe thead th {\n",
       "        text-align: right;\n",
       "    }\n",
       "</style>\n",
       "<table border=\"1\" class=\"dataframe\">\n",
       "  <thead>\n",
       "    <tr style=\"text-align: right;\">\n",
       "      <th></th>\n",
       "      <th>id</th>\n",
       "      <th>institute</th>\n",
       "      <th>work_area</th>\n",
       "      <th>cease_date</th>\n",
       "      <th>separationtype</th>\n",
       "      <th>career_move_to_public_sector</th>\n",
       "      <th>career_move_to_private_sector</th>\n",
       "      <th>self_employment</th>\n",
       "      <th>ill_health</th>\n",
       "      <th>maternity/family</th>\n",
       "      <th>...</th>\n",
       "      <th>travel</th>\n",
       "      <th>other_contributing_factors</th>\n",
       "      <th>no_contributing_factors</th>\n",
       "      <th>gender</th>\n",
       "      <th>age</th>\n",
       "      <th>employment_status</th>\n",
       "      <th>position</th>\n",
       "      <th>institute_service</th>\n",
       "      <th>role_service</th>\n",
       "      <th>dissatisfied</th>\n",
       "    </tr>\n",
       "  </thead>\n",
       "  <tbody>\n",
       "    <tr>\n",
       "      <th>274</th>\n",
       "      <td>6.345579e+17</td>\n",
       "      <td>Southern Queensland Institute of TAFE</td>\n",
       "      <td>Non-Delivery (corporate)</td>\n",
       "      <td>2012.0</td>\n",
       "      <td>Resignation</td>\n",
       "      <td>-</td>\n",
       "      <td>Career Move - Private Sector</td>\n",
       "      <td>-</td>\n",
       "      <td>-</td>\n",
       "      <td>-</td>\n",
       "      <td>...</td>\n",
       "      <td>-</td>\n",
       "      <td>-</td>\n",
       "      <td>-</td>\n",
       "      <td>Male</td>\n",
       "      <td>46  50</td>\n",
       "      <td>Permanent Full-time</td>\n",
       "      <td>Administration (AO)</td>\n",
       "      <td>11-20</td>\n",
       "      <td>11-20</td>\n",
       "      <td>True</td>\n",
       "    </tr>\n",
       "    <tr>\n",
       "      <th>386</th>\n",
       "      <td>6.346177e+17</td>\n",
       "      <td>Southern Queensland Institute of TAFE</td>\n",
       "      <td>Delivery (teaching)</td>\n",
       "      <td>2012.0</td>\n",
       "      <td>Resignation</td>\n",
       "      <td>-</td>\n",
       "      <td>-</td>\n",
       "      <td>-</td>\n",
       "      <td>-</td>\n",
       "      <td>Maternity/Family</td>\n",
       "      <td>...</td>\n",
       "      <td>-</td>\n",
       "      <td>-</td>\n",
       "      <td>-</td>\n",
       "      <td>Male</td>\n",
       "      <td>41  45</td>\n",
       "      <td>Permanent Full-time</td>\n",
       "      <td>Teacher (including LVT)</td>\n",
       "      <td>3-4</td>\n",
       "      <td>3-4</td>\n",
       "      <td>True</td>\n",
       "    </tr>\n",
       "    <tr>\n",
       "      <th>389</th>\n",
       "      <td>6.346201e+17</td>\n",
       "      <td>Sunshine Coast Institute of TAFE</td>\n",
       "      <td>Non-Delivery (corporate)</td>\n",
       "      <td>2012.0</td>\n",
       "      <td>Resignation</td>\n",
       "      <td>Career Move - Public Sector</td>\n",
       "      <td>-</td>\n",
       "      <td>-</td>\n",
       "      <td>-</td>\n",
       "      <td>Maternity/Family</td>\n",
       "      <td>...</td>\n",
       "      <td>-</td>\n",
       "      <td>-</td>\n",
       "      <td>-</td>\n",
       "      <td>Female</td>\n",
       "      <td>36  40</td>\n",
       "      <td>Temporary Full-time</td>\n",
       "      <td>Administration (AO)</td>\n",
       "      <td>5-6</td>\n",
       "      <td>1-2</td>\n",
       "      <td>True</td>\n",
       "    </tr>\n",
       "    <tr>\n",
       "      <th>391</th>\n",
       "      <td>6.346236e+17</td>\n",
       "      <td>Southern Queensland Institute of TAFE</td>\n",
       "      <td>Non-Delivery (corporate)</td>\n",
       "      <td>2012.0</td>\n",
       "      <td>Resignation</td>\n",
       "      <td>-</td>\n",
       "      <td>-</td>\n",
       "      <td>-</td>\n",
       "      <td>Ill Health</td>\n",
       "      <td>-</td>\n",
       "      <td>...</td>\n",
       "      <td>-</td>\n",
       "      <td>-</td>\n",
       "      <td>-</td>\n",
       "      <td>Female</td>\n",
       "      <td>56 or older</td>\n",
       "      <td>Permanent Full-time</td>\n",
       "      <td>Administration (AO)</td>\n",
       "      <td>11-20</td>\n",
       "      <td>1-2</td>\n",
       "      <td>True</td>\n",
       "    </tr>\n",
       "    <tr>\n",
       "      <th>395</th>\n",
       "      <td>6.346348e+17</td>\n",
       "      <td>Brisbane North Institute of TAFE</td>\n",
       "      <td>Delivery (teaching)</td>\n",
       "      <td>2012.0</td>\n",
       "      <td>Resignation</td>\n",
       "      <td>-</td>\n",
       "      <td>-</td>\n",
       "      <td>-</td>\n",
       "      <td>-</td>\n",
       "      <td>-</td>\n",
       "      <td>...</td>\n",
       "      <td>-</td>\n",
       "      <td>-</td>\n",
       "      <td>-</td>\n",
       "      <td>Female</td>\n",
       "      <td>31  35</td>\n",
       "      <td>Permanent Full-time</td>\n",
       "      <td>Teacher (including LVT)</td>\n",
       "      <td>1-2</td>\n",
       "      <td>1-2</td>\n",
       "      <td>True</td>\n",
       "    </tr>\n",
       "  </tbody>\n",
       "</table>\n",
       "<p>5 rows × 24 columns</p>\n",
       "</div>"
      ],
      "text/plain": [
       "               id                              institute  \\\n",
       "274  6.345579e+17  Southern Queensland Institute of TAFE   \n",
       "386  6.346177e+17  Southern Queensland Institute of TAFE   \n",
       "389  6.346201e+17       Sunshine Coast Institute of TAFE   \n",
       "391  6.346236e+17  Southern Queensland Institute of TAFE   \n",
       "395  6.346348e+17       Brisbane North Institute of TAFE   \n",
       "\n",
       "                    work_area  cease_date separationtype  \\\n",
       "274  Non-Delivery (corporate)      2012.0    Resignation   \n",
       "386       Delivery (teaching)      2012.0    Resignation   \n",
       "389  Non-Delivery (corporate)      2012.0    Resignation   \n",
       "391  Non-Delivery (corporate)      2012.0    Resignation   \n",
       "395       Delivery (teaching)      2012.0    Resignation   \n",
       "\n",
       "    career_move_to_public_sector career_move_to_private_sector  \\\n",
       "274                            -  Career Move - Private Sector   \n",
       "386                            -                             -   \n",
       "389  Career Move - Public Sector                             -   \n",
       "391                            -                             -   \n",
       "395                            -                             -   \n",
       "\n",
       "    self_employment  ill_health  maternity/family  ... travel  \\\n",
       "274               -           -                 -  ...      -   \n",
       "386               -           -  Maternity/Family  ...      -   \n",
       "389               -           -  Maternity/Family  ...      -   \n",
       "391               -  Ill Health                 -  ...      -   \n",
       "395               -           -                 -  ...      -   \n",
       "\n",
       "    other_contributing_factors no_contributing_factors  gender          age  \\\n",
       "274                          -                       -    Male       46  50   \n",
       "386                          -                       -    Male       41  45   \n",
       "389                          -                       -  Female       36  40   \n",
       "391                          -                       -  Female  56 or older   \n",
       "395                          -                       -  Female       31  35   \n",
       "\n",
       "       employment_status                 position institute_service  \\\n",
       "274  Permanent Full-time      Administration (AO)             11-20   \n",
       "386  Permanent Full-time  Teacher (including LVT)               3-4   \n",
       "389  Temporary Full-time      Administration (AO)               5-6   \n",
       "391  Permanent Full-time      Administration (AO)             11-20   \n",
       "395  Permanent Full-time  Teacher (including LVT)               1-2   \n",
       "\n",
       "    role_service dissatisfied  \n",
       "274        11-20         True  \n",
       "386          3-4         True  \n",
       "389          1-2         True  \n",
       "391          1-2         True  \n",
       "395          1-2         True  \n",
       "\n",
       "[5 rows x 24 columns]"
      ]
     },
     "execution_count": 119,
     "metadata": {},
     "output_type": "execute_result"
    }
   ],
   "source": [
    "tafe_resignations_up.head()"
   ]
  },
  {
   "cell_type": "code",
   "execution_count": 120,
   "metadata": {},
   "outputs": [
    {
     "data": {
      "text/html": [
       "<div>\n",
       "<style scoped>\n",
       "    .dataframe tbody tr th:only-of-type {\n",
       "        vertical-align: middle;\n",
       "    }\n",
       "\n",
       "    .dataframe tbody tr th {\n",
       "        vertical-align: top;\n",
       "    }\n",
       "\n",
       "    .dataframe thead th {\n",
       "        text-align: right;\n",
       "    }\n",
       "</style>\n",
       "<table border=\"1\" class=\"dataframe\">\n",
       "  <thead>\n",
       "    <tr style=\"text-align: right;\">\n",
       "      <th></th>\n",
       "      <th>id</th>\n",
       "      <th>separationtype</th>\n",
       "      <th>cease_date</th>\n",
       "      <th>dete_start_date</th>\n",
       "      <th>role_start_date</th>\n",
       "      <th>position</th>\n",
       "      <th>classification</th>\n",
       "      <th>region</th>\n",
       "      <th>business_unit</th>\n",
       "      <th>employment_status</th>\n",
       "      <th>...</th>\n",
       "      <th>gender</th>\n",
       "      <th>age</th>\n",
       "      <th>aboriginal</th>\n",
       "      <th>torres_strait</th>\n",
       "      <th>south_sea</th>\n",
       "      <th>disability</th>\n",
       "      <th>nesb</th>\n",
       "      <th>institute_service</th>\n",
       "      <th>institute_service_category</th>\n",
       "      <th>dissatisfied</th>\n",
       "    </tr>\n",
       "  </thead>\n",
       "  <tbody>\n",
       "    <tr>\n",
       "      <th>3</th>\n",
       "      <td>4</td>\n",
       "      <td>Resignation-Other reasons</td>\n",
       "      <td>2012.0</td>\n",
       "      <td>2005.0</td>\n",
       "      <td>2006.0</td>\n",
       "      <td>Teacher</td>\n",
       "      <td>Primary</td>\n",
       "      <td>Central Queensland</td>\n",
       "      <td>NaN</td>\n",
       "      <td>Permanent Full-time</td>\n",
       "      <td>...</td>\n",
       "      <td>Female</td>\n",
       "      <td>36-40</td>\n",
       "      <td>NaN</td>\n",
       "      <td>NaN</td>\n",
       "      <td>NaN</td>\n",
       "      <td>NaN</td>\n",
       "      <td>NaN</td>\n",
       "      <td>7.0</td>\n",
       "      <td>7-10</td>\n",
       "      <td>False</td>\n",
       "    </tr>\n",
       "    <tr>\n",
       "      <th>5</th>\n",
       "      <td>6</td>\n",
       "      <td>Resignation-Other reasons</td>\n",
       "      <td>2012.0</td>\n",
       "      <td>1994.0</td>\n",
       "      <td>1997.0</td>\n",
       "      <td>Guidance Officer</td>\n",
       "      <td>NaN</td>\n",
       "      <td>Central Office</td>\n",
       "      <td>Education Queensland</td>\n",
       "      <td>Permanent Full-time</td>\n",
       "      <td>...</td>\n",
       "      <td>Female</td>\n",
       "      <td>41-45</td>\n",
       "      <td>NaN</td>\n",
       "      <td>NaN</td>\n",
       "      <td>NaN</td>\n",
       "      <td>NaN</td>\n",
       "      <td>NaN</td>\n",
       "      <td>18.0</td>\n",
       "      <td>11-20</td>\n",
       "      <td>False</td>\n",
       "    </tr>\n",
       "    <tr>\n",
       "      <th>8</th>\n",
       "      <td>9</td>\n",
       "      <td>Resignation-Other reasons</td>\n",
       "      <td>2012.0</td>\n",
       "      <td>2009.0</td>\n",
       "      <td>2009.0</td>\n",
       "      <td>Teacher</td>\n",
       "      <td>Secondary</td>\n",
       "      <td>North Queensland</td>\n",
       "      <td>NaN</td>\n",
       "      <td>Permanent Full-time</td>\n",
       "      <td>...</td>\n",
       "      <td>Female</td>\n",
       "      <td>31-35</td>\n",
       "      <td>NaN</td>\n",
       "      <td>NaN</td>\n",
       "      <td>NaN</td>\n",
       "      <td>NaN</td>\n",
       "      <td>NaN</td>\n",
       "      <td>3.0</td>\n",
       "      <td>3-4</td>\n",
       "      <td>False</td>\n",
       "    </tr>\n",
       "    <tr>\n",
       "      <th>9</th>\n",
       "      <td>10</td>\n",
       "      <td>Resignation-Other employer</td>\n",
       "      <td>2012.0</td>\n",
       "      <td>1997.0</td>\n",
       "      <td>2008.0</td>\n",
       "      <td>Teacher Aide</td>\n",
       "      <td>NaN</td>\n",
       "      <td>NaN</td>\n",
       "      <td>NaN</td>\n",
       "      <td>Permanent Part-time</td>\n",
       "      <td>...</td>\n",
       "      <td>Female</td>\n",
       "      <td>46-50</td>\n",
       "      <td>NaN</td>\n",
       "      <td>NaN</td>\n",
       "      <td>NaN</td>\n",
       "      <td>NaN</td>\n",
       "      <td>NaN</td>\n",
       "      <td>15.0</td>\n",
       "      <td>11-20</td>\n",
       "      <td>True</td>\n",
       "    </tr>\n",
       "    <tr>\n",
       "      <th>11</th>\n",
       "      <td>12</td>\n",
       "      <td>Resignation-Move overseas/interstate</td>\n",
       "      <td>2012.0</td>\n",
       "      <td>2009.0</td>\n",
       "      <td>2009.0</td>\n",
       "      <td>Teacher</td>\n",
       "      <td>Secondary</td>\n",
       "      <td>Far North Queensland</td>\n",
       "      <td>NaN</td>\n",
       "      <td>Permanent Full-time</td>\n",
       "      <td>...</td>\n",
       "      <td>Male</td>\n",
       "      <td>31-35</td>\n",
       "      <td>NaN</td>\n",
       "      <td>NaN</td>\n",
       "      <td>NaN</td>\n",
       "      <td>NaN</td>\n",
       "      <td>NaN</td>\n",
       "      <td>3.0</td>\n",
       "      <td>3-4</td>\n",
       "      <td>False</td>\n",
       "    </tr>\n",
       "  </tbody>\n",
       "</table>\n",
       "<p>5 rows × 38 columns</p>\n",
       "</div>"
      ],
      "text/plain": [
       "    id                        separationtype  cease_date  dete_start_date  \\\n",
       "3    4             Resignation-Other reasons      2012.0           2005.0   \n",
       "5    6             Resignation-Other reasons      2012.0           1994.0   \n",
       "8    9             Resignation-Other reasons      2012.0           2009.0   \n",
       "9   10            Resignation-Other employer      2012.0           1997.0   \n",
       "11  12  Resignation-Move overseas/interstate      2012.0           2009.0   \n",
       "\n",
       "    role_start_date          position classification                region  \\\n",
       "3            2006.0           Teacher        Primary    Central Queensland   \n",
       "5            1997.0  Guidance Officer            NaN        Central Office   \n",
       "8            2009.0           Teacher      Secondary      North Queensland   \n",
       "9            2008.0      Teacher Aide            NaN                   NaN   \n",
       "11           2009.0           Teacher      Secondary  Far North Queensland   \n",
       "\n",
       "           business_unit    employment_status  ...  gender    age  aboriginal  \\\n",
       "3                    NaN  Permanent Full-time  ...  Female  36-40         NaN   \n",
       "5   Education Queensland  Permanent Full-time  ...  Female  41-45         NaN   \n",
       "8                    NaN  Permanent Full-time  ...  Female  31-35         NaN   \n",
       "9                    NaN  Permanent Part-time  ...  Female  46-50         NaN   \n",
       "11                   NaN  Permanent Full-time  ...    Male  31-35         NaN   \n",
       "\n",
       "    torres_strait  south_sea  disability  nesb  institute_service  \\\n",
       "3             NaN        NaN         NaN   NaN                7.0   \n",
       "5             NaN        NaN         NaN   NaN               18.0   \n",
       "8             NaN        NaN         NaN   NaN                3.0   \n",
       "9             NaN        NaN         NaN   NaN               15.0   \n",
       "11            NaN        NaN         NaN   NaN                3.0   \n",
       "\n",
       "    institute_service_category  dissatisfied  \n",
       "3                         7-10         False  \n",
       "5                        11-20         False  \n",
       "8                          3-4         False  \n",
       "9                        11-20          True  \n",
       "11                         3-4         False  \n",
       "\n",
       "[5 rows x 38 columns]"
      ]
     },
     "execution_count": 120,
     "metadata": {},
     "output_type": "execute_result"
    }
   ],
   "source": [
    "dete_resignations_up.head()"
   ]
  },
  {
   "cell_type": "code",
   "execution_count": 121,
   "metadata": {},
   "outputs": [
    {
     "data": {
      "text/plain": [
       "Yes    6\n",
       "Name: aboriginal, dtype: int64"
      ]
     },
     "execution_count": 121,
     "metadata": {},
     "output_type": "execute_result"
    }
   ],
   "source": [
    "dete_resignations_up['aboriginal'].value_counts()"
   ]
  },
  {
   "cell_type": "code",
   "execution_count": 122,
   "metadata": {},
   "outputs": [],
   "source": [
    "dete_dei_col_map=['aboriginal','torres_strait','south_sea','disability','nesb']"
   ]
  },
  {
   "cell_type": "code",
   "execution_count": 123,
   "metadata": {},
   "outputs": [],
   "source": [
    "dete_resignations_up[dete_dei_col_map]=dete_resignations_up[dete_dei_col_map].applymap(update_vals)"
   ]
  },
  {
   "cell_type": "code",
   "execution_count": 124,
   "metadata": {},
   "outputs": [
    {
     "data": {
      "text/html": [
       "<div>\n",
       "<style scoped>\n",
       "    .dataframe tbody tr th:only-of-type {\n",
       "        vertical-align: middle;\n",
       "    }\n",
       "\n",
       "    .dataframe tbody tr th {\n",
       "        vertical-align: top;\n",
       "    }\n",
       "\n",
       "    .dataframe thead th {\n",
       "        text-align: right;\n",
       "    }\n",
       "</style>\n",
       "<table border=\"1\" class=\"dataframe\">\n",
       "  <thead>\n",
       "    <tr style=\"text-align: right;\">\n",
       "      <th></th>\n",
       "      <th>id</th>\n",
       "      <th>institute</th>\n",
       "      <th>work_area</th>\n",
       "      <th>cease_date</th>\n",
       "      <th>separationtype</th>\n",
       "      <th>career_move_to_public_sector</th>\n",
       "      <th>career_move_to_private_sector</th>\n",
       "      <th>self_employment</th>\n",
       "      <th>ill_health</th>\n",
       "      <th>maternity/family</th>\n",
       "      <th>...</th>\n",
       "      <th>travel</th>\n",
       "      <th>other_contributing_factors</th>\n",
       "      <th>no_contributing_factors</th>\n",
       "      <th>gender</th>\n",
       "      <th>age</th>\n",
       "      <th>employment_status</th>\n",
       "      <th>position</th>\n",
       "      <th>institute_service</th>\n",
       "      <th>role_service</th>\n",
       "      <th>dissatisfied</th>\n",
       "    </tr>\n",
       "  </thead>\n",
       "  <tbody>\n",
       "    <tr>\n",
       "      <th>274</th>\n",
       "      <td>6.345579e+17</td>\n",
       "      <td>Southern Queensland Institute of TAFE</td>\n",
       "      <td>Non-Delivery (corporate)</td>\n",
       "      <td>2012.0</td>\n",
       "      <td>Resignation</td>\n",
       "      <td>-</td>\n",
       "      <td>Career Move - Private Sector</td>\n",
       "      <td>-</td>\n",
       "      <td>-</td>\n",
       "      <td>-</td>\n",
       "      <td>...</td>\n",
       "      <td>-</td>\n",
       "      <td>-</td>\n",
       "      <td>-</td>\n",
       "      <td>Male</td>\n",
       "      <td>46  50</td>\n",
       "      <td>Permanent Full-time</td>\n",
       "      <td>Administration (AO)</td>\n",
       "      <td>11-20</td>\n",
       "      <td>11-20</td>\n",
       "      <td>True</td>\n",
       "    </tr>\n",
       "    <tr>\n",
       "      <th>386</th>\n",
       "      <td>6.346177e+17</td>\n",
       "      <td>Southern Queensland Institute of TAFE</td>\n",
       "      <td>Delivery (teaching)</td>\n",
       "      <td>2012.0</td>\n",
       "      <td>Resignation</td>\n",
       "      <td>-</td>\n",
       "      <td>-</td>\n",
       "      <td>-</td>\n",
       "      <td>-</td>\n",
       "      <td>Maternity/Family</td>\n",
       "      <td>...</td>\n",
       "      <td>-</td>\n",
       "      <td>-</td>\n",
       "      <td>-</td>\n",
       "      <td>Male</td>\n",
       "      <td>41  45</td>\n",
       "      <td>Permanent Full-time</td>\n",
       "      <td>Teacher (including LVT)</td>\n",
       "      <td>3-4</td>\n",
       "      <td>3-4</td>\n",
       "      <td>True</td>\n",
       "    </tr>\n",
       "    <tr>\n",
       "      <th>389</th>\n",
       "      <td>6.346201e+17</td>\n",
       "      <td>Sunshine Coast Institute of TAFE</td>\n",
       "      <td>Non-Delivery (corporate)</td>\n",
       "      <td>2012.0</td>\n",
       "      <td>Resignation</td>\n",
       "      <td>Career Move - Public Sector</td>\n",
       "      <td>-</td>\n",
       "      <td>-</td>\n",
       "      <td>-</td>\n",
       "      <td>Maternity/Family</td>\n",
       "      <td>...</td>\n",
       "      <td>-</td>\n",
       "      <td>-</td>\n",
       "      <td>-</td>\n",
       "      <td>Female</td>\n",
       "      <td>36  40</td>\n",
       "      <td>Temporary Full-time</td>\n",
       "      <td>Administration (AO)</td>\n",
       "      <td>5-6</td>\n",
       "      <td>1-2</td>\n",
       "      <td>True</td>\n",
       "    </tr>\n",
       "    <tr>\n",
       "      <th>391</th>\n",
       "      <td>6.346236e+17</td>\n",
       "      <td>Southern Queensland Institute of TAFE</td>\n",
       "      <td>Non-Delivery (corporate)</td>\n",
       "      <td>2012.0</td>\n",
       "      <td>Resignation</td>\n",
       "      <td>-</td>\n",
       "      <td>-</td>\n",
       "      <td>-</td>\n",
       "      <td>Ill Health</td>\n",
       "      <td>-</td>\n",
       "      <td>...</td>\n",
       "      <td>-</td>\n",
       "      <td>-</td>\n",
       "      <td>-</td>\n",
       "      <td>Female</td>\n",
       "      <td>56 or older</td>\n",
       "      <td>Permanent Full-time</td>\n",
       "      <td>Administration (AO)</td>\n",
       "      <td>11-20</td>\n",
       "      <td>1-2</td>\n",
       "      <td>True</td>\n",
       "    </tr>\n",
       "    <tr>\n",
       "      <th>395</th>\n",
       "      <td>6.346348e+17</td>\n",
       "      <td>Brisbane North Institute of TAFE</td>\n",
       "      <td>Delivery (teaching)</td>\n",
       "      <td>2012.0</td>\n",
       "      <td>Resignation</td>\n",
       "      <td>-</td>\n",
       "      <td>-</td>\n",
       "      <td>-</td>\n",
       "      <td>-</td>\n",
       "      <td>-</td>\n",
       "      <td>...</td>\n",
       "      <td>-</td>\n",
       "      <td>-</td>\n",
       "      <td>-</td>\n",
       "      <td>Female</td>\n",
       "      <td>31  35</td>\n",
       "      <td>Permanent Full-time</td>\n",
       "      <td>Teacher (including LVT)</td>\n",
       "      <td>1-2</td>\n",
       "      <td>1-2</td>\n",
       "      <td>True</td>\n",
       "    </tr>\n",
       "  </tbody>\n",
       "</table>\n",
       "<p>5 rows × 24 columns</p>\n",
       "</div>"
      ],
      "text/plain": [
       "               id                              institute  \\\n",
       "274  6.345579e+17  Southern Queensland Institute of TAFE   \n",
       "386  6.346177e+17  Southern Queensland Institute of TAFE   \n",
       "389  6.346201e+17       Sunshine Coast Institute of TAFE   \n",
       "391  6.346236e+17  Southern Queensland Institute of TAFE   \n",
       "395  6.346348e+17       Brisbane North Institute of TAFE   \n",
       "\n",
       "                    work_area  cease_date separationtype  \\\n",
       "274  Non-Delivery (corporate)      2012.0    Resignation   \n",
       "386       Delivery (teaching)      2012.0    Resignation   \n",
       "389  Non-Delivery (corporate)      2012.0    Resignation   \n",
       "391  Non-Delivery (corporate)      2012.0    Resignation   \n",
       "395       Delivery (teaching)      2012.0    Resignation   \n",
       "\n",
       "    career_move_to_public_sector career_move_to_private_sector  \\\n",
       "274                            -  Career Move - Private Sector   \n",
       "386                            -                             -   \n",
       "389  Career Move - Public Sector                             -   \n",
       "391                            -                             -   \n",
       "395                            -                             -   \n",
       "\n",
       "    self_employment  ill_health  maternity/family  ... travel  \\\n",
       "274               -           -                 -  ...      -   \n",
       "386               -           -  Maternity/Family  ...      -   \n",
       "389               -           -  Maternity/Family  ...      -   \n",
       "391               -  Ill Health                 -  ...      -   \n",
       "395               -           -                 -  ...      -   \n",
       "\n",
       "    other_contributing_factors no_contributing_factors  gender          age  \\\n",
       "274                          -                       -    Male       46  50   \n",
       "386                          -                       -    Male       41  45   \n",
       "389                          -                       -  Female       36  40   \n",
       "391                          -                       -  Female  56 or older   \n",
       "395                          -                       -  Female       31  35   \n",
       "\n",
       "       employment_status                 position institute_service  \\\n",
       "274  Permanent Full-time      Administration (AO)             11-20   \n",
       "386  Permanent Full-time  Teacher (including LVT)               3-4   \n",
       "389  Temporary Full-time      Administration (AO)               5-6   \n",
       "391  Permanent Full-time      Administration (AO)             11-20   \n",
       "395  Permanent Full-time  Teacher (including LVT)               1-2   \n",
       "\n",
       "    role_service dissatisfied  \n",
       "274        11-20         True  \n",
       "386          3-4         True  \n",
       "389          1-2         True  \n",
       "391          1-2         True  \n",
       "395          1-2         True  \n",
       "\n",
       "[5 rows x 24 columns]"
      ]
     },
     "execution_count": 124,
     "metadata": {},
     "output_type": "execute_result"
    }
   ],
   "source": [
    "tafe_resignations_up.head()"
   ]
  },
  {
   "cell_type": "code",
   "execution_count": 125,
   "metadata": {},
   "outputs": [],
   "source": [
    "tafe_other_col_map=['career_move_to_public_sector','career_move_to_private_sector','self_employment','ill_health','maternity/family','interpersonal_conflicts','study','travel','other_contributing_factors', 'no_contributing_factors']"
   ]
  },
  {
   "cell_type": "code",
   "execution_count": 126,
   "metadata": {},
   "outputs": [
    {
     "data": {
      "text/plain": [
       "-                              106\n",
       "Career Move - Public Sector     15\n",
       "Name: career_move_to_public_sector, dtype: int64"
      ]
     },
     "execution_count": 126,
     "metadata": {},
     "output_type": "execute_result"
    }
   ],
   "source": [
    "tafe_resignations_up['career_move_to_public_sector'].value_counts()"
   ]
  },
  {
   "cell_type": "code",
   "execution_count": 127,
   "metadata": {},
   "outputs": [],
   "source": [
    "tafe_resignations_up[tafe_other_col_map]=tafe_resignations_up[tafe_other_col_map].applymap(update_vals)"
   ]
  },
  {
   "cell_type": "code",
   "execution_count": 128,
   "metadata": {},
   "outputs": [
    {
     "data": {
      "text/plain": [
       "True     106\n",
       "False     15\n",
       "Name: career_move_to_public_sector, dtype: int64"
      ]
     },
     "execution_count": 128,
     "metadata": {},
     "output_type": "execute_result"
    }
   ],
   "source": [
    "tafe_resignations_up['career_move_to_public_sector'].value_counts(dropna=True)"
   ]
  },
  {
   "cell_type": "code",
   "execution_count": 129,
   "metadata": {},
   "outputs": [
    {
     "data": {
      "text/plain": [
       "True     102\n",
       "False     19\n",
       "Name: dissatisfaction, dtype: int64"
      ]
     },
     "execution_count": 129,
     "metadata": {},
     "output_type": "execute_result"
    }
   ],
   "source": [
    "tafe_resignations_up['dissatisfaction'].value_counts()"
   ]
  },
  {
   "cell_type": "code",
   "execution_count": 130,
   "metadata": {},
   "outputs": [
    {
     "name": "stdout",
     "output_type": "stream",
     "text": [
      "<class 'pandas.core.frame.DataFrame'>\n",
      "Int64Index: 123 entries, 274 to 701\n",
      "Data columns (total 10 columns):\n",
      " #   Column                         Non-Null Count  Dtype \n",
      "---  ------                         --------------  ----- \n",
      " 0   career_move_to_public_sector   121 non-null    object\n",
      " 1   career_move_to_private_sector  121 non-null    object\n",
      " 2   self_employment                121 non-null    object\n",
      " 3   ill_health                     121 non-null    object\n",
      " 4   maternity/family               121 non-null    object\n",
      " 5   interpersonal_conflicts        121 non-null    object\n",
      " 6   study                          121 non-null    object\n",
      " 7   travel                         121 non-null    object\n",
      " 8   other_contributing_factors     121 non-null    object\n",
      " 9   no_contributing_factors        121 non-null    object\n",
      "dtypes: object(10)\n",
      "memory usage: 10.6+ KB\n"
     ]
    }
   ],
   "source": [
    "tafe_resignations_up[tafe_other_col_map].info()"
   ]
  },
  {
   "cell_type": "code",
   "execution_count": 131,
   "metadata": {},
   "outputs": [],
   "source": [
    "dete_factor_col_map=['physical_work_environment',\n",
    "       'lack_of_recognition', 'lack_of_job_security', 'work_location',\n",
    "       'employment_conditions', 'maternity/family', 'relocation',\n",
    "       'study/travel', 'ill_health', 'traumatic_incident', 'work_life_balance',\n",
    "       'workload', 'none_of_the_above']"
   ]
  },
  {
   "cell_type": "code",
   "execution_count": 132,
   "metadata": {},
   "outputs": [],
   "source": [
    "dete_resignations_up[dete_factor_col_map]=dete_resignations_up[dete_factor_col_map].applymap(update_vals)"
   ]
  },
  {
   "cell_type": "code",
   "execution_count": 133,
   "metadata": {},
   "outputs": [],
   "source": [
    "tafe_resignations_up['study/travel']=tafe_resignations[['study','travel']].any(axis=1)"
   ]
  },
  {
   "cell_type": "code",
   "execution_count": 134,
   "metadata": {},
   "outputs": [],
   "source": [
    "tafe_resignations_up['institute_service_category']=tafe_resignations_up['institute_service']"
   ]
  },
  {
   "cell_type": "code",
   "execution_count": 135,
   "metadata": {},
   "outputs": [
    {
     "name": "stdout",
     "output_type": "stream",
     "text": [
      "<class 'pandas.core.frame.DataFrame'>\n",
      "Int64Index: 123 entries, 274 to 701\n",
      "Data columns (total 26 columns):\n",
      " #   Column                         Non-Null Count  Dtype  \n",
      "---  ------                         --------------  -----  \n",
      " 0   id                             123 non-null    float64\n",
      " 1   institute                      123 non-null    object \n",
      " 2   work_area                      123 non-null    object \n",
      " 3   cease_date                     123 non-null    float64\n",
      " 4   separationtype                 123 non-null    object \n",
      " 5   career_move_to_public_sector   121 non-null    object \n",
      " 6   career_move_to_private_sector  121 non-null    object \n",
      " 7   self_employment                121 non-null    object \n",
      " 8   ill_health                     121 non-null    object \n",
      " 9   maternity/family               121 non-null    object \n",
      " 10  dissatisfaction                121 non-null    object \n",
      " 11  job_dissatisfaction            121 non-null    object \n",
      " 12  interpersonal_conflicts        121 non-null    object \n",
      " 13  study                          121 non-null    object \n",
      " 14  travel                         121 non-null    object \n",
      " 15  other_contributing_factors     121 non-null    object \n",
      " 16  no_contributing_factors        121 non-null    object \n",
      " 17  gender                         106 non-null    object \n",
      " 18  age                            106 non-null    object \n",
      " 19  employment_status              106 non-null    object \n",
      " 20  position                       106 non-null    object \n",
      " 21  institute_service              106 non-null    object \n",
      " 22  role_service                   106 non-null    object \n",
      " 23  dissatisfied                   123 non-null    bool   \n",
      " 24  study/travel                   123 non-null    bool   \n",
      " 25  institute_service_category     106 non-null    object \n",
      "dtypes: bool(2), float64(2), object(22)\n",
      "memory usage: 24.3+ KB\n"
     ]
    }
   ],
   "source": [
    "tafe_resignations_up.info()"
   ]
  },
  {
   "cell_type": "code",
   "execution_count": 136,
   "metadata": {},
   "outputs": [
    {
     "data": {
      "text/plain": [
       "True     114\n",
       "False      9\n",
       "Name: dissatisfied, dtype: int64"
      ]
     },
     "execution_count": 136,
     "metadata": {},
     "output_type": "execute_result"
    }
   ],
   "source": [
    "tafe_resignations_up['dissatisfied'].value_counts()"
   ]
  },
  {
   "cell_type": "code",
   "execution_count": 137,
   "metadata": {},
   "outputs": [
    {
     "name": "stdout",
     "output_type": "stream",
     "text": [
      "<class 'pandas.core.frame.DataFrame'>\n",
      "Int64Index: 256 entries, 3 to 821\n",
      "Data columns (total 38 columns):\n",
      " #   Column                         Non-Null Count  Dtype  \n",
      "---  ------                         --------------  -----  \n",
      " 0   id                             256 non-null    int64  \n",
      " 1   separationtype                 256 non-null    object \n",
      " 2   cease_date                     256 non-null    float64\n",
      " 3   dete_start_date                229 non-null    float64\n",
      " 4   role_start_date                220 non-null    float64\n",
      " 5   position                       253 non-null    object \n",
      " 6   classification                 129 non-null    object \n",
      " 7   region                         213 non-null    object \n",
      " 8   business_unit                  24 non-null     object \n",
      " 9   employment_status              252 non-null    object \n",
      " 10  career_move_to_public_sector   256 non-null    bool   \n",
      " 11  career_move_to_private_sector  256 non-null    bool   \n",
      " 12  interpersonal_conflicts        256 non-null    bool   \n",
      " 13  job_dissatisfaction            256 non-null    bool   \n",
      " 14  dissatisfaction                256 non-null    bool   \n",
      " 15  physical_work_environment      256 non-null    bool   \n",
      " 16  lack_of_recognition            256 non-null    bool   \n",
      " 17  lack_of_job_security           256 non-null    bool   \n",
      " 18  work_location                  256 non-null    bool   \n",
      " 19  employment_conditions          256 non-null    bool   \n",
      " 20  maternity/family               256 non-null    bool   \n",
      " 21  relocation                     256 non-null    bool   \n",
      " 22  study/travel                   256 non-null    bool   \n",
      " 23  ill_health                     256 non-null    bool   \n",
      " 24  traumatic_incident             256 non-null    bool   \n",
      " 25  work_life_balance              256 non-null    bool   \n",
      " 26  workload                       256 non-null    bool   \n",
      " 27  none_of_the_above              256 non-null    bool   \n",
      " 28  gender                         248 non-null    object \n",
      " 29  age                            252 non-null    object \n",
      " 30  aboriginal                     6 non-null      object \n",
      " 31  torres_strait                  0 non-null      object \n",
      " 32  south_sea                      3 non-null      object \n",
      " 33  disability                     8 non-null      object \n",
      " 34  nesb                           9 non-null      object \n",
      " 35  institute_service              229 non-null    float64\n",
      " 36  institute_service_category     256 non-null    object \n",
      " 37  dissatisfied                   256 non-null    bool   \n",
      "dtypes: bool(19), float64(4), int64(1), object(14)\n",
      "memory usage: 44.8+ KB\n"
     ]
    }
   ],
   "source": [
    "dete_resignations_up.info()"
   ]
  },
  {
   "cell_type": "code",
   "execution_count": 138,
   "metadata": {},
   "outputs": [
    {
     "name": "stdout",
     "output_type": "stream",
     "text": [
      "<class 'pandas.core.frame.DataFrame'>\n",
      "Int64Index: 123 entries, 274 to 701\n",
      "Data columns (total 26 columns):\n",
      " #   Column                         Non-Null Count  Dtype  \n",
      "---  ------                         --------------  -----  \n",
      " 0   id                             123 non-null    float64\n",
      " 1   institute                      123 non-null    object \n",
      " 2   work_area                      123 non-null    object \n",
      " 3   cease_date                     123 non-null    float64\n",
      " 4   separationtype                 123 non-null    object \n",
      " 5   career_move_to_public_sector   121 non-null    object \n",
      " 6   career_move_to_private_sector  121 non-null    object \n",
      " 7   self_employment                121 non-null    object \n",
      " 8   ill_health                     121 non-null    object \n",
      " 9   maternity/family               121 non-null    object \n",
      " 10  dissatisfaction                121 non-null    object \n",
      " 11  job_dissatisfaction            121 non-null    object \n",
      " 12  interpersonal_conflicts        121 non-null    object \n",
      " 13  study                          121 non-null    object \n",
      " 14  travel                         121 non-null    object \n",
      " 15  other_contributing_factors     121 non-null    object \n",
      " 16  no_contributing_factors        121 non-null    object \n",
      " 17  gender                         106 non-null    object \n",
      " 18  age                            106 non-null    object \n",
      " 19  employment_status              106 non-null    object \n",
      " 20  position                       106 non-null    object \n",
      " 21  institute_service              106 non-null    object \n",
      " 22  role_service                   106 non-null    object \n",
      " 23  dissatisfied                   123 non-null    bool   \n",
      " 24  study/travel                   123 non-null    bool   \n",
      " 25  institute_service_category     106 non-null    object \n",
      "dtypes: bool(2), float64(2), object(22)\n",
      "memory usage: 24.3+ KB\n"
     ]
    }
   ],
   "source": [
    "tafe_resignations_up.info()"
   ]
  },
  {
   "cell_type": "markdown",
   "metadata": {},
   "source": [
    "I also cleaned the other columns of factors and DEI information to be true/false, when possible. I combined the travel and study columns in the tafe data frame using or logic to produce a travel/study column like the dete survey used. I matched column names when possible."
   ]
  },
  {
   "cell_type": "markdown",
   "metadata": {},
   "source": [
    "# COMBINING DATA FRAMES"
   ]
  },
  {
   "cell_type": "code",
   "execution_count": 139,
   "metadata": {},
   "outputs": [],
   "source": [
    "tafe_resignations_up['survey_institute']='TAFE'"
   ]
  },
  {
   "cell_type": "code",
   "execution_count": 140,
   "metadata": {},
   "outputs": [],
   "source": [
    "dete_resignations_up['survey_institute']='DETE'"
   ]
  },
  {
   "cell_type": "code",
   "execution_count": 141,
   "metadata": {},
   "outputs": [],
   "source": [
    "combined=pd.concat([dete_resignations_up,tafe_resignations_up])"
   ]
  },
  {
   "cell_type": "code",
   "execution_count": 142,
   "metadata": {},
   "outputs": [
    {
     "name": "stdout",
     "output_type": "stream",
     "text": [
      "<class 'pandas.core.frame.DataFrame'>\n",
      "Int64Index: 379 entries, 3 to 701\n",
      "Data columns (total 47 columns):\n",
      " #   Column                         Non-Null Count  Dtype  \n",
      "---  ------                         --------------  -----  \n",
      " 0   id                             379 non-null    float64\n",
      " 1   separationtype                 379 non-null    object \n",
      " 2   cease_date                     379 non-null    float64\n",
      " 3   dete_start_date                229 non-null    float64\n",
      " 4   role_start_date                220 non-null    float64\n",
      " 5   position                       359 non-null    object \n",
      " 6   classification                 129 non-null    object \n",
      " 7   region                         213 non-null    object \n",
      " 8   business_unit                  24 non-null     object \n",
      " 9   employment_status              358 non-null    object \n",
      " 10  career_move_to_public_sector   377 non-null    object \n",
      " 11  career_move_to_private_sector  377 non-null    object \n",
      " 12  interpersonal_conflicts        377 non-null    object \n",
      " 13  job_dissatisfaction            377 non-null    object \n",
      " 14  dissatisfaction                377 non-null    object \n",
      " 15  physical_work_environment      256 non-null    object \n",
      " 16  lack_of_recognition            256 non-null    object \n",
      " 17  lack_of_job_security           256 non-null    object \n",
      " 18  work_location                  256 non-null    object \n",
      " 19  employment_conditions          256 non-null    object \n",
      " 20  maternity/family               377 non-null    object \n",
      " 21  relocation                     256 non-null    object \n",
      " 22  study/travel                   379 non-null    bool   \n",
      " 23  ill_health                     377 non-null    object \n",
      " 24  traumatic_incident             256 non-null    object \n",
      " 25  work_life_balance              256 non-null    object \n",
      " 26  workload                       256 non-null    object \n",
      " 27  none_of_the_above              256 non-null    object \n",
      " 28  gender                         354 non-null    object \n",
      " 29  age                            358 non-null    object \n",
      " 30  aboriginal                     6 non-null      object \n",
      " 31  torres_strait                  0 non-null      object \n",
      " 32  south_sea                      3 non-null      object \n",
      " 33  disability                     8 non-null      object \n",
      " 34  nesb                           9 non-null      object \n",
      " 35  institute_service              335 non-null    object \n",
      " 36  institute_service_category     362 non-null    object \n",
      " 37  dissatisfied                   379 non-null    bool   \n",
      " 38  survey_institute               379 non-null    object \n",
      " 39  institute                      123 non-null    object \n",
      " 40  work_area                      123 non-null    object \n",
      " 41  self_employment                121 non-null    object \n",
      " 42  study                          121 non-null    object \n",
      " 43  travel                         121 non-null    object \n",
      " 44  other_contributing_factors     121 non-null    object \n",
      " 45  no_contributing_factors        121 non-null    object \n",
      " 46  role_service                   106 non-null    object \n",
      "dtypes: bool(2), float64(4), object(41)\n",
      "memory usage: 136.9+ KB\n"
     ]
    }
   ],
   "source": [
    "combined.info()"
   ]
  },
  {
   "cell_type": "code",
   "execution_count": 143,
   "metadata": {},
   "outputs": [],
   "source": [
    "combined_updated=combined.dropna(thresh=219, axis=1).copy()"
   ]
  },
  {
   "cell_type": "code",
   "execution_count": 144,
   "metadata": {},
   "outputs": [
    {
     "data": {
      "text/plain": [
       "Index(['id', 'separationtype', 'cease_date', 'dete_start_date',\n",
       "       'role_start_date', 'position', 'employment_status',\n",
       "       'career_move_to_public_sector', 'career_move_to_private_sector',\n",
       "       'interpersonal_conflicts', 'job_dissatisfaction', 'dissatisfaction',\n",
       "       'physical_work_environment', 'lack_of_recognition',\n",
       "       'lack_of_job_security', 'work_location', 'employment_conditions',\n",
       "       'maternity/family', 'relocation', 'study/travel', 'ill_health',\n",
       "       'traumatic_incident', 'work_life_balance', 'workload',\n",
       "       'none_of_the_above', 'gender', 'age', 'institute_service',\n",
       "       'institute_service_category', 'dissatisfied', 'survey_institute'],\n",
       "      dtype='object')"
      ]
     },
     "execution_count": 144,
     "metadata": {},
     "output_type": "execute_result"
    }
   ],
   "source": [
    "combined_updated.columns"
   ]
  },
  {
   "cell_type": "code",
   "execution_count": 145,
   "metadata": {},
   "outputs": [
    {
     "data": {
      "text/plain": [
       "Index(['id', 'separationtype', 'cease_date', 'dete_start_date',\n",
       "       'role_start_date', 'position', 'classification', 'region',\n",
       "       'business_unit', 'employment_status', 'career_move_to_public_sector',\n",
       "       'career_move_to_private_sector', 'interpersonal_conflicts',\n",
       "       'job_dissatisfaction', 'dissatisfaction', 'physical_work_environment',\n",
       "       'lack_of_recognition', 'lack_of_job_security', 'work_location',\n",
       "       'employment_conditions', 'maternity/family', 'relocation',\n",
       "       'study/travel', 'ill_health', 'traumatic_incident', 'work_life_balance',\n",
       "       'workload', 'none_of_the_above', 'gender', 'age', 'aboriginal',\n",
       "       'torres_strait', 'south_sea', 'disability', 'nesb', 'institute_service',\n",
       "       'institute_service_category', 'dissatisfied', 'survey_institute',\n",
       "       'institute', 'work_area', 'self_employment', 'study', 'travel',\n",
       "       'other_contributing_factors', 'no_contributing_factors',\n",
       "       'role_service'],\n",
       "      dtype='object')"
      ]
     },
     "execution_count": 145,
     "metadata": {},
     "output_type": "execute_result"
    }
   ],
   "source": [
    "combined.columns"
   ]
  },
  {
   "cell_type": "code",
   "execution_count": 146,
   "metadata": {},
   "outputs": [
    {
     "data": {
      "text/plain": [
       "False"
      ]
     },
     "execution_count": 146,
     "metadata": {},
     "output_type": "execute_result"
    }
   ],
   "source": [
    "combined.columns.to_list()==combined_updated.columns.to_list()"
   ]
  },
  {
   "cell_type": "code",
   "execution_count": 147,
   "metadata": {},
   "outputs": [
    {
     "name": "stdout",
     "output_type": "stream",
     "text": [
      "<class 'pandas.core.frame.DataFrame'>\n",
      "Int64Index: 379 entries, 3 to 701\n",
      "Data columns (total 31 columns):\n",
      " #   Column                         Non-Null Count  Dtype  \n",
      "---  ------                         --------------  -----  \n",
      " 0   id                             379 non-null    float64\n",
      " 1   separationtype                 379 non-null    object \n",
      " 2   cease_date                     379 non-null    float64\n",
      " 3   dete_start_date                229 non-null    float64\n",
      " 4   role_start_date                220 non-null    float64\n",
      " 5   position                       359 non-null    object \n",
      " 6   employment_status              358 non-null    object \n",
      " 7   career_move_to_public_sector   377 non-null    object \n",
      " 8   career_move_to_private_sector  377 non-null    object \n",
      " 9   interpersonal_conflicts        377 non-null    object \n",
      " 10  job_dissatisfaction            377 non-null    object \n",
      " 11  dissatisfaction                377 non-null    object \n",
      " 12  physical_work_environment      256 non-null    object \n",
      " 13  lack_of_recognition            256 non-null    object \n",
      " 14  lack_of_job_security           256 non-null    object \n",
      " 15  work_location                  256 non-null    object \n",
      " 16  employment_conditions          256 non-null    object \n",
      " 17  maternity/family               377 non-null    object \n",
      " 18  relocation                     256 non-null    object \n",
      " 19  study/travel                   379 non-null    bool   \n",
      " 20  ill_health                     377 non-null    object \n",
      " 21  traumatic_incident             256 non-null    object \n",
      " 22  work_life_balance              256 non-null    object \n",
      " 23  workload                       256 non-null    object \n",
      " 24  none_of_the_above              256 non-null    object \n",
      " 25  gender                         354 non-null    object \n",
      " 26  age                            358 non-null    object \n",
      " 27  institute_service              335 non-null    object \n",
      " 28  institute_service_category     362 non-null    object \n",
      " 29  dissatisfied                   379 non-null    bool   \n",
      " 30  survey_institute               379 non-null    object \n",
      "dtypes: bool(2), float64(4), object(25)\n",
      "memory usage: 89.6+ KB\n"
     ]
    }
   ],
   "source": [
    "combined_updated.info()"
   ]
  },
  {
   "cell_type": "code",
   "execution_count": 148,
   "metadata": {},
   "outputs": [
    {
     "data": {
      "text/html": [
       "<div>\n",
       "<style scoped>\n",
       "    .dataframe tbody tr th:only-of-type {\n",
       "        vertical-align: middle;\n",
       "    }\n",
       "\n",
       "    .dataframe tbody tr th {\n",
       "        vertical-align: top;\n",
       "    }\n",
       "\n",
       "    .dataframe thead th {\n",
       "        text-align: right;\n",
       "    }\n",
       "</style>\n",
       "<table border=\"1\" class=\"dataframe\">\n",
       "  <thead>\n",
       "    <tr style=\"text-align: right;\">\n",
       "      <th></th>\n",
       "      <th>study/travel</th>\n",
       "      <th>dissatisfied</th>\n",
       "    </tr>\n",
       "  </thead>\n",
       "  <tbody>\n",
       "    <tr>\n",
       "      <th>count</th>\n",
       "      <td>379</td>\n",
       "      <td>379</td>\n",
       "    </tr>\n",
       "    <tr>\n",
       "      <th>unique</th>\n",
       "      <td>2</td>\n",
       "      <td>2</td>\n",
       "    </tr>\n",
       "    <tr>\n",
       "      <th>top</th>\n",
       "      <td>False</td>\n",
       "      <td>False</td>\n",
       "    </tr>\n",
       "    <tr>\n",
       "      <th>freq</th>\n",
       "      <td>258</td>\n",
       "      <td>214</td>\n",
       "    </tr>\n",
       "  </tbody>\n",
       "</table>\n",
       "</div>"
      ],
      "text/plain": [
       "       study/travel dissatisfied\n",
       "count           379          379\n",
       "unique            2            2\n",
       "top           False        False\n",
       "freq            258          214"
      ]
     },
     "execution_count": 148,
     "metadata": {},
     "output_type": "execute_result"
    }
   ],
   "source": [
    "combined_updated.describe(include=[np.bool])"
   ]
  },
  {
   "cell_type": "code",
   "execution_count": 149,
   "metadata": {},
   "outputs": [
    {
     "data": {
      "text/plain": [
       "False    214\n",
       "True     165\n",
       "Name: dissatisfied, dtype: int64"
      ]
     },
     "execution_count": 149,
     "metadata": {},
     "output_type": "execute_result"
    }
   ],
   "source": [
    "combined_updated['dissatisfied'].value_counts(dropna=False)"
   ]
  },
  {
   "cell_type": "code",
   "execution_count": 150,
   "metadata": {},
   "outputs": [],
   "source": [
    "combined_updated['dissatisfied_number']=combined_updated['dissatisfied'].apply(lambda x: 1 if x else 0)"
   ]
  },
  {
   "cell_type": "markdown",
   "metadata": {},
   "source": [
    "# Dissatisfaction by Years of Service"
   ]
  },
  {
   "cell_type": "code",
   "execution_count": 151,
   "metadata": {},
   "outputs": [],
   "source": [
    "combined_pivot=pd.pivot_table(combined_updated,values='dissatisfied',columns='institute_service_category',aggfunc='mean')"
   ]
  },
  {
   "cell_type": "code",
   "execution_count": 152,
   "metadata": {},
   "outputs": [
    {
     "data": {
      "text/plain": [
       "Index(['1-2', '11-20', '3-4', '5-6', '7-10', 'More than 20 years'], dtype='object', name='institute_service_category')"
      ]
     },
     "execution_count": 152,
     "metadata": {},
     "output_type": "execute_result"
    }
   ],
   "source": [
    "combined_pivot.columns"
   ]
  },
  {
   "cell_type": "code",
   "execution_count": 153,
   "metadata": {},
   "outputs": [],
   "source": [
    "combined_pivot_T=combined_pivot.transpose()"
   ]
  },
  {
   "cell_type": "code",
   "execution_count": 154,
   "metadata": {},
   "outputs": [],
   "source": [
    "combined_pivot_sort=combined_pivot_T.copy()"
   ]
  },
  {
   "cell_type": "code",
   "execution_count": 155,
   "metadata": {},
   "outputs": [],
   "source": [
    "service_category_sort_map={'Less than 1 year':0, '1-2':1,'3-4':2,'5-6':3,'7-10':4,'11-20':5,'More than 20 years':6}"
   ]
  },
  {
   "cell_type": "code",
   "execution_count": 156,
   "metadata": {},
   "outputs": [],
   "source": [
    "combined_pivot_sort['sort_index']=combined_pivot_T.index.map(service_category_sort_map)"
   ]
  },
  {
   "cell_type": "code",
   "execution_count": 157,
   "metadata": {},
   "outputs": [],
   "source": [
    "combined_pivot_sort=combined_pivot_sort.sort_values('sort_index',ascending=True)"
   ]
  },
  {
   "cell_type": "code",
   "execution_count": 158,
   "metadata": {},
   "outputs": [
    {
     "data": {
      "text/html": [
       "<div>\n",
       "<style scoped>\n",
       "    .dataframe tbody tr th:only-of-type {\n",
       "        vertical-align: middle;\n",
       "    }\n",
       "\n",
       "    .dataframe tbody tr th {\n",
       "        vertical-align: top;\n",
       "    }\n",
       "\n",
       "    .dataframe thead th {\n",
       "        text-align: right;\n",
       "    }\n",
       "</style>\n",
       "<table border=\"1\" class=\"dataframe\">\n",
       "  <thead>\n",
       "    <tr style=\"text-align: right;\">\n",
       "      <th></th>\n",
       "      <th>dissatisfied</th>\n",
       "      <th>sort_index</th>\n",
       "    </tr>\n",
       "    <tr>\n",
       "      <th>institute_service_category</th>\n",
       "      <th></th>\n",
       "      <th></th>\n",
       "    </tr>\n",
       "  </thead>\n",
       "  <tbody>\n",
       "    <tr>\n",
       "      <th>1-2</th>\n",
       "      <td>0.500000</td>\n",
       "      <td>1</td>\n",
       "    </tr>\n",
       "    <tr>\n",
       "      <th>3-4</th>\n",
       "      <td>0.483333</td>\n",
       "      <td>2</td>\n",
       "    </tr>\n",
       "    <tr>\n",
       "      <th>5-6</th>\n",
       "      <td>0.500000</td>\n",
       "      <td>3</td>\n",
       "    </tr>\n",
       "    <tr>\n",
       "      <th>7-10</th>\n",
       "      <td>0.421875</td>\n",
       "      <td>4</td>\n",
       "    </tr>\n",
       "    <tr>\n",
       "      <th>11-20</th>\n",
       "      <td>0.354839</td>\n",
       "      <td>5</td>\n",
       "    </tr>\n",
       "    <tr>\n",
       "      <th>More than 20 years</th>\n",
       "      <td>0.257576</td>\n",
       "      <td>6</td>\n",
       "    </tr>\n",
       "  </tbody>\n",
       "</table>\n",
       "</div>"
      ],
      "text/plain": [
       "                            dissatisfied  sort_index\n",
       "institute_service_category                          \n",
       "1-2                             0.500000           1\n",
       "3-4                             0.483333           2\n",
       "5-6                             0.500000           3\n",
       "7-10                            0.421875           4\n",
       "11-20                           0.354839           5\n",
       "More than 20 years              0.257576           6"
      ]
     },
     "execution_count": 158,
     "metadata": {},
     "output_type": "execute_result"
    }
   ],
   "source": [
    "combined_pivot_sort"
   ]
  },
  {
   "cell_type": "code",
   "execution_count": 159,
   "metadata": {},
   "outputs": [
    {
     "data": {
      "image/png": "[encoded data removed]",
      "text/plain": [
       "<Figure size 600x400 with 1 Axes>"
      ]
     },
     "metadata": {},
     "output_type": "display_data"
    }
   ],
   "source": [
    "combined_pivot_sort.plot(y='dissatisfied',kind='bar',rot=20, legend=False)\n",
    "plt.xlabel('Years of Institute Service')\n",
    "plt.ylabel('Number of Respondants')\n",
    "plt.title('Combined Data from TAFE and DETE Surveys')\n",
    "plt.show()"
   ]
  },
  {
   "cell_type": "markdown",
   "metadata": {},
   "source": [
    "Generally people who are dissatisfied resign after fewer years of service. Many stay for anywhere between 1 year and 6 years, but after that, the numbers drop. Since this analysis is specific to two years of data, this may correspond to a specific two years where certain people were drawn to the district by certain benefits or factors, while these evaporated after 5-6 years at the time of this data analysis. In contrast, it might also indicate that after about 5-6 years, people are more likely to be dissatisfied, or have experienced factors that change their perceptions of their job or their life decisions. Age, destinations following resignation, factors that lead to resignation, and experiences while on the job could help shed light on some of these possibilities. "
   ]
  },
  {
   "cell_type": "markdown",
   "metadata": {},
   "source": [
    "# Dissatisfaction by Age"
   ]
  },
  {
   "cell_type": "code",
   "execution_count": 160,
   "metadata": {},
   "outputs": [
    {
     "data": {
      "text/plain": [
       "20 or younger     3\n",
       "21  25           13\n",
       "21-25            21\n",
       "26  30           12\n",
       "26-30            29\n",
       "31  35            8\n",
       "31-35            25\n",
       "36  40           13\n",
       "36-40            31\n",
       "41  45           16\n",
       "41-45            41\n",
       "46  50           15\n",
       "46-50            35\n",
       "51-55            39\n",
       "56 or older      13\n",
       "56-60            22\n",
       "61 or older      22\n",
       "NaN              21\n",
       "Name: age, dtype: int64"
      ]
     },
     "execution_count": 160,
     "metadata": {},
     "output_type": "execute_result"
    }
   ],
   "source": [
    "combined_updated['age'].value_counts(dropna=False).sort_index()"
   ]
  },
  {
   "cell_type": "code",
   "execution_count": 161,
   "metadata": {},
   "outputs": [],
   "source": [
    "combined_age=combined_updated.copy()"
   ]
  },
  {
   "cell_type": "code",
   "execution_count": 162,
   "metadata": {},
   "outputs": [],
   "source": [
    "combined_age=combined_age.dropna(subset=['age']).copy()"
   ]
  },
  {
   "cell_type": "code",
   "execution_count": 163,
   "metadata": {},
   "outputs": [
    {
     "data": {
      "text/plain": [
       "41-45            41\n",
       "51-55            39\n",
       "46-50            35\n",
       "36-40            31\n",
       "26-30            29\n",
       "31-35            25\n",
       "56-60            22\n",
       "61 or older      22\n",
       "21-25            21\n",
       "41  45           16\n",
       "46  50           15\n",
       "56 or older      13\n",
       "36  40           13\n",
       "21  25           13\n",
       "26  30           12\n",
       "31  35            8\n",
       "20 or younger     3\n",
       "Name: age, dtype: int64"
      ]
     },
     "execution_count": 163,
     "metadata": {},
     "output_type": "execute_result"
    }
   ],
   "source": [
    "combined_age['age'].value_counts(dropna=False)"
   ]
  },
  {
   "cell_type": "code",
   "execution_count": 164,
   "metadata": {},
   "outputs": [],
   "source": [
    "age_ranges=combined_age['age'].str.extract(r\"([2-6][0-9])[-]*[\\s]*([2-6][0-9])\").copy()"
   ]
  },
  {
   "cell_type": "code",
   "execution_count": null,
   "metadata": {},
   "outputs": [],
   "source": []
  },
  {
   "cell_type": "code",
   "execution_count": 165,
   "metadata": {},
   "outputs": [
    {
     "data": {
      "text/plain": [
       "41     57\n",
       "46     50\n",
       "36     44\n",
       "26     41\n",
       "51     39\n",
       "NaN    38\n",
       "21     34\n",
       "31     33\n",
       "56     22\n",
       "Name: 0, dtype: int64"
      ]
     },
     "execution_count": 165,
     "metadata": {},
     "output_type": "execute_result"
    }
   ],
   "source": [
    "age_ranges.iloc[:,0].value_counts(dropna=False)"
   ]
  },
  {
   "cell_type": "code",
   "execution_count": 166,
   "metadata": {},
   "outputs": [
    {
     "data": {
      "text/plain": [
       "45     57\n",
       "50     50\n",
       "40     44\n",
       "30     41\n",
       "55     39\n",
       "NaN    38\n",
       "25     34\n",
       "35     33\n",
       "60     22\n",
       "Name: 1, dtype: int64"
      ]
     },
     "execution_count": 166,
     "metadata": {},
     "output_type": "execute_result"
    }
   ],
   "source": [
    "age_ranges.iloc[:,1].value_counts(dropna=False)"
   ]
  },
  {
   "cell_type": "code",
   "execution_count": 167,
   "metadata": {},
   "outputs": [],
   "source": [
    "age_ranges['range']=age_ranges.iloc[:,0].astype(str)+'-'+age_ranges.iloc[:,1].astype(str).copy()"
   ]
  },
  {
   "cell_type": "code",
   "execution_count": 168,
   "metadata": {},
   "outputs": [
    {
     "data": {
      "text/plain": [
       "41-45      57\n",
       "46-50      50\n",
       "36-40      44\n",
       "26-30      41\n",
       "51-55      39\n",
       "nan-nan    38\n",
       "21-25      34\n",
       "31-35      33\n",
       "56-60      22\n",
       "Name: range, dtype: int64"
      ]
     },
     "execution_count": 168,
     "metadata": {},
     "output_type": "execute_result"
    }
   ],
   "source": [
    "age_ranges['range'].value_counts()"
   ]
  },
  {
   "cell_type": "code",
   "execution_count": 169,
   "metadata": {},
   "outputs": [],
   "source": [
    "is_age_limit=combined_age['age'].str.contains(r\"or\")"
   ]
  },
  {
   "cell_type": "code",
   "execution_count": 170,
   "metadata": {},
   "outputs": [
    {
     "data": {
      "text/plain": [
       "False    320\n",
       "True      38\n",
       "Name: age, dtype: int64"
      ]
     },
     "execution_count": 170,
     "metadata": {},
     "output_type": "execute_result"
    }
   ],
   "source": [
    "is_age_limit.value_counts(dropna=False)"
   ]
  },
  {
   "cell_type": "code",
   "execution_count": 171,
   "metadata": {},
   "outputs": [
    {
     "data": {
      "text/plain": [
       "16       61 or older\n",
       "23       61 or older\n",
       "34       61 or older\n",
       "51       61 or older\n",
       "145      61 or older\n",
       "183      61 or older\n",
       "212      61 or older\n",
       "264    20 or younger\n",
       "279      61 or older\n",
       "293      61 or older\n",
       "407      61 or older\n",
       "416      61 or older\n",
       "492      61 or older\n",
       "503      61 or older\n",
       "589      61 or older\n",
       "604      61 or older\n",
       "610      61 or older\n",
       "650      61 or older\n",
       "652      61 or older\n",
       "658      61 or older\n",
       "712      61 or older\n",
       "735      61 or older\n",
       "751      61 or older\n",
       "391      56 or older\n",
       "401      56 or older\n",
       "424    20 or younger\n",
       "448      56 or older\n",
       "463      56 or older\n",
       "524      56 or older\n",
       "544    20 or younger\n",
       "546      56 or older\n",
       "551      56 or older\n",
       "564      56 or older\n",
       "589      56 or older\n",
       "630      56 or older\n",
       "641      56 or older\n",
       "679      56 or older\n",
       "691      56 or older\n",
       "Name: age, dtype: object"
      ]
     },
     "execution_count": 171,
     "metadata": {},
     "output_type": "execute_result"
    }
   ],
   "source": [
    "combined_age[is_age_limit]['age']"
   ]
  },
  {
   "cell_type": "code",
   "execution_count": 172,
   "metadata": {},
   "outputs": [],
   "source": [
    "combined_age['age_range']=age_ranges['range'].copy()"
   ]
  },
  {
   "cell_type": "code",
   "execution_count": 173,
   "metadata": {},
   "outputs": [
    {
     "name": "stderr",
     "output_type": "stream",
     "text": [
      "/dataquest/system/env/python3/lib/python3.8/site-packages/pandas/core/indexing.py:966: SettingWithCopyWarning: \n",
      "A value is trying to be set on a copy of a slice from a DataFrame.\n",
      "Try using .loc[row_indexer,col_indexer] = value instead\n",
      "\n",
      "See the caveats in the documentation: https://pandas.pydata.org/pandas-docs/stable/user_guide/indexing.html#returning-a-view-versus-a-copy\n",
      "  self.obj[item] = s\n"
     ]
    }
   ],
   "source": [
    "combined_age[is_age_limit].loc[:,'age_range']=combined_age[is_age_limit]['age'].copy()"
   ]
  },
  {
   "cell_type": "code",
   "execution_count": 174,
   "metadata": {},
   "outputs": [
    {
     "data": {
      "text/plain": [
       "41-45      57\n",
       "46-50      50\n",
       "36-40      44\n",
       "26-30      41\n",
       "51-55      39\n",
       "nan-nan    38\n",
       "21-25      34\n",
       "31-35      33\n",
       "56-60      22\n",
       "Name: age_range, dtype: int64"
      ]
     },
     "execution_count": 174,
     "metadata": {},
     "output_type": "execute_result"
    }
   ],
   "source": [
    "combined_age['age_range'].value_counts()"
   ]
  },
  {
   "cell_type": "code",
   "execution_count": 175,
   "metadata": {},
   "outputs": [],
   "source": [
    "import numpy as np\n",
    "combined_age['age_range']=np.where(is_age_limit, combined_age['age'],combined_age['age_range'])"
   ]
  },
  {
   "cell_type": "code",
   "execution_count": 176,
   "metadata": {},
   "outputs": [
    {
     "data": {
      "text/plain": [
       "41-45            57\n",
       "46-50            50\n",
       "36-40            44\n",
       "26-30            41\n",
       "51-55            39\n",
       "21-25            34\n",
       "31-35            33\n",
       "61 or older      22\n",
       "56-60            22\n",
       "56 or older      13\n",
       "20 or younger     3\n",
       "Name: age_range, dtype: int64"
      ]
     },
     "execution_count": 176,
     "metadata": {},
     "output_type": "execute_result"
    }
   ],
   "source": [
    "combined_age['age_range'].value_counts()"
   ]
  },
  {
   "cell_type": "code",
   "execution_count": 177,
   "metadata": {},
   "outputs": [],
   "source": [
    "def map_56_to_60(age_range_val):\n",
    "    if age_range_val=='56-60':\n",
    "        return '56 or older'\n",
    "    elif age_range_val=='61 or older':\n",
    "        return '56 or older'\n",
    "    else:\n",
    "        return age_range_val"
   ]
  },
  {
   "cell_type": "code",
   "execution_count": 178,
   "metadata": {},
   "outputs": [],
   "source": [
    "combined_age['age_range']=combined_age['age_range'].apply(map_56_to_60)"
   ]
  },
  {
   "cell_type": "code",
   "execution_count": 179,
   "metadata": {},
   "outputs": [
    {
     "data": {
      "text/plain": [
       "56 or older      57\n",
       "41-45            57\n",
       "46-50            50\n",
       "36-40            44\n",
       "26-30            41\n",
       "51-55            39\n",
       "21-25            34\n",
       "31-35            33\n",
       "20 or younger     3\n",
       "Name: age_range, dtype: int64"
      ]
     },
     "execution_count": 179,
     "metadata": {},
     "output_type": "execute_result"
    }
   ],
   "source": [
    "combined_age['age_range'].value_counts()"
   ]
  },
  {
   "cell_type": "code",
   "execution_count": 180,
   "metadata": {},
   "outputs": [],
   "source": [
    "age_category_mapper={'20 or younger':0,'21-25':1,'26-30':2,'31-35':3,'36-40':4,'41-45':5,'46-50':6,'51-55':7,'56 or older':8}"
   ]
  },
  {
   "cell_type": "code",
   "execution_count": 181,
   "metadata": {},
   "outputs": [],
   "source": [
    "combined_age['sort_age_range']=combined_age['age_range'].map(age_category_mapper)"
   ]
  },
  {
   "cell_type": "code",
   "execution_count": 182,
   "metadata": {},
   "outputs": [],
   "source": [
    "combined_age=combined_age.sort_values('sort_age_range',ascending=True)"
   ]
  },
  {
   "cell_type": "code",
   "execution_count": 183,
   "metadata": {},
   "outputs": [],
   "source": [
    "age_tally=combined_age.loc[:,['dissatisfied','age_range','sort_age_range']].groupby('age_range').agg({'dissatisfied':'mean','age_range':'count','sort_age_range':'min'}).sort_values('sort_age_range',ascending=True)"
   ]
  },
  {
   "cell_type": "code",
   "execution_count": 184,
   "metadata": {},
   "outputs": [
    {
     "name": "stdout",
     "output_type": "stream",
     "text": [
      "<class 'pandas.core.frame.DataFrame'>\n",
      "Index: 9 entries, 20 or younger to 56 or older\n",
      "Data columns (total 3 columns):\n",
      " #   Column          Non-Null Count  Dtype  \n",
      "---  ------          --------------  -----  \n",
      " 0   dissatisfied    9 non-null      float64\n",
      " 1   age_range       9 non-null      int64  \n",
      " 2   sort_age_range  9 non-null      int64  \n",
      "dtypes: float64(1), int64(2)\n",
      "memory usage: 288.0+ bytes\n"
     ]
    }
   ],
   "source": [
    "age_tally.info()"
   ]
  },
  {
   "cell_type": "code",
   "execution_count": 185,
   "metadata": {},
   "outputs": [
    {
     "data": {
      "text/plain": [
       "Text(0.5, 1.0, 'Age distribution in the TAFE and DETE survey by age')"
      ]
     },
     "execution_count": 185,
     "metadata": {},
     "output_type": "execute_result"
    },
    {
     "data": {
      "image/png": "[encoded data removed]",
      "text/plain": [
       "<Figure size 600x400 with 1 Axes>"
      ]
     },
     "metadata": {},
     "output_type": "display_data"
    }
   ],
   "source": [
    "age_tally.plot(y='age_range',kind='barh')\n",
    "plt.xlabel('Number of respondents')\n",
    "plt.ylabel('Age range')\n",
    "plt.title('Age distribution in the TAFE and DETE survey by age')"
   ]
  },
  {
   "cell_type": "code",
   "execution_count": 186,
   "metadata": {},
   "outputs": [
    {
     "data": {
      "text/plain": [
       "Text(0.5, 1.0, 'Portion dissatisfied in the TAFE and DETE survey by age')"
      ]
     },
     "execution_count": 186,
     "metadata": {},
     "output_type": "execute_result"
    },
    {
     "data": {
      "image/png": "[encoded data removed]",
      "text/plain": [
       "<Figure size 600x400 with 1 Axes>"
      ]
     },
     "metadata": {},
     "output_type": "display_data"
    }
   ],
   "source": [
    "age_tally.plot(y='dissatisfied',kind='barh')\n",
    "plt.xlabel('Number of respondents')\n",
    "plt.ylabel('Dissatisfaction')\n",
    "plt.title('Portion dissatisfied in the TAFE and DETE survey by age')"
   ]
  },
  {
   "cell_type": "markdown",
   "metadata": {},
   "source": [
    "There were fewer younger people surveyed than older people, perhaps because fewer younger people resigned (or worked there?). The next question is to address percentage of dissatsifaction by age. Then attempt to correlate it with years served and factors."
   ]
  },
  {
   "cell_type": "markdown",
   "metadata": {},
   "source": [
    "# Length of service by age"
   ]
  },
  {
   "cell_type": "code",
   "execution_count": 187,
   "metadata": {},
   "outputs": [],
   "source": [
    "age_service=combined_age.loc[:,['age_range','institute_service_category']].groupby('age_range')['institute_service_category'].apply(pd.Series.mode)"
   ]
  },
  {
   "cell_type": "code",
   "execution_count": 188,
   "metadata": {},
   "outputs": [
    {
     "data": {
      "text/plain": [
       "age_range       \n",
       "20 or younger  0                   3-4\n",
       "21-25          0                   1-2\n",
       "26-30          0                  7-10\n",
       "31-35          0                   3-4\n",
       "36-40          0                  7-10\n",
       "41-45          0                   1-2\n",
       "               1                 11-20\n",
       "46-50          0                 11-20\n",
       "               1    More than 20 years\n",
       "51-55          0                 11-20\n",
       "56 or older    0    More than 20 years\n",
       "Name: institute_service_category, dtype: object"
      ]
     },
     "execution_count": 188,
     "metadata": {},
     "output_type": "execute_result"
    }
   ],
   "source": [
    "age_service"
   ]
  },
  {
   "cell_type": "code",
   "execution_count": 189,
   "metadata": {},
   "outputs": [],
   "source": [
    "age_service=age_service.reset_index()"
   ]
  },
  {
   "cell_type": "code",
   "execution_count": 190,
   "metadata": {},
   "outputs": [
    {
     "data": {
      "text/html": [
       "<div>\n",
       "<style scoped>\n",
       "    .dataframe tbody tr th:only-of-type {\n",
       "        vertical-align: middle;\n",
       "    }\n",
       "\n",
       "    .dataframe tbody tr th {\n",
       "        vertical-align: top;\n",
       "    }\n",
       "\n",
       "    .dataframe thead th {\n",
       "        text-align: right;\n",
       "    }\n",
       "</style>\n",
       "<table border=\"1\" class=\"dataframe\">\n",
       "  <thead>\n",
       "    <tr style=\"text-align: right;\">\n",
       "      <th></th>\n",
       "      <th>age_range</th>\n",
       "      <th>level_1</th>\n",
       "      <th>institute_service_category</th>\n",
       "    </tr>\n",
       "  </thead>\n",
       "  <tbody>\n",
       "    <tr>\n",
       "      <th>0</th>\n",
       "      <td>20 or younger</td>\n",
       "      <td>0</td>\n",
       "      <td>3-4</td>\n",
       "    </tr>\n",
       "    <tr>\n",
       "      <th>1</th>\n",
       "      <td>21-25</td>\n",
       "      <td>0</td>\n",
       "      <td>1-2</td>\n",
       "    </tr>\n",
       "    <tr>\n",
       "      <th>2</th>\n",
       "      <td>26-30</td>\n",
       "      <td>0</td>\n",
       "      <td>7-10</td>\n",
       "    </tr>\n",
       "    <tr>\n",
       "      <th>3</th>\n",
       "      <td>31-35</td>\n",
       "      <td>0</td>\n",
       "      <td>3-4</td>\n",
       "    </tr>\n",
       "    <tr>\n",
       "      <th>4</th>\n",
       "      <td>36-40</td>\n",
       "      <td>0</td>\n",
       "      <td>7-10</td>\n",
       "    </tr>\n",
       "    <tr>\n",
       "      <th>5</th>\n",
       "      <td>41-45</td>\n",
       "      <td>0</td>\n",
       "      <td>1-2</td>\n",
       "    </tr>\n",
       "    <tr>\n",
       "      <th>6</th>\n",
       "      <td>41-45</td>\n",
       "      <td>1</td>\n",
       "      <td>11-20</td>\n",
       "    </tr>\n",
       "    <tr>\n",
       "      <th>7</th>\n",
       "      <td>46-50</td>\n",
       "      <td>0</td>\n",
       "      <td>11-20</td>\n",
       "    </tr>\n",
       "    <tr>\n",
       "      <th>8</th>\n",
       "      <td>46-50</td>\n",
       "      <td>1</td>\n",
       "      <td>More than 20 years</td>\n",
       "    </tr>\n",
       "    <tr>\n",
       "      <th>9</th>\n",
       "      <td>51-55</td>\n",
       "      <td>0</td>\n",
       "      <td>11-20</td>\n",
       "    </tr>\n",
       "    <tr>\n",
       "      <th>10</th>\n",
       "      <td>56 or older</td>\n",
       "      <td>0</td>\n",
       "      <td>More than 20 years</td>\n",
       "    </tr>\n",
       "  </tbody>\n",
       "</table>\n",
       "</div>"
      ],
      "text/plain": [
       "        age_range  level_1 institute_service_category\n",
       "0   20 or younger        0                        3-4\n",
       "1           21-25        0                        1-2\n",
       "2           26-30        0                       7-10\n",
       "3           31-35        0                        3-4\n",
       "4           36-40        0                       7-10\n",
       "5           41-45        0                        1-2\n",
       "6           41-45        1                      11-20\n",
       "7           46-50        0                      11-20\n",
       "8           46-50        1         More than 20 years\n",
       "9           51-55        0                      11-20\n",
       "10    56 or older        0         More than 20 years"
      ]
     },
     "execution_count": 190,
     "metadata": {},
     "output_type": "execute_result"
    }
   ],
   "source": [
    "age_service"
   ]
  },
  {
   "cell_type": "code",
   "execution_count": 191,
   "metadata": {},
   "outputs": [],
   "source": [
    "age_service_pivot=pd.pivot_table(combined_age,values='dissatisfied',index='institute_service_category',columns='age_range',aggfunc='mean',dropna=True,fill_value=0)"
   ]
  },
  {
   "cell_type": "code",
   "execution_count": 192,
   "metadata": {},
   "outputs": [
    {
     "data": {
      "text/html": [
       "<div>\n",
       "<style scoped>\n",
       "    .dataframe tbody tr th:only-of-type {\n",
       "        vertical-align: middle;\n",
       "    }\n",
       "\n",
       "    .dataframe tbody tr th {\n",
       "        vertical-align: top;\n",
       "    }\n",
       "\n",
       "    .dataframe thead th {\n",
       "        text-align: right;\n",
       "    }\n",
       "</style>\n",
       "<table border=\"1\" class=\"dataframe\">\n",
       "  <thead>\n",
       "    <tr style=\"text-align: right;\">\n",
       "      <th>age_range</th>\n",
       "      <th>20 or younger</th>\n",
       "      <th>21-25</th>\n",
       "      <th>26-30</th>\n",
       "      <th>31-35</th>\n",
       "      <th>36-40</th>\n",
       "      <th>41-45</th>\n",
       "      <th>46-50</th>\n",
       "      <th>51-55</th>\n",
       "      <th>56 or older</th>\n",
       "    </tr>\n",
       "    <tr>\n",
       "      <th>institute_service_category</th>\n",
       "      <th></th>\n",
       "      <th></th>\n",
       "      <th></th>\n",
       "      <th></th>\n",
       "      <th></th>\n",
       "      <th></th>\n",
       "      <th></th>\n",
       "      <th></th>\n",
       "      <th></th>\n",
       "    </tr>\n",
       "  </thead>\n",
       "  <tbody>\n",
       "    <tr>\n",
       "      <th>1-2</th>\n",
       "      <td>0.0</td>\n",
       "      <td>0.470588</td>\n",
       "      <td>0.500000</td>\n",
       "      <td>0.333333</td>\n",
       "      <td>0.333333</td>\n",
       "      <td>0.461538</td>\n",
       "      <td>0.600000</td>\n",
       "      <td>1.000000</td>\n",
       "      <td>1.000000</td>\n",
       "    </tr>\n",
       "    <tr>\n",
       "      <th>11-20</th>\n",
       "      <td>0.0</td>\n",
       "      <td>0.000000</td>\n",
       "      <td>0.000000</td>\n",
       "      <td>0.333333</td>\n",
       "      <td>0.300000</td>\n",
       "      <td>0.307692</td>\n",
       "      <td>0.416667</td>\n",
       "      <td>0.444444</td>\n",
       "      <td>0.357143</td>\n",
       "    </tr>\n",
       "    <tr>\n",
       "      <th>3-4</th>\n",
       "      <td>0.5</td>\n",
       "      <td>0.333333</td>\n",
       "      <td>0.666667</td>\n",
       "      <td>0.300000</td>\n",
       "      <td>0.000000</td>\n",
       "      <td>0.777778</td>\n",
       "      <td>0.333333</td>\n",
       "      <td>0.600000</td>\n",
       "      <td>0.800000</td>\n",
       "    </tr>\n",
       "    <tr>\n",
       "      <th>5-6</th>\n",
       "      <td>0.0</td>\n",
       "      <td>1.000000</td>\n",
       "      <td>0.125000</td>\n",
       "      <td>0.500000</td>\n",
       "      <td>0.800000</td>\n",
       "      <td>0.500000</td>\n",
       "      <td>0.714286</td>\n",
       "      <td>0.400000</td>\n",
       "      <td>0.500000</td>\n",
       "    </tr>\n",
       "    <tr>\n",
       "      <th>7-10</th>\n",
       "      <td>0.0</td>\n",
       "      <td>0.000000</td>\n",
       "      <td>0.333333</td>\n",
       "      <td>0.571429</td>\n",
       "      <td>0.666667</td>\n",
       "      <td>0.125000</td>\n",
       "      <td>0.272727</td>\n",
       "      <td>0.714286</td>\n",
       "      <td>0.400000</td>\n",
       "    </tr>\n",
       "    <tr>\n",
       "      <th>More than 20 years</th>\n",
       "      <td>0.0</td>\n",
       "      <td>0.500000</td>\n",
       "      <td>0.250000</td>\n",
       "      <td>0.000000</td>\n",
       "      <td>0.333333</td>\n",
       "      <td>0.125000</td>\n",
       "      <td>0.083333</td>\n",
       "      <td>0.375000</td>\n",
       "      <td>0.346154</td>\n",
       "    </tr>\n",
       "  </tbody>\n",
       "</table>\n",
       "</div>"
      ],
      "text/plain": [
       "age_range                   20 or younger     21-25     26-30     31-35  \\\n",
       "institute_service_category                                                \n",
       "1-2                                   0.0  0.470588  0.500000  0.333333   \n",
       "11-20                                 0.0  0.000000  0.000000  0.333333   \n",
       "3-4                                   0.5  0.333333  0.666667  0.300000   \n",
       "5-6                                   0.0  1.000000  0.125000  0.500000   \n",
       "7-10                                  0.0  0.000000  0.333333  0.571429   \n",
       "More than 20 years                    0.0  0.500000  0.250000  0.000000   \n",
       "\n",
       "age_range                      36-40     41-45     46-50     51-55  \\\n",
       "institute_service_category                                           \n",
       "1-2                         0.333333  0.461538  0.600000  1.000000   \n",
       "11-20                       0.300000  0.307692  0.416667  0.444444   \n",
       "3-4                         0.000000  0.777778  0.333333  0.600000   \n",
       "5-6                         0.800000  0.500000  0.714286  0.400000   \n",
       "7-10                        0.666667  0.125000  0.272727  0.714286   \n",
       "More than 20 years          0.333333  0.125000  0.083333  0.375000   \n",
       "\n",
       "age_range                   56 or older  \n",
       "institute_service_category               \n",
       "1-2                            1.000000  \n",
       "11-20                          0.357143  \n",
       "3-4                            0.800000  \n",
       "5-6                            0.500000  \n",
       "7-10                           0.400000  \n",
       "More than 20 years             0.346154  "
      ]
     },
     "execution_count": 192,
     "metadata": {},
     "output_type": "execute_result"
    }
   ],
   "source": [
    "age_service_pivot"
   ]
  },
  {
   "cell_type": "code",
   "execution_count": 193,
   "metadata": {},
   "outputs": [],
   "source": [
    "category_list=['1-2','3-4','5-6','7-10','11-20','More than 20 years']"
   ]
  },
  {
   "cell_type": "code",
   "execution_count": 194,
   "metadata": {},
   "outputs": [],
   "source": [
    "age_service_pivot.index=pd.CategoricalIndex(age_service_pivot.index,categories=category_list)"
   ]
  },
  {
   "cell_type": "code",
   "execution_count": 195,
   "metadata": {},
   "outputs": [],
   "source": [
    "age_service_pivot.sort_index(level=0,inplace=True)"
   ]
  },
  {
   "cell_type": "code",
   "execution_count": 196,
   "metadata": {},
   "outputs": [
    {
     "data": {
      "text/html": [
       "<div>\n",
       "<style scoped>\n",
       "    .dataframe tbody tr th:only-of-type {\n",
       "        vertical-align: middle;\n",
       "    }\n",
       "\n",
       "    .dataframe tbody tr th {\n",
       "        vertical-align: top;\n",
       "    }\n",
       "\n",
       "    .dataframe thead th {\n",
       "        text-align: right;\n",
       "    }\n",
       "</style>\n",
       "<table border=\"1\" class=\"dataframe\">\n",
       "  <thead>\n",
       "    <tr style=\"text-align: right;\">\n",
       "      <th>age_range</th>\n",
       "      <th>20 or younger</th>\n",
       "      <th>21-25</th>\n",
       "      <th>26-30</th>\n",
       "      <th>31-35</th>\n",
       "      <th>36-40</th>\n",
       "      <th>41-45</th>\n",
       "      <th>46-50</th>\n",
       "      <th>51-55</th>\n",
       "      <th>56 or older</th>\n",
       "    </tr>\n",
       "    <tr>\n",
       "      <th>institute_service_category</th>\n",
       "      <th></th>\n",
       "      <th></th>\n",
       "      <th></th>\n",
       "      <th></th>\n",
       "      <th></th>\n",
       "      <th></th>\n",
       "      <th></th>\n",
       "      <th></th>\n",
       "      <th></th>\n",
       "    </tr>\n",
       "  </thead>\n",
       "  <tbody>\n",
       "    <tr>\n",
       "      <th>1-2</th>\n",
       "      <td>0.0</td>\n",
       "      <td>0.470588</td>\n",
       "      <td>0.500000</td>\n",
       "      <td>0.333333</td>\n",
       "      <td>0.333333</td>\n",
       "      <td>0.461538</td>\n",
       "      <td>0.600000</td>\n",
       "      <td>1.000000</td>\n",
       "      <td>1.000000</td>\n",
       "    </tr>\n",
       "    <tr>\n",
       "      <th>3-4</th>\n",
       "      <td>0.5</td>\n",
       "      <td>0.333333</td>\n",
       "      <td>0.666667</td>\n",
       "      <td>0.300000</td>\n",
       "      <td>0.000000</td>\n",
       "      <td>0.777778</td>\n",
       "      <td>0.333333</td>\n",
       "      <td>0.600000</td>\n",
       "      <td>0.800000</td>\n",
       "    </tr>\n",
       "    <tr>\n",
       "      <th>5-6</th>\n",
       "      <td>0.0</td>\n",
       "      <td>1.000000</td>\n",
       "      <td>0.125000</td>\n",
       "      <td>0.500000</td>\n",
       "      <td>0.800000</td>\n",
       "      <td>0.500000</td>\n",
       "      <td>0.714286</td>\n",
       "      <td>0.400000</td>\n",
       "      <td>0.500000</td>\n",
       "    </tr>\n",
       "    <tr>\n",
       "      <th>7-10</th>\n",
       "      <td>0.0</td>\n",
       "      <td>0.000000</td>\n",
       "      <td>0.333333</td>\n",
       "      <td>0.571429</td>\n",
       "      <td>0.666667</td>\n",
       "      <td>0.125000</td>\n",
       "      <td>0.272727</td>\n",
       "      <td>0.714286</td>\n",
       "      <td>0.400000</td>\n",
       "    </tr>\n",
       "    <tr>\n",
       "      <th>11-20</th>\n",
       "      <td>0.0</td>\n",
       "      <td>0.000000</td>\n",
       "      <td>0.000000</td>\n",
       "      <td>0.333333</td>\n",
       "      <td>0.300000</td>\n",
       "      <td>0.307692</td>\n",
       "      <td>0.416667</td>\n",
       "      <td>0.444444</td>\n",
       "      <td>0.357143</td>\n",
       "    </tr>\n",
       "    <tr>\n",
       "      <th>More than 20 years</th>\n",
       "      <td>0.0</td>\n",
       "      <td>0.500000</td>\n",
       "      <td>0.250000</td>\n",
       "      <td>0.000000</td>\n",
       "      <td>0.333333</td>\n",
       "      <td>0.125000</td>\n",
       "      <td>0.083333</td>\n",
       "      <td>0.375000</td>\n",
       "      <td>0.346154</td>\n",
       "    </tr>\n",
       "  </tbody>\n",
       "</table>\n",
       "</div>"
      ],
      "text/plain": [
       "age_range                   20 or younger     21-25     26-30     31-35  \\\n",
       "institute_service_category                                                \n",
       "1-2                                   0.0  0.470588  0.500000  0.333333   \n",
       "3-4                                   0.5  0.333333  0.666667  0.300000   \n",
       "5-6                                   0.0  1.000000  0.125000  0.500000   \n",
       "7-10                                  0.0  0.000000  0.333333  0.571429   \n",
       "11-20                                 0.0  0.000000  0.000000  0.333333   \n",
       "More than 20 years                    0.0  0.500000  0.250000  0.000000   \n",
       "\n",
       "age_range                      36-40     41-45     46-50     51-55  \\\n",
       "institute_service_category                                           \n",
       "1-2                         0.333333  0.461538  0.600000  1.000000   \n",
       "3-4                         0.000000  0.777778  0.333333  0.600000   \n",
       "5-6                         0.800000  0.500000  0.714286  0.400000   \n",
       "7-10                        0.666667  0.125000  0.272727  0.714286   \n",
       "11-20                       0.300000  0.307692  0.416667  0.444444   \n",
       "More than 20 years          0.333333  0.125000  0.083333  0.375000   \n",
       "\n",
       "age_range                   56 or older  \n",
       "institute_service_category               \n",
       "1-2                            1.000000  \n",
       "3-4                            0.800000  \n",
       "5-6                            0.500000  \n",
       "7-10                           0.400000  \n",
       "11-20                          0.357143  \n",
       "More than 20 years             0.346154  "
      ]
     },
     "execution_count": 196,
     "metadata": {},
     "output_type": "execute_result"
    }
   ],
   "source": [
    "age_service_pivot"
   ]
  },
  {
   "cell_type": "code",
   "execution_count": 197,
   "metadata": {},
   "outputs": [
    {
     "data": {
      "text/plain": [
       "Text(0.5, 1.0, 'Portion of people dissatsified by age and years served at resignation')"
      ]
     },
     "execution_count": 197,
     "metadata": {},
     "output_type": "execute_result"
    },
    {
     "data": {
      "image/png": "[encoded data removed]",
      "text/plain": [
       "<Figure size 600x400 with 2 Axes>"
      ]
     },
     "metadata": {},
     "output_type": "display_data"
    }
   ],
   "source": [
    "import seaborn as sns\n",
    "sns.heatmap(age_service_pivot)\n",
    "plt.xlabel('Age of respondants')\n",
    "plt.ylabel('Years of Service')\n",
    "plt.title('Portion of people dissatsified by age and years served at resignation')"
   ]
  },
  {
   "cell_type": "markdown",
   "metadata": {},
   "source": [
    "**Want to sort the x and y axis here but also want to move on**"
   ]
  },
  {
   "cell_type": "markdown",
   "metadata": {},
   "source": [
    "People were generally more dissatisfied the older they were and the shorter a time they had served. This is especially true of people over 51 who served 1-2 years. People 21-25 who served 5-6 years were also very dissatisfied. This would indicate that they had served since they graduated high school, more or less, at a first job, and kept it for some time, so this cateogry is unique in its own way."
   ]
  },
  {
   "cell_type": "markdown",
   "metadata": {},
   "source": [
    "There is definitely some data that is likely still spurious. It is not very likely a 25 or 30 year old served more than 20 years. Though child labor does happen, it is not usually common in school districts."
   ]
  },
  {
   "cell_type": "markdown",
   "metadata": {},
   "source": [
    "# Factors for resignation of people who were dissatisfied"
   ]
  },
  {
   "cell_type": "code",
   "execution_count": 198,
   "metadata": {},
   "outputs": [],
   "source": [
    "dissatisfied_people=combined_age[combined_age['dissatisfied']]"
   ]
  },
  {
   "cell_type": "code",
   "execution_count": 199,
   "metadata": {},
   "outputs": [
    {
     "name": "stdout",
     "output_type": "stream",
     "text": [
      "<class 'pandas.core.frame.DataFrame'>\n",
      "Int64Index: 150 entries, 424 to 401\n",
      "Data columns (total 34 columns):\n",
      " #   Column                         Non-Null Count  Dtype  \n",
      "---  ------                         --------------  -----  \n",
      " 0   id                             150 non-null    float64\n",
      " 1   separationtype                 150 non-null    object \n",
      " 2   cease_date                     150 non-null    float64\n",
      " 3   dete_start_date                47 non-null     float64\n",
      " 4   role_start_date                45 non-null     float64\n",
      " 5   position                       148 non-null    object \n",
      " 6   employment_status              149 non-null    object \n",
      " 7   career_move_to_public_sector   150 non-null    object \n",
      " 8   career_move_to_private_sector  150 non-null    object \n",
      " 9   interpersonal_conflicts        150 non-null    object \n",
      " 10  job_dissatisfaction            150 non-null    object \n",
      " 11  dissatisfaction                150 non-null    object \n",
      " 12  physical_work_environment      51 non-null     object \n",
      " 13  lack_of_recognition            51 non-null     object \n",
      " 14  lack_of_job_security           51 non-null     object \n",
      " 15  work_location                  51 non-null     object \n",
      " 16  employment_conditions          51 non-null     object \n",
      " 17  maternity/family               150 non-null    object \n",
      " 18  relocation                     51 non-null     object \n",
      " 19  study/travel                   150 non-null    bool   \n",
      " 20  ill_health                     150 non-null    object \n",
      " 21  traumatic_incident             51 non-null     object \n",
      " 22  work_life_balance              51 non-null     object \n",
      " 23  workload                       51 non-null     object \n",
      " 24  none_of_the_above              51 non-null     object \n",
      " 25  gender                         148 non-null    object \n",
      " 26  age                            150 non-null    object \n",
      " 27  institute_service              146 non-null    object \n",
      " 28  institute_service_category     150 non-null    object \n",
      " 29  dissatisfied                   150 non-null    bool   \n",
      " 30  survey_institute               150 non-null    object \n",
      " 31  dissatisfied_number            150 non-null    int64  \n",
      " 32  age_range                      150 non-null    object \n",
      " 33  sort_age_range                 150 non-null    int64  \n",
      "dtypes: bool(2), float64(4), int64(2), object(26)\n",
      "memory usage: 39.0+ KB\n"
     ]
    }
   ],
   "source": [
    "dissatisfied_people.info()"
   ]
  },
  {
   "cell_type": "code",
   "execution_count": 200,
   "metadata": {},
   "outputs": [],
   "source": [
    "dissatisfied_people=dissatisfied_people.dropna(thresh=100, axis=1)"
   ]
  },
  {
   "cell_type": "code",
   "execution_count": 201,
   "metadata": {},
   "outputs": [
    {
     "name": "stdout",
     "output_type": "stream",
     "text": [
      "<class 'pandas.core.frame.DataFrame'>\n",
      "Int64Index: 150 entries, 424 to 401\n",
      "Data columns (total 22 columns):\n",
      " #   Column                         Non-Null Count  Dtype  \n",
      "---  ------                         --------------  -----  \n",
      " 0   id                             150 non-null    float64\n",
      " 1   separationtype                 150 non-null    object \n",
      " 2   cease_date                     150 non-null    float64\n",
      " 3   position                       148 non-null    object \n",
      " 4   employment_status              149 non-null    object \n",
      " 5   career_move_to_public_sector   150 non-null    object \n",
      " 6   career_move_to_private_sector  150 non-null    object \n",
      " 7   interpersonal_conflicts        150 non-null    object \n",
      " 8   job_dissatisfaction            150 non-null    object \n",
      " 9   dissatisfaction                150 non-null    object \n",
      " 10  maternity/family               150 non-null    object \n",
      " 11  study/travel                   150 non-null    bool   \n",
      " 12  ill_health                     150 non-null    object \n",
      " 13  gender                         148 non-null    object \n",
      " 14  age                            150 non-null    object \n",
      " 15  institute_service              146 non-null    object \n",
      " 16  institute_service_category     150 non-null    object \n",
      " 17  dissatisfied                   150 non-null    bool   \n",
      " 18  survey_institute               150 non-null    object \n",
      " 19  dissatisfied_number            150 non-null    int64  \n",
      " 20  age_range                      150 non-null    object \n",
      " 21  sort_age_range                 150 non-null    int64  \n",
      "dtypes: bool(2), float64(2), int64(2), object(16)\n",
      "memory usage: 24.9+ KB\n"
     ]
    }
   ],
   "source": [
    "dissatisfied_people.info()"
   ]
  },
  {
   "cell_type": "code",
   "execution_count": 202,
   "metadata": {},
   "outputs": [
    {
     "data": {
      "text/plain": [
       "Female    95\n",
       "Male      53\n",
       "NaN        2\n",
       "Name: gender, dtype: int64"
      ]
     },
     "execution_count": 202,
     "metadata": {},
     "output_type": "execute_result"
    }
   ],
   "source": [
    "dissatisfied_people['gender'].value_counts(dropna=False)"
   ]
  },
  {
   "cell_type": "code",
   "execution_count": 203,
   "metadata": {},
   "outputs": [],
   "source": [
    "def map_gender(gender):\n",
    "    if gender=='Female':\n",
    "        return True\n",
    "    elif gender=='Male':\n",
    "        return False\n",
    "    else:\n",
    "        return np.nan\n",
    "    "
   ]
  },
  {
   "cell_type": "code",
   "execution_count": 204,
   "metadata": {},
   "outputs": [],
   "source": [
    "dissatisfied_people['gender_TF']=dissatisfied_people['gender'].apply(map_gender)"
   ]
  },
  {
   "cell_type": "code",
   "execution_count": 205,
   "metadata": {},
   "outputs": [
    {
     "data": {
      "text/plain": [
       "True     95\n",
       "False    53\n",
       "NaN       2\n",
       "Name: gender_TF, dtype: int64"
      ]
     },
     "execution_count": 205,
     "metadata": {},
     "output_type": "execute_result"
    }
   ],
   "source": [
    "dissatisfied_people['gender_TF'].value_counts(dropna=False)"
   ]
  },
  {
   "cell_type": "code",
   "execution_count": 206,
   "metadata": {},
   "outputs": [
    {
     "name": "stdout",
     "output_type": "stream",
     "text": [
      "<class 'pandas.core.frame.DataFrame'>\n",
      "Int64Index: 150 entries, 424 to 401\n",
      "Data columns (total 23 columns):\n",
      " #   Column                         Non-Null Count  Dtype  \n",
      "---  ------                         --------------  -----  \n",
      " 0   id                             150 non-null    float64\n",
      " 1   separationtype                 150 non-null    object \n",
      " 2   cease_date                     150 non-null    float64\n",
      " 3   position                       148 non-null    object \n",
      " 4   employment_status              149 non-null    object \n",
      " 5   career_move_to_public_sector   150 non-null    object \n",
      " 6   career_move_to_private_sector  150 non-null    object \n",
      " 7   interpersonal_conflicts        150 non-null    object \n",
      " 8   job_dissatisfaction            150 non-null    object \n",
      " 9   dissatisfaction                150 non-null    object \n",
      " 10  maternity/family               150 non-null    object \n",
      " 11  study/travel                   150 non-null    bool   \n",
      " 12  ill_health                     150 non-null    object \n",
      " 13  gender                         148 non-null    object \n",
      " 14  age                            150 non-null    object \n",
      " 15  institute_service              146 non-null    object \n",
      " 16  institute_service_category     150 non-null    object \n",
      " 17  dissatisfied                   150 non-null    bool   \n",
      " 18  survey_institute               150 non-null    object \n",
      " 19  dissatisfied_number            150 non-null    int64  \n",
      " 20  age_range                      150 non-null    object \n",
      " 21  sort_age_range                 150 non-null    int64  \n",
      " 22  gender_TF                      148 non-null    object \n",
      "dtypes: bool(2), float64(2), int64(2), object(17)\n",
      "memory usage: 26.1+ KB\n"
     ]
    }
   ],
   "source": [
    "dissatisfied_people.info()"
   ]
  },
  {
   "cell_type": "code",
   "execution_count": 207,
   "metadata": {},
   "outputs": [
    {
     "data": {
      "text/plain": [
       "True     93\n",
       "False    57\n",
       "Name: maternity/family, dtype: int64"
      ]
     },
     "execution_count": 207,
     "metadata": {},
     "output_type": "execute_result"
    }
   ],
   "source": [
    "dissatisfied_people['maternity/family'].value_counts(dropna=False)"
   ]
  },
  {
   "cell_type": "code",
   "execution_count": 240,
   "metadata": {},
   "outputs": [],
   "source": [
    "frac_diss_col=['career_move_to_private_sector','career_move_to_public_sector','interpersonal_conflicts','maternity/family','study/travel','ill_health','gender_TF']"
   ]
  },
  {
   "cell_type": "code",
   "execution_count": 241,
   "metadata": {},
   "outputs": [],
   "source": [
    "temp=[True,True,False]"
   ]
  },
  {
   "cell_type": "code",
   "execution_count": 242,
   "metadata": {},
   "outputs": [
    {
     "data": {
      "text/plain": [
       "0.6666666666666666"
      ]
     },
     "execution_count": 242,
     "metadata": {},
     "output_type": "execute_result"
    }
   ],
   "source": [
    "np.mean(temp)"
   ]
  },
  {
   "cell_type": "code",
   "execution_count": 243,
   "metadata": {},
   "outputs": [],
   "source": [
    "mfv=dissatisfied_people['maternity/family'].values"
   ]
  },
  {
   "cell_type": "code",
   "execution_count": 244,
   "metadata": {},
   "outputs": [],
   "source": [
    "mvfl=list(mfv)"
   ]
  },
  {
   "cell_type": "code",
   "execution_count": 245,
   "metadata": {},
   "outputs": [
    {
     "data": {
      "text/plain": [
       "0.62"
      ]
     },
     "execution_count": 245,
     "metadata": {},
     "output_type": "execute_result"
    }
   ],
   "source": [
    "np.mean(mvfl)"
   ]
  },
  {
   "cell_type": "code",
   "execution_count": 246,
   "metadata": {},
   "outputs": [],
   "source": [
    "num_dissatisfied=dissatisfied_people[frac_diss_col].applymap(lambda x: 1 if x else 0)"
   ]
  },
  {
   "cell_type": "code",
   "execution_count": 247,
   "metadata": {},
   "outputs": [],
   "source": [
    "frac_dissatisfied=num_dissatisfied.mean(axis=0)"
   ]
  },
  {
   "cell_type": "code",
   "execution_count": 248,
   "metadata": {},
   "outputs": [
    {
     "data": {
      "text/plain": [
       "career_move_to_private_sector    0.473333\n",
       "career_move_to_public_sector     0.593333\n",
       "interpersonal_conflicts          0.680000\n",
       "maternity/family                 0.620000\n",
       "study/travel                     0.660000\n",
       "ill_health                       0.606667\n",
       "gender_TF                        0.646667\n",
       "dtype: float64"
      ]
     },
     "execution_count": 248,
     "metadata": {},
     "output_type": "execute_result"
    }
   ],
   "source": [
    "frac_dissatisfied"
   ]
  },
  {
   "cell_type": "code",
   "execution_count": 249,
   "metadata": {},
   "outputs": [],
   "source": [
    "frac_dissatisfied.index=['Move to Private Sector','Move to Public Sector','Interpersonal Conflicts','Maternity or Family','Study or Travel','Poor Health','Fraction Female']"
   ]
  },
  {
   "cell_type": "code",
   "execution_count": 250,
   "metadata": {},
   "outputs": [
    {
     "data": {
      "text/plain": [
       "Move to Private Sector     0.473333\n",
       "Move to Public Sector      0.593333\n",
       "Interpersonal Conflicts    0.680000\n",
       "Maternity or Family        0.620000\n",
       "Study or Travel            0.660000\n",
       "Poor Health                0.606667\n",
       "Fraction Female            0.646667\n",
       "dtype: float64"
      ]
     },
     "execution_count": 250,
     "metadata": {},
     "output_type": "execute_result"
    }
   ],
   "source": [
    "frac_dissatisfied"
   ]
  },
  {
   "cell_type": "code",
   "execution_count": 251,
   "metadata": {},
   "outputs": [
    {
     "data": {
      "text/plain": [
       "Text(0, 0.5, 'Proportion of Dissatsified Respondants')"
      ]
     },
     "execution_count": 251,
     "metadata": {},
     "output_type": "execute_result"
    },
    {
     "data": {
      "image/png": "[encoded data removed]",
      "text/plain": [
       "<Figure size 600x400 with 1 Axes>"
      ]
     },
     "metadata": {},
     "output_type": "display_data"
    }
   ],
   "source": [
    "frac_dissatisfied[:-1].plot(kind='bar')\n",
    "plt.title('Characteristics of Dissatisfied Respondants')\n",
    "plt.xlabel('Characteristic or Factor')\n",
    "plt.ylabel('Proportion of Dissatsified Respondants')"
   ]
  },
  {
   "cell_type": "markdown",
   "metadata": {},
   "source": [
    "**Those who moved to the private sector were the least dissatisfied. Those with interpersonal conflicts were the most dissatisfied.**"
   ]
  },
  {
   "cell_type": "code",
   "execution_count": 253,
   "metadata": {},
   "outputs": [],
   "source": [
    "frac_dissatisfied['Fraction Male']=1-frac_dissatisfied['Fraction Female']"
   ]
  },
  {
   "cell_type": "code",
   "execution_count": 254,
   "metadata": {},
   "outputs": [
    {
     "data": {
      "text/plain": [
       "Move to Private Sector     0.473333\n",
       "Move to Public Sector      0.593333\n",
       "Interpersonal Conflicts    0.680000\n",
       "Maternity or Family        0.620000\n",
       "Study or Travel            0.660000\n",
       "Poor Health                0.606667\n",
       "Fraction Female            0.646667\n",
       "Fraction Male              0.353333\n",
       "dtype: float64"
      ]
     },
     "execution_count": 254,
     "metadata": {},
     "output_type": "execute_result"
    }
   ],
   "source": [
    "frac_dissatisfied"
   ]
  },
  {
   "cell_type": "code",
   "execution_count": 255,
   "metadata": {},
   "outputs": [
    {
     "data": {
      "text/plain": [
       "Text(0, 0.5, 'Fractionn dissatisifed')"
      ]
     },
     "execution_count": 255,
     "metadata": {},
     "output_type": "execute_result"
    },
    {
     "data": {
      "image/png": "[encoded data removed]",
      "text/plain": [
       "<Figure size 600x400 with 1 Axes>"
      ]
     },
     "metadata": {},
     "output_type": "display_data"
    }
   ],
   "source": [
    "frac_dissatisfied[-2:].plot(kind='bar')\n",
    "plt.title('Gender breakdown of those dissatisfied')\n",
    "plt.xlabel('Gender')\n",
    "plt.ylabel('Fractionn dissatisifed')"
   ]
  },
  {
   "cell_type": "markdown",
   "metadata": {},
   "source": [
    "**More women than men were dissatisified. I have not yet compared to the number of women vs men total.**"
   ]
  },
  {
   "cell_type": "markdown",
   "metadata": {},
   "source": [
    "# Total men vs woman comparison"
   ]
  },
  {
   "cell_type": "code",
   "execution_count": 257,
   "metadata": {},
   "outputs": [
    {
     "name": "stdout",
     "output_type": "stream",
     "text": [
      "<class 'pandas.core.frame.DataFrame'>\n",
      "Int64Index: 358 entries, 424 to 534\n",
      "Data columns (total 34 columns):\n",
      " #   Column                         Non-Null Count  Dtype  \n",
      "---  ------                         --------------  -----  \n",
      " 0   id                             358 non-null    float64\n",
      " 1   separationtype                 358 non-null    object \n",
      " 2   cease_date                     358 non-null    float64\n",
      " 3   dete_start_date                228 non-null    float64\n",
      " 4   role_start_date                219 non-null    float64\n",
      " 5   position                       355 non-null    object \n",
      " 6   employment_status              356 non-null    object \n",
      " 7   career_move_to_public_sector   358 non-null    object \n",
      " 8   career_move_to_private_sector  358 non-null    object \n",
      " 9   interpersonal_conflicts        358 non-null    object \n",
      " 10  job_dissatisfaction            358 non-null    object \n",
      " 11  dissatisfaction                358 non-null    object \n",
      " 12  physical_work_environment      252 non-null    object \n",
      " 13  lack_of_recognition            252 non-null    object \n",
      " 14  lack_of_job_security           252 non-null    object \n",
      " 15  work_location                  252 non-null    object \n",
      " 16  employment_conditions          252 non-null    object \n",
      " 17  maternity/family               358 non-null    object \n",
      " 18  relocation                     252 non-null    object \n",
      " 19  study/travel                   358 non-null    bool   \n",
      " 20  ill_health                     358 non-null    object \n",
      " 21  traumatic_incident             252 non-null    object \n",
      " 22  work_life_balance              252 non-null    object \n",
      " 23  workload                       252 non-null    object \n",
      " 24  none_of_the_above              252 non-null    object \n",
      " 25  gender                         353 non-null    object \n",
      " 26  age                            358 non-null    object \n",
      " 27  institute_service              334 non-null    object \n",
      " 28  institute_service_category     358 non-null    object \n",
      " 29  dissatisfied                   358 non-null    bool   \n",
      " 30  survey_institute               358 non-null    object \n",
      " 31  dissatisfied_number            358 non-null    int64  \n",
      " 32  age_range                      358 non-null    object \n",
      " 33  sort_age_range                 358 non-null    int64  \n",
      "dtypes: bool(2), float64(4), int64(2), object(26)\n",
      "memory usage: 93.0+ KB\n"
     ]
    }
   ],
   "source": [
    "combined_age.info()"
   ]
  },
  {
   "cell_type": "markdown",
   "metadata": {},
   "source": [
    "the dissatisfied people table was built on the combined age table by selecting only those dissatisfied. So we can determine the overall gender distribution by considering the distribution in the combined age table. We can determine the gender distribution of those who were satisfied by selecting those satisfied from that table. "
   ]
  },
  {
   "cell_type": "code",
   "execution_count": 264,
   "metadata": {},
   "outputs": [],
   "source": [
    "satisfied_people=combined_age[combined_age['dissatisfied'] == False].copy()"
   ]
  },
  {
   "cell_type": "code",
   "execution_count": 265,
   "metadata": {},
   "outputs": [
    {
     "name": "stdout",
     "output_type": "stream",
     "text": [
      "<class 'pandas.core.frame.DataFrame'>\n",
      "Int64Index: 208 entries, 544 to 534\n",
      "Data columns (total 34 columns):\n",
      " #   Column                         Non-Null Count  Dtype  \n",
      "---  ------                         --------------  -----  \n",
      " 0   id                             208 non-null    float64\n",
      " 1   separationtype                 208 non-null    object \n",
      " 2   cease_date                     208 non-null    float64\n",
      " 3   dete_start_date                181 non-null    float64\n",
      " 4   role_start_date                174 non-null    float64\n",
      " 5   position                       207 non-null    object \n",
      " 6   employment_status              207 non-null    object \n",
      " 7   career_move_to_public_sector   208 non-null    object \n",
      " 8   career_move_to_private_sector  208 non-null    object \n",
      " 9   interpersonal_conflicts        208 non-null    object \n",
      " 10  job_dissatisfaction            208 non-null    object \n",
      " 11  dissatisfaction                208 non-null    object \n",
      " 12  physical_work_environment      201 non-null    object \n",
      " 13  lack_of_recognition            201 non-null    object \n",
      " 14  lack_of_job_security           201 non-null    object \n",
      " 15  work_location                  201 non-null    object \n",
      " 16  employment_conditions          201 non-null    object \n",
      " 17  maternity/family               208 non-null    object \n",
      " 18  relocation                     201 non-null    object \n",
      " 19  study/travel                   208 non-null    bool   \n",
      " 20  ill_health                     208 non-null    object \n",
      " 21  traumatic_incident             201 non-null    object \n",
      " 22  work_life_balance              201 non-null    object \n",
      " 23  workload                       201 non-null    object \n",
      " 24  none_of_the_above              201 non-null    object \n",
      " 25  gender                         205 non-null    object \n",
      " 26  age                            208 non-null    object \n",
      " 27  institute_service              188 non-null    object \n",
      " 28  institute_service_category     208 non-null    object \n",
      " 29  dissatisfied                   208 non-null    bool   \n",
      " 30  survey_institute               208 non-null    object \n",
      " 31  dissatisfied_number            208 non-null    int64  \n",
      " 32  age_range                      208 non-null    object \n",
      " 33  sort_age_range                 208 non-null    int64  \n",
      "dtypes: bool(2), float64(4), int64(2), object(26)\n",
      "memory usage: 54.0+ KB\n"
     ]
    }
   ],
   "source": [
    "satisfied_people.info()"
   ]
  },
  {
   "cell_type": "code",
   "execution_count": 266,
   "metadata": {},
   "outputs": [],
   "source": [
    "satisfied_people['gender_TF']=satisfied_people['gender'].apply(map_gender)"
   ]
  },
  {
   "cell_type": "code",
   "execution_count": 271,
   "metadata": {},
   "outputs": [],
   "source": [
    "satisfied_gender=satisfied_people['gender_TF'].value_counts(dropna=False)"
   ]
  },
  {
   "cell_type": "code",
   "execution_count": 272,
   "metadata": {},
   "outputs": [
    {
     "data": {
      "text/plain": [
       "True     159\n",
       "False     46\n",
       "NaN        3\n",
       "Name: gender_TF, dtype: int64"
      ]
     },
     "execution_count": 272,
     "metadata": {},
     "output_type": "execute_result"
    }
   ],
   "source": [
    "satisfied_gender"
   ]
  },
  {
   "cell_type": "code",
   "execution_count": 279,
   "metadata": {},
   "outputs": [],
   "source": [
    "satisfied_women,satisfied_men = satisfied_gender.loc[True],satisfied_gender.loc[False]"
   ]
  },
  {
   "cell_type": "code",
   "execution_count": 280,
   "metadata": {},
   "outputs": [
    {
     "data": {
      "text/plain": [
       "159"
      ]
     },
     "execution_count": 280,
     "metadata": {},
     "output_type": "execute_result"
    }
   ],
   "source": [
    "satisfied_women"
   ]
  },
  {
   "cell_type": "code",
   "execution_count": 281,
   "metadata": {},
   "outputs": [
    {
     "data": {
      "text/plain": [
       "46"
      ]
     },
     "execution_count": 281,
     "metadata": {},
     "output_type": "execute_result"
    }
   ],
   "source": [
    "satisfied_men"
   ]
  },
  {
   "cell_type": "code",
   "execution_count": 282,
   "metadata": {},
   "outputs": [],
   "source": [
    "dissatisfied_gender=dissatisfied_people['gender_TF'].value_counts(dropna=False)"
   ]
  },
  {
   "cell_type": "code",
   "execution_count": 283,
   "metadata": {},
   "outputs": [],
   "source": [
    "dissatisfied_women,dissatisfied_men=dissatisfied_gender.loc[True],dissatisfied_gender.loc[False]"
   ]
  },
  {
   "cell_type": "code",
   "execution_count": 284,
   "metadata": {},
   "outputs": [
    {
     "data": {
      "text/plain": [
       "53"
      ]
     },
     "execution_count": 284,
     "metadata": {},
     "output_type": "execute_result"
    }
   ],
   "source": [
    "dissatisfied_men"
   ]
  },
  {
   "cell_type": "code",
   "execution_count": 285,
   "metadata": {},
   "outputs": [
    {
     "data": {
      "text/plain": [
       "95"
      ]
     },
     "execution_count": 285,
     "metadata": {},
     "output_type": "execute_result"
    }
   ],
   "source": [
    "dissatisfied_women"
   ]
  },
  {
   "cell_type": "code",
   "execution_count": 286,
   "metadata": {},
   "outputs": [
    {
     "data": {
      "text/plain": [
       "True     95\n",
       "False    53\n",
       "NaN       2\n",
       "Name: gender_TF, dtype: int64"
      ]
     },
     "execution_count": 286,
     "metadata": {},
     "output_type": "execute_result"
    }
   ],
   "source": [
    "dissatisfied_gender"
   ]
  },
  {
   "cell_type": "code",
   "execution_count": 288,
   "metadata": {},
   "outputs": [
    {
     "data": {
      "text/plain": [
       "Text(0, 0.5, 'Number of former employees')"
      ]
     },
     "execution_count": 288,
     "metadata": {},
     "output_type": "execute_result"
    },
    {
     "data": {
      "image/png": "[encoded data removed]",
      "text/plain": [
       "<Figure size 600x400 with 1 Axes>"
      ]
     },
     "metadata": {},
     "output_type": "display_data"
    }
   ],
   "source": [
    "x = ['Men','Women']\n",
    "y1 = [dissatisfied_men, dissatisfied_women]\n",
    "y2 = [satisfied_men, satisfied_women]\n",
    "plt.bar(x,y1,color='r')\n",
    "plt.bar(x,y2,bottom=y1,color='b')\n",
    "plt.legend(['Dissatisfied','Satisfied'])\n",
    "plt.title('Number of dissatisfied vs total employees by gender')\n",
    "plt.xlabel('Gender')\n",
    "plt.ylabel('Number of former employees')"
   ]
  },
  {
   "cell_type": "code",
   "execution_count": 289,
   "metadata": {},
   "outputs": [],
   "source": [
    "total_men=dissatisfied_men+satisfied_men\n",
    "total_women=dissatisfied_women+satisfied_women\n",
    "pct_men=dissatisfied_men/total_men\n",
    "pct_women=dissatisfied_women/total_women"
   ]
  },
  {
   "cell_type": "code",
   "execution_count": 291,
   "metadata": {},
   "outputs": [
    {
     "data": {
      "text/plain": [
       "Text(0.5, 1.0, 'Percentage dissatisfied by gender')"
      ]
     },
     "execution_count": 291,
     "metadata": {},
     "output_type": "execute_result"
    },
    {
     "data": {
      "image/png": "[encoded data removed]",
      "text/plain": [
       "<Figure size 600x400 with 1 Axes>"
      ]
     },
     "metadata": {},
     "output_type": "display_data"
    }
   ],
   "source": [
    "plt.bar(x=['Men','Women'],height=[pct_men,pct_women])\n",
    "plt.xlabel('Gender')\n",
    "plt.ylabel('Percent of Employees Dissatisfied')\n",
    "plt.title('Percentage dissatisfied by gender')"
   ]
  },
  {
   "cell_type": "markdown",
   "metadata": {},
   "source": [
    "**Although more women resigned, and in an absolute sense there were a larger number of dissatisfied women, a higher proportion of the number of men who resigned were dissatisfied.**"
   ]
  },
  {
   "cell_type": "markdown",
   "metadata": {},
   "source": [
    "I really could keep going and analyze factor influences by gender and age, but I think I have to cut this project off in the interest of learning more. I'm going to skip formatting and documentation as well, in the interest of moving on to the next section! This project has been a ton of fun, and I really enjoy exploring the data!"
   ]
  },
  {
   "cell_type": "code",
   "execution_count": null,
   "metadata": {},
   "outputs": [],
   "source": []
  }
 ],
 "metadata": {
  "kernelspec": {
   "display_name": "Python 3",
   "language": "python",
   "name": "python3"
  },
  "language_info": {
   "codemirror_mode": {
    "name": "ipython",
    "version": 3
   },
   "file_extension": ".py",
   "mimetype": "text/x-python",
   "name": "python",
   "nbconvert_exporter": "python",
   "pygments_lexer": "ipython3",
   "version": "3.8.2"
  }
 },
 "nbformat": 4,
 "nbformat_minor": 2
}
